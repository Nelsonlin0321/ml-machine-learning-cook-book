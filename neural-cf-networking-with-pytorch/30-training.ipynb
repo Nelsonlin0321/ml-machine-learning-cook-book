{
 "cells": [
  {
   "cell_type": "code",
   "execution_count": 1,
   "metadata": {},
   "outputs": [],
   "source": [
    "%load_ext autoreload\n",
    "%autoreload 2"
   ]
  },
  {
   "cell_type": "code",
   "execution_count": 2,
   "metadata": {},
   "outputs": [],
   "source": [
    "import os\n",
    "import utils\n",
    "import torch\n",
    "import random\n",
    "import mlflow\n",
    "import dotenv\n",
    "import pandas as pd\n",
    "import numpy as np\n",
    "from tqdm import tqdm\n",
    "from sklearn import metrics\n",
    "from model import NeuMF\n",
    "from dataset import RatingDataset\n",
    "from torch.utils.data import DataLoader"
   ]
  },
  {
   "cell_type": "code",
   "execution_count": null,
   "metadata": {},
   "outputs": [],
   "source": [
    "torch.manual_seed(0)\n",
    "random.seed(0)\n",
    "np.random.seed(0)"
   ]
  },
  {
   "cell_type": "code",
   "execution_count": 3,
   "metadata": {},
   "outputs": [],
   "source": [
    "TRACKING_URL = \"http://175.41.182.223:5050/\"\n",
    "EXPERIMENT_NAME =\"movielens-rating-recommender\""
   ]
  },
  {
   "cell_type": "code",
   "execution_count": 4,
   "metadata": {},
   "outputs": [
    {
     "data": {
      "text/plain": [
       "True"
      ]
     },
     "execution_count": 4,
     "metadata": {},
     "output_type": "execute_result"
    }
   ],
   "source": [
    "dotenv.load_dotenv(\"./.env\")"
   ]
  },
  {
   "attachments": {},
   "cell_type": "markdown",
   "metadata": {},
   "source": [
    "## (1) Load Artifacts"
   ]
  },
  {
   "cell_type": "code",
   "execution_count": 5,
   "metadata": {},
   "outputs": [],
   "source": [
    "use_id_map_pkl_file = \"./artifacts/user_id_map_dict.pkl\"\n",
    "user_id_map_dict = utils.open_object(use_id_map_pkl_file)\n",
    "\n",
    "movie_id_map_pkl_file = \"./artifacts/movie_id_map_dict.pkl\"\n",
    "movie_id_map_dict = utils.open_object(movie_id_map_pkl_file)\n",
    "\n",
    "\n",
    "genres_map_pkl_file = \"./artifacts/genres_map_dict.pkl\"\n",
    "genres_map_dict = utils.open_object(genres_map_pkl_file)\n"
   ]
  },
  {
   "cell_type": "code",
   "execution_count": 6,
   "metadata": {},
   "outputs": [],
   "source": [
    "num_user = len(user_id_map_dict)\n",
    "num_movie = len(movie_id_map_dict)\n",
    "num_genere = len(genres_map_dict)"
   ]
  },
  {
   "attachments": {},
   "cell_type": "markdown",
   "metadata": {},
   "source": [
    "## (2) Parameter"
   ]
  },
  {
   "cell_type": "code",
   "execution_count": 7,
   "metadata": {},
   "outputs": [],
   "source": [
    "config_dict={}\n",
    "config_dict['num_user'] = num_user \n",
    "config_dict['num_item'] = num_movie \n",
    "config_dict['num_genere'] = num_genere\n",
    "config_dict['latent_dim_mlp'] =  64\n",
    "config_dict['latent_dim_mf']=config_dict['latent_dim_mlp']\n",
    "config_dict['layers'] = [config_dict['latent_dim_mf']*2]+[64,32]\n",
    "config_dict['num_layers'] = len(config_dict['layers'])\n",
    "config_dict['dropout_rate_mf']=0.6\n",
    "config_dict['dropout_rate_mlp']=0.6\n",
    "config_dict['batch_size']=32\n",
    "config_dict['epoches']=5\n",
    "config_dict['eval_steps']=500\n",
    "config_dict['use_xavier_uniform']=True"
   ]
  },
  {
   "cell_type": "code",
   "execution_count": 8,
   "metadata": {},
   "outputs": [
    {
     "data": {
      "text/plain": [
       "{'num_user': 611,\n",
       " 'num_item': 9725,\n",
       " 'num_genere': 21,\n",
       " 'latent_dim_mlp': 64,\n",
       " 'latent_dim_mf': 64,\n",
       " 'layers': [128, 64, 32],\n",
       " 'dropout_rate_mf': 0.7,\n",
       " 'dropout_rate_mlp': 0.7,\n",
       " 'batch_size': 32,\n",
       " 'epoches': 5,\n",
       " 'eval_steps': 500}"
      ]
     },
     "execution_count": 8,
     "metadata": {},
     "output_type": "execute_result"
    }
   ],
   "source": [
    "config_dict"
   ]
  },
  {
   "cell_type": "code",
   "execution_count": 9,
   "metadata": {},
   "outputs": [],
   "source": [
    "class Config:\n",
    "    def __init__(self, dictionary):\n",
    "        for key, value in dictionary.items():\n",
    "            setattr(self, key, value)"
   ]
  },
  {
   "attachments": {},
   "cell_type": "markdown",
   "metadata": {},
   "source": [
    "## (3) Build Model"
   ]
  },
  {
   "cell_type": "code",
   "execution_count": 10,
   "metadata": {},
   "outputs": [],
   "source": [
    "config = Config(dictionary=config_dict)"
   ]
  },
  {
   "cell_type": "code",
   "execution_count": 11,
   "metadata": {},
   "outputs": [],
   "source": [
    "model = NeuMF(config=config)"
   ]
  },
  {
   "attachments": {},
   "cell_type": "markdown",
   "metadata": {},
   "source": [
    "## (4) Load Data"
   ]
  },
  {
   "cell_type": "code",
   "execution_count": 12,
   "metadata": {},
   "outputs": [],
   "source": [
    "df_train = pd.read_parquet(\"./data/train.parquet\")\n",
    "df_test = pd.read_parquet(\"./data/test.parquet\")"
   ]
  },
  {
   "cell_type": "code",
   "execution_count": 13,
   "metadata": {},
   "outputs": [],
   "source": [
    "train_dataset = RatingDataset(data=df_train)\n",
    "test_dataset = RatingDataset(data=df_test)"
   ]
  },
  {
   "cell_type": "code",
   "execution_count": 14,
   "metadata": {},
   "outputs": [
    {
     "data": {
      "text/plain": [
       "{'user_embed_id': tensor([ 64, 141, 385, 182,  73,  63, 504,   9,  23, 309]),\n",
       " 'movie_embed_id': tensor([1887,  876,   72,   90, 3541,  181,  429,   71, 2070, 2050]),\n",
       " 'rating': tensor([0.6000, 0.9000, 1.0000, 0.7000, 0.4000, 1.0000, 0.8000, 1.0000, 0.6000,\n",
       "         0.8000])}"
      ]
     },
     "execution_count": 14,
     "metadata": {},
     "output_type": "execute_result"
    }
   ],
   "source": [
    "train_dataset[:10]"
   ]
  },
  {
   "cell_type": "code",
   "execution_count": 15,
   "metadata": {},
   "outputs": [],
   "source": [
    "train_loader = DataLoader(\n",
    "    train_dataset, batch_size=config.batch_size, shuffle=True)\n",
    "test_loader = DataLoader(\n",
    "    test_dataset, batch_size=config.batch_size, shuffle=True)"
   ]
  },
  {
   "cell_type": "code",
   "execution_count": 16,
   "metadata": {},
   "outputs": [],
   "source": [
    "for sample in train_loader:\n",
    "    break"
   ]
  },
  {
   "cell_type": "code",
   "execution_count": 17,
   "metadata": {},
   "outputs": [],
   "source": [
    "with torch.no_grad():\n",
    "    outputs = model(\n",
    "        user_indices=sample['user_embed_id'],\n",
    "        item_indices=sample['movie_embed_id'])"
   ]
  },
  {
   "cell_type": "code",
   "execution_count": 18,
   "metadata": {},
   "outputs": [
    {
     "name": "stdout",
     "output_type": "stream",
     "text": [
      "tensor(0.7010)\n"
     ]
    }
   ],
   "source": [
    "loss_func = torch.nn.BCELoss()\n",
    "loss = loss_func(outputs, sample['rating'].view(-1, 1))\n",
    "print(loss)"
   ]
  },
  {
   "cell_type": "code",
   "execution_count": 19,
   "metadata": {},
   "outputs": [
    {
     "data": {
      "text/plain": [
       "0.09363675"
      ]
     },
     "execution_count": 19,
     "metadata": {},
     "output_type": "execute_result"
    }
   ],
   "source": [
    "metrics.mean_squared_error(outputs.numpy().flatten(),\n",
    "                           sample['rating'].numpy())"
   ]
  },
  {
   "attachments": {},
   "cell_type": "markdown",
   "metadata": {},
   "source": [
    "## (5) Trainning"
   ]
  },
  {
   "attachments": {},
   "cell_type": "markdown",
   "metadata": {},
   "source": [
    "#### Before Training"
   ]
  },
  {
   "cell_type": "code",
   "execution_count": 20,
   "metadata": {},
   "outputs": [],
   "source": [
    "from evaluation import evaluate"
   ]
  },
  {
   "cell_type": "code",
   "execution_count": 21,
   "metadata": {},
   "outputs": [
    {
     "name": "stderr",
     "output_type": "stream",
     "text": [
      "Model Evaluating: 100%|██████████| 316/316 [00:00<00:00, 653.82it/s]\n"
     ]
    },
    {
     "data": {
      "text/plain": [
       "{'eval_loss': 0.7010422026432013, 'eval_mse': 0.08709225654966557}"
      ]
     },
     "execution_count": 21,
     "metadata": {},
     "output_type": "execute_result"
    }
   ],
   "source": [
    "evaluate(model,test_loader)"
   ]
  },
  {
   "cell_type": "code",
   "execution_count": 22,
   "metadata": {},
   "outputs": [],
   "source": [
    "optimizer = torch.optim.AdamW(model.parameters(),lr=0.01)"
   ]
  },
  {
   "cell_type": "code",
   "execution_count": 23,
   "metadata": {},
   "outputs": [],
   "source": [
    "total_batch = 0\n",
    "best_eval_loss =  float(\"inf\")\n",
    "best_checkpoint = 0"
   ]
  },
  {
   "cell_type": "code",
   "execution_count": 24,
   "metadata": {},
   "outputs": [],
   "source": [
    "from utils import save_model\n",
    "model_version='v1'"
   ]
  },
  {
   "cell_type": "code",
   "execution_count": 25,
   "metadata": {
    "scrolled": false
   },
   "outputs": [
    {
     "name": "stderr",
     "output_type": "stream",
     "text": [
      "Model Training:   0%|          | 21/14180 [00:00<04:32, 51.99it/s] "
     ]
    },
    {
     "name": "stdout",
     "output_type": "stream",
     "text": [
      "**************************************************epoch: 1**************************************************\n"
     ]
    },
    {
     "name": "stderr",
     "output_type": "stream",
     "text": [
      "Model Evaluating: 100%|██████████| 316/316 [00:00<00:00, 689.61it/s]\n"
     ]
    },
    {
     "data": {
      "text/html": [
       "<div>\n",
       "<style scoped>\n",
       "    .dataframe tbody tr th:only-of-type {\n",
       "        vertical-align: middle;\n",
       "    }\n",
       "\n",
       "    .dataframe tbody tr th {\n",
       "        vertical-align: top;\n",
       "    }\n",
       "\n",
       "    .dataframe thead th {\n",
       "        text-align: right;\n",
       "    }\n",
       "</style>\n",
       "<table border=\"1\" class=\"dataframe\">\n",
       "  <thead>\n",
       "    <tr style=\"text-align: right;\">\n",
       "      <th></th>\n",
       "      <th>eval_loss</th>\n",
       "      <th>eval_mse</th>\n",
       "      <th>best_eval_loss</th>\n",
       "      <th>train_loss</th>\n",
       "      <th>train_mse</th>\n",
       "      <th>steps</th>\n",
       "      <th>best_checkpoint</th>\n",
       "    </tr>\n",
       "  </thead>\n",
       "  <tbody>\n",
       "    <tr>\n",
       "      <th>0</th>\n",
       "      <td>0.603502</td>\n",
       "      <td>0.039984</td>\n",
       "      <td>0.603502</td>\n",
       "      <td>0.606373</td>\n",
       "      <td>0.041682</td>\n",
       "      <td>500</td>\n",
       "      <td>500</td>\n",
       "    </tr>\n",
       "  </tbody>\n",
       "</table>\n",
       "</div>"
      ],
      "text/plain": [
       "   eval_loss  eval_mse  best_eval_loss  train_loss  train_mse  steps  \\\n",
       "0   0.603502  0.039984        0.603502    0.606373   0.041682    500   \n",
       "\n",
       "   best_checkpoint  \n",
       "0              500  "
      ]
     },
     "metadata": {},
     "output_type": "display_data"
    },
    {
     "name": "stderr",
     "output_type": "stream",
     "text": [
      "Model Evaluating: 100%|██████████| 316/316 [00:00<00:00, 690.48it/s]\n"
     ]
    },
    {
     "data": {
      "text/html": [
       "<div>\n",
       "<style scoped>\n",
       "    .dataframe tbody tr th:only-of-type {\n",
       "        vertical-align: middle;\n",
       "    }\n",
       "\n",
       "    .dataframe tbody tr th {\n",
       "        vertical-align: top;\n",
       "    }\n",
       "\n",
       "    .dataframe thead th {\n",
       "        text-align: right;\n",
       "    }\n",
       "</style>\n",
       "<table border=\"1\" class=\"dataframe\">\n",
       "  <thead>\n",
       "    <tr style=\"text-align: right;\">\n",
       "      <th></th>\n",
       "      <th>eval_loss</th>\n",
       "      <th>eval_mse</th>\n",
       "      <th>best_eval_loss</th>\n",
       "      <th>train_loss</th>\n",
       "      <th>train_mse</th>\n",
       "      <th>steps</th>\n",
       "      <th>best_checkpoint</th>\n",
       "    </tr>\n",
       "  </thead>\n",
       "  <tbody>\n",
       "    <tr>\n",
       "      <th>0</th>\n",
       "      <td>0.602852</td>\n",
       "      <td>0.039694</td>\n",
       "      <td>0.602852</td>\n",
       "      <td>0.60289</td>\n",
       "      <td>0.040266</td>\n",
       "      <td>1000</td>\n",
       "      <td>1000</td>\n",
       "    </tr>\n",
       "  </tbody>\n",
       "</table>\n",
       "</div>"
      ],
      "text/plain": [
       "   eval_loss  eval_mse  best_eval_loss  train_loss  train_mse  steps  \\\n",
       "0   0.602852  0.039694        0.602852     0.60289   0.040266   1000   \n",
       "\n",
       "   best_checkpoint  \n",
       "0             1000  "
      ]
     },
     "metadata": {},
     "output_type": "display_data"
    },
    {
     "name": "stderr",
     "output_type": "stream",
     "text": [
      "Model Evaluating: 100%|██████████| 316/316 [00:00<00:00, 676.92it/s]]\n"
     ]
    },
    {
     "data": {
      "text/html": [
       "<div>\n",
       "<style scoped>\n",
       "    .dataframe tbody tr th:only-of-type {\n",
       "        vertical-align: middle;\n",
       "    }\n",
       "\n",
       "    .dataframe tbody tr th {\n",
       "        vertical-align: top;\n",
       "    }\n",
       "\n",
       "    .dataframe thead th {\n",
       "        text-align: right;\n",
       "    }\n",
       "</style>\n",
       "<table border=\"1\" class=\"dataframe\">\n",
       "  <thead>\n",
       "    <tr style=\"text-align: right;\">\n",
       "      <th></th>\n",
       "      <th>eval_loss</th>\n",
       "      <th>eval_mse</th>\n",
       "      <th>best_eval_loss</th>\n",
       "      <th>train_loss</th>\n",
       "      <th>train_mse</th>\n",
       "      <th>steps</th>\n",
       "      <th>best_checkpoint</th>\n",
       "    </tr>\n",
       "  </thead>\n",
       "  <tbody>\n",
       "    <tr>\n",
       "      <th>0</th>\n",
       "      <td>0.603747</td>\n",
       "      <td>0.040127</td>\n",
       "      <td>0.602852</td>\n",
       "      <td>0.601028</td>\n",
       "      <td>0.039543</td>\n",
       "      <td>1500</td>\n",
       "      <td>1000</td>\n",
       "    </tr>\n",
       "  </tbody>\n",
       "</table>\n",
       "</div>"
      ],
      "text/plain": [
       "   eval_loss  eval_mse  best_eval_loss  train_loss  train_mse  steps  \\\n",
       "0   0.603747  0.040127        0.602852    0.601028   0.039543   1500   \n",
       "\n",
       "   best_checkpoint  \n",
       "0             1000  "
      ]
     },
     "metadata": {},
     "output_type": "display_data"
    },
    {
     "name": "stderr",
     "output_type": "stream",
     "text": [
      "Model Evaluating: 100%|██████████| 316/316 [00:00<00:00, 695.75it/s]]\n"
     ]
    },
    {
     "data": {
      "text/html": [
       "<div>\n",
       "<style scoped>\n",
       "    .dataframe tbody tr th:only-of-type {\n",
       "        vertical-align: middle;\n",
       "    }\n",
       "\n",
       "    .dataframe tbody tr th {\n",
       "        vertical-align: top;\n",
       "    }\n",
       "\n",
       "    .dataframe thead th {\n",
       "        text-align: right;\n",
       "    }\n",
       "</style>\n",
       "<table border=\"1\" class=\"dataframe\">\n",
       "  <thead>\n",
       "    <tr style=\"text-align: right;\">\n",
       "      <th></th>\n",
       "      <th>eval_loss</th>\n",
       "      <th>eval_mse</th>\n",
       "      <th>best_eval_loss</th>\n",
       "      <th>train_loss</th>\n",
       "      <th>train_mse</th>\n",
       "      <th>steps</th>\n",
       "      <th>best_checkpoint</th>\n",
       "    </tr>\n",
       "  </thead>\n",
       "  <tbody>\n",
       "    <tr>\n",
       "      <th>0</th>\n",
       "      <td>0.601969</td>\n",
       "      <td>0.039561</td>\n",
       "      <td>0.601969</td>\n",
       "      <td>0.600775</td>\n",
       "      <td>0.039321</td>\n",
       "      <td>2000</td>\n",
       "      <td>2000</td>\n",
       "    </tr>\n",
       "  </tbody>\n",
       "</table>\n",
       "</div>"
      ],
      "text/plain": [
       "   eval_loss  eval_mse  best_eval_loss  train_loss  train_mse  steps  \\\n",
       "0   0.601969  0.039561        0.601969    0.600775   0.039321   2000   \n",
       "\n",
       "   best_checkpoint  \n",
       "0             2000  "
      ]
     },
     "metadata": {},
     "output_type": "display_data"
    },
    {
     "name": "stderr",
     "output_type": "stream",
     "text": [
      "Model Evaluating: 100%|██████████| 316/316 [00:00<00:00, 681.55it/s]]\n"
     ]
    },
    {
     "data": {
      "text/html": [
       "<div>\n",
       "<style scoped>\n",
       "    .dataframe tbody tr th:only-of-type {\n",
       "        vertical-align: middle;\n",
       "    }\n",
       "\n",
       "    .dataframe tbody tr th {\n",
       "        vertical-align: top;\n",
       "    }\n",
       "\n",
       "    .dataframe thead th {\n",
       "        text-align: right;\n",
       "    }\n",
       "</style>\n",
       "<table border=\"1\" class=\"dataframe\">\n",
       "  <thead>\n",
       "    <tr style=\"text-align: right;\">\n",
       "      <th></th>\n",
       "      <th>eval_loss</th>\n",
       "      <th>eval_mse</th>\n",
       "      <th>best_eval_loss</th>\n",
       "      <th>train_loss</th>\n",
       "      <th>train_mse</th>\n",
       "      <th>steps</th>\n",
       "      <th>best_checkpoint</th>\n",
       "    </tr>\n",
       "  </thead>\n",
       "  <tbody>\n",
       "    <tr>\n",
       "      <th>0</th>\n",
       "      <td>0.600286</td>\n",
       "      <td>0.038943</td>\n",
       "      <td>0.600286</td>\n",
       "      <td>0.599917</td>\n",
       "      <td>0.038998</td>\n",
       "      <td>2500</td>\n",
       "      <td>2500</td>\n",
       "    </tr>\n",
       "  </tbody>\n",
       "</table>\n",
       "</div>"
      ],
      "text/plain": [
       "   eval_loss  eval_mse  best_eval_loss  train_loss  train_mse  steps  \\\n",
       "0   0.600286  0.038943        0.600286    0.599917   0.038998   2500   \n",
       "\n",
       "   best_checkpoint  \n",
       "0             2500  "
      ]
     },
     "metadata": {},
     "output_type": "display_data"
    },
    {
     "name": "stderr",
     "output_type": "stream",
     "text": [
      "Model Training:  20%|██        | 2869/14180 [00:30<00:51, 219.52it/s]"
     ]
    },
    {
     "name": "stdout",
     "output_type": "stream",
     "text": [
      "**************************************************epoch: 2**************************************************\n"
     ]
    },
    {
     "name": "stderr",
     "output_type": "stream",
     "text": [
      "Model Evaluating: 100%|██████████| 316/316 [00:00<00:00, 683.57it/s]]\n"
     ]
    },
    {
     "data": {
      "text/html": [
       "<div>\n",
       "<style scoped>\n",
       "    .dataframe tbody tr th:only-of-type {\n",
       "        vertical-align: middle;\n",
       "    }\n",
       "\n",
       "    .dataframe tbody tr th {\n",
       "        vertical-align: top;\n",
       "    }\n",
       "\n",
       "    .dataframe thead th {\n",
       "        text-align: right;\n",
       "    }\n",
       "</style>\n",
       "<table border=\"1\" class=\"dataframe\">\n",
       "  <thead>\n",
       "    <tr style=\"text-align: right;\">\n",
       "      <th></th>\n",
       "      <th>eval_loss</th>\n",
       "      <th>eval_mse</th>\n",
       "      <th>best_eval_loss</th>\n",
       "      <th>train_loss</th>\n",
       "      <th>train_mse</th>\n",
       "      <th>steps</th>\n",
       "      <th>best_checkpoint</th>\n",
       "    </tr>\n",
       "  </thead>\n",
       "  <tbody>\n",
       "    <tr>\n",
       "      <th>0</th>\n",
       "      <td>0.603511</td>\n",
       "      <td>0.040065</td>\n",
       "      <td>0.600286</td>\n",
       "      <td>0.591902</td>\n",
       "      <td>0.036456</td>\n",
       "      <td>3000</td>\n",
       "      <td>2500</td>\n",
       "    </tr>\n",
       "  </tbody>\n",
       "</table>\n",
       "</div>"
      ],
      "text/plain": [
       "   eval_loss  eval_mse  best_eval_loss  train_loss  train_mse  steps  \\\n",
       "0   0.603511  0.040065        0.600286    0.591902   0.036456   3000   \n",
       "\n",
       "   best_checkpoint  \n",
       "0             2500  "
      ]
     },
     "metadata": {},
     "output_type": "display_data"
    },
    {
     "name": "stderr",
     "output_type": "stream",
     "text": [
      "Model Evaluating: 100%|██████████| 316/316 [00:00<00:00, 683.08it/s]]\n"
     ]
    },
    {
     "data": {
      "text/html": [
       "<div>\n",
       "<style scoped>\n",
       "    .dataframe tbody tr th:only-of-type {\n",
       "        vertical-align: middle;\n",
       "    }\n",
       "\n",
       "    .dataframe tbody tr th {\n",
       "        vertical-align: top;\n",
       "    }\n",
       "\n",
       "    .dataframe thead th {\n",
       "        text-align: right;\n",
       "    }\n",
       "</style>\n",
       "<table border=\"1\" class=\"dataframe\">\n",
       "  <thead>\n",
       "    <tr style=\"text-align: right;\">\n",
       "      <th></th>\n",
       "      <th>eval_loss</th>\n",
       "      <th>eval_mse</th>\n",
       "      <th>best_eval_loss</th>\n",
       "      <th>train_loss</th>\n",
       "      <th>train_mse</th>\n",
       "      <th>steps</th>\n",
       "      <th>best_checkpoint</th>\n",
       "    </tr>\n",
       "  </thead>\n",
       "  <tbody>\n",
       "    <tr>\n",
       "      <th>0</th>\n",
       "      <td>0.602031</td>\n",
       "      <td>0.039224</td>\n",
       "      <td>0.600286</td>\n",
       "      <td>0.595137</td>\n",
       "      <td>0.036765</td>\n",
       "      <td>3500</td>\n",
       "      <td>2500</td>\n",
       "    </tr>\n",
       "  </tbody>\n",
       "</table>\n",
       "</div>"
      ],
      "text/plain": [
       "   eval_loss  eval_mse  best_eval_loss  train_loss  train_mse  steps  \\\n",
       "0   0.602031  0.039224        0.600286    0.595137   0.036765   3500   \n",
       "\n",
       "   best_checkpoint  \n",
       "0             2500  "
      ]
     },
     "metadata": {},
     "output_type": "display_data"
    },
    {
     "name": "stderr",
     "output_type": "stream",
     "text": [
      "Model Evaluating: 100%|██████████| 316/316 [00:00<00:00, 652.24it/s]]\n"
     ]
    },
    {
     "data": {
      "text/html": [
       "<div>\n",
       "<style scoped>\n",
       "    .dataframe tbody tr th:only-of-type {\n",
       "        vertical-align: middle;\n",
       "    }\n",
       "\n",
       "    .dataframe tbody tr th {\n",
       "        vertical-align: top;\n",
       "    }\n",
       "\n",
       "    .dataframe thead th {\n",
       "        text-align: right;\n",
       "    }\n",
       "</style>\n",
       "<table border=\"1\" class=\"dataframe\">\n",
       "  <thead>\n",
       "    <tr style=\"text-align: right;\">\n",
       "      <th></th>\n",
       "      <th>eval_loss</th>\n",
       "      <th>eval_mse</th>\n",
       "      <th>best_eval_loss</th>\n",
       "      <th>train_loss</th>\n",
       "      <th>train_mse</th>\n",
       "      <th>steps</th>\n",
       "      <th>best_checkpoint</th>\n",
       "    </tr>\n",
       "  </thead>\n",
       "  <tbody>\n",
       "    <tr>\n",
       "      <th>0</th>\n",
       "      <td>0.601437</td>\n",
       "      <td>0.039344</td>\n",
       "      <td>0.600286</td>\n",
       "      <td>0.595233</td>\n",
       "      <td>0.037258</td>\n",
       "      <td>4000</td>\n",
       "      <td>2500</td>\n",
       "    </tr>\n",
       "  </tbody>\n",
       "</table>\n",
       "</div>"
      ],
      "text/plain": [
       "   eval_loss  eval_mse  best_eval_loss  train_loss  train_mse  steps  \\\n",
       "0   0.601437  0.039344        0.600286    0.595233   0.037258   4000   \n",
       "\n",
       "   best_checkpoint  \n",
       "0             2500  "
      ]
     },
     "metadata": {},
     "output_type": "display_data"
    },
    {
     "name": "stderr",
     "output_type": "stream",
     "text": [
      "Model Evaluating: 100%|██████████| 316/316 [00:00<00:00, 693.83it/s]]\n"
     ]
    },
    {
     "data": {
      "text/html": [
       "<div>\n",
       "<style scoped>\n",
       "    .dataframe tbody tr th:only-of-type {\n",
       "        vertical-align: middle;\n",
       "    }\n",
       "\n",
       "    .dataframe tbody tr th {\n",
       "        vertical-align: top;\n",
       "    }\n",
       "\n",
       "    .dataframe thead th {\n",
       "        text-align: right;\n",
       "    }\n",
       "</style>\n",
       "<table border=\"1\" class=\"dataframe\">\n",
       "  <thead>\n",
       "    <tr style=\"text-align: right;\">\n",
       "      <th></th>\n",
       "      <th>eval_loss</th>\n",
       "      <th>eval_mse</th>\n",
       "      <th>best_eval_loss</th>\n",
       "      <th>train_loss</th>\n",
       "      <th>train_mse</th>\n",
       "      <th>steps</th>\n",
       "      <th>best_checkpoint</th>\n",
       "    </tr>\n",
       "  </thead>\n",
       "  <tbody>\n",
       "    <tr>\n",
       "      <th>0</th>\n",
       "      <td>0.601971</td>\n",
       "      <td>0.039464</td>\n",
       "      <td>0.600286</td>\n",
       "      <td>0.595328</td>\n",
       "      <td>0.037211</td>\n",
       "      <td>4500</td>\n",
       "      <td>2500</td>\n",
       "    </tr>\n",
       "  </tbody>\n",
       "</table>\n",
       "</div>"
      ],
      "text/plain": [
       "   eval_loss  eval_mse  best_eval_loss  train_loss  train_mse  steps  \\\n",
       "0   0.601971  0.039464        0.600286    0.595328   0.037211   4500   \n",
       "\n",
       "   best_checkpoint  \n",
       "0             2500  "
      ]
     },
     "metadata": {},
     "output_type": "display_data"
    },
    {
     "name": "stderr",
     "output_type": "stream",
     "text": [
      "Model Evaluating: 100%|██████████| 316/316 [00:00<00:00, 691.98it/s]]\n"
     ]
    },
    {
     "data": {
      "text/html": [
       "<div>\n",
       "<style scoped>\n",
       "    .dataframe tbody tr th:only-of-type {\n",
       "        vertical-align: middle;\n",
       "    }\n",
       "\n",
       "    .dataframe tbody tr th {\n",
       "        vertical-align: top;\n",
       "    }\n",
       "\n",
       "    .dataframe thead th {\n",
       "        text-align: right;\n",
       "    }\n",
       "</style>\n",
       "<table border=\"1\" class=\"dataframe\">\n",
       "  <thead>\n",
       "    <tr style=\"text-align: right;\">\n",
       "      <th></th>\n",
       "      <th>eval_loss</th>\n",
       "      <th>eval_mse</th>\n",
       "      <th>best_eval_loss</th>\n",
       "      <th>train_loss</th>\n",
       "      <th>train_mse</th>\n",
       "      <th>steps</th>\n",
       "      <th>best_checkpoint</th>\n",
       "    </tr>\n",
       "  </thead>\n",
       "  <tbody>\n",
       "    <tr>\n",
       "      <th>0</th>\n",
       "      <td>0.601163</td>\n",
       "      <td>0.039228</td>\n",
       "      <td>0.600286</td>\n",
       "      <td>0.595693</td>\n",
       "      <td>0.037232</td>\n",
       "      <td>5000</td>\n",
       "      <td>2500</td>\n",
       "    </tr>\n",
       "  </tbody>\n",
       "</table>\n",
       "</div>"
      ],
      "text/plain": [
       "   eval_loss  eval_mse  best_eval_loss  train_loss  train_mse  steps  \\\n",
       "0   0.601163  0.039228        0.600286    0.595693   0.037232   5000   \n",
       "\n",
       "   best_checkpoint  \n",
       "0             2500  "
      ]
     },
     "metadata": {},
     "output_type": "display_data"
    },
    {
     "name": "stderr",
     "output_type": "stream",
     "text": [
      "Model Evaluating: 100%|██████████| 316/316 [00:00<00:00, 688.73it/s]]\n"
     ]
    },
    {
     "data": {
      "text/html": [
       "<div>\n",
       "<style scoped>\n",
       "    .dataframe tbody tr th:only-of-type {\n",
       "        vertical-align: middle;\n",
       "    }\n",
       "\n",
       "    .dataframe tbody tr th {\n",
       "        vertical-align: top;\n",
       "    }\n",
       "\n",
       "    .dataframe thead th {\n",
       "        text-align: right;\n",
       "    }\n",
       "</style>\n",
       "<table border=\"1\" class=\"dataframe\">\n",
       "  <thead>\n",
       "    <tr style=\"text-align: right;\">\n",
       "      <th></th>\n",
       "      <th>eval_loss</th>\n",
       "      <th>eval_mse</th>\n",
       "      <th>best_eval_loss</th>\n",
       "      <th>train_loss</th>\n",
       "      <th>train_mse</th>\n",
       "      <th>steps</th>\n",
       "      <th>best_checkpoint</th>\n",
       "    </tr>\n",
       "  </thead>\n",
       "  <tbody>\n",
       "    <tr>\n",
       "      <th>0</th>\n",
       "      <td>0.603002</td>\n",
       "      <td>0.04028</td>\n",
       "      <td>0.600286</td>\n",
       "      <td>0.595263</td>\n",
       "      <td>0.037044</td>\n",
       "      <td>5500</td>\n",
       "      <td>2500</td>\n",
       "    </tr>\n",
       "  </tbody>\n",
       "</table>\n",
       "</div>"
      ],
      "text/plain": [
       "   eval_loss  eval_mse  best_eval_loss  train_loss  train_mse  steps  \\\n",
       "0   0.603002   0.04028        0.600286    0.595263   0.037044   5500   \n",
       "\n",
       "   best_checkpoint  \n",
       "0             2500  "
      ]
     },
     "metadata": {},
     "output_type": "display_data"
    },
    {
     "name": "stderr",
     "output_type": "stream",
     "text": [
      "Model Training:  40%|████      | 5697/14180 [00:50<00:47, 179.29it/s]"
     ]
    },
    {
     "name": "stdout",
     "output_type": "stream",
     "text": [
      "**************************************************epoch: 3**************************************************\n"
     ]
    },
    {
     "name": "stderr",
     "output_type": "stream",
     "text": [
      "Model Evaluating: 100%|██████████| 316/316 [00:00<00:00, 685.37it/s]]\n"
     ]
    },
    {
     "data": {
      "text/html": [
       "<div>\n",
       "<style scoped>\n",
       "    .dataframe tbody tr th:only-of-type {\n",
       "        vertical-align: middle;\n",
       "    }\n",
       "\n",
       "    .dataframe tbody tr th {\n",
       "        vertical-align: top;\n",
       "    }\n",
       "\n",
       "    .dataframe thead th {\n",
       "        text-align: right;\n",
       "    }\n",
       "</style>\n",
       "<table border=\"1\" class=\"dataframe\">\n",
       "  <thead>\n",
       "    <tr style=\"text-align: right;\">\n",
       "      <th></th>\n",
       "      <th>eval_loss</th>\n",
       "      <th>eval_mse</th>\n",
       "      <th>best_eval_loss</th>\n",
       "      <th>train_loss</th>\n",
       "      <th>train_mse</th>\n",
       "      <th>steps</th>\n",
       "      <th>best_checkpoint</th>\n",
       "    </tr>\n",
       "  </thead>\n",
       "  <tbody>\n",
       "    <tr>\n",
       "      <th>0</th>\n",
       "      <td>0.604029</td>\n",
       "      <td>0.039895</td>\n",
       "      <td>0.600286</td>\n",
       "      <td>0.591197</td>\n",
       "      <td>0.036208</td>\n",
       "      <td>6000</td>\n",
       "      <td>2500</td>\n",
       "    </tr>\n",
       "  </tbody>\n",
       "</table>\n",
       "</div>"
      ],
      "text/plain": [
       "   eval_loss  eval_mse  best_eval_loss  train_loss  train_mse  steps  \\\n",
       "0   0.604029  0.039895        0.600286    0.591197   0.036208   6000   \n",
       "\n",
       "   best_checkpoint  \n",
       "0             2500  "
      ]
     },
     "metadata": {},
     "output_type": "display_data"
    },
    {
     "name": "stderr",
     "output_type": "stream",
     "text": [
      "Model Evaluating: 100%|██████████| 316/316 [00:00<00:00, 684.63it/s]]\n"
     ]
    },
    {
     "data": {
      "text/html": [
       "<div>\n",
       "<style scoped>\n",
       "    .dataframe tbody tr th:only-of-type {\n",
       "        vertical-align: middle;\n",
       "    }\n",
       "\n",
       "    .dataframe tbody tr th {\n",
       "        vertical-align: top;\n",
       "    }\n",
       "\n",
       "    .dataframe thead th {\n",
       "        text-align: right;\n",
       "    }\n",
       "</style>\n",
       "<table border=\"1\" class=\"dataframe\">\n",
       "  <thead>\n",
       "    <tr style=\"text-align: right;\">\n",
       "      <th></th>\n",
       "      <th>eval_loss</th>\n",
       "      <th>eval_mse</th>\n",
       "      <th>best_eval_loss</th>\n",
       "      <th>train_loss</th>\n",
       "      <th>train_mse</th>\n",
       "      <th>steps</th>\n",
       "      <th>best_checkpoint</th>\n",
       "    </tr>\n",
       "  </thead>\n",
       "  <tbody>\n",
       "    <tr>\n",
       "      <th>0</th>\n",
       "      <td>0.60097</td>\n",
       "      <td>0.038957</td>\n",
       "      <td>0.600286</td>\n",
       "      <td>0.592576</td>\n",
       "      <td>0.036266</td>\n",
       "      <td>6500</td>\n",
       "      <td>2500</td>\n",
       "    </tr>\n",
       "  </tbody>\n",
       "</table>\n",
       "</div>"
      ],
      "text/plain": [
       "   eval_loss  eval_mse  best_eval_loss  train_loss  train_mse  steps  \\\n",
       "0    0.60097  0.038957        0.600286    0.592576   0.036266   6500   \n",
       "\n",
       "   best_checkpoint  \n",
       "0             2500  "
      ]
     },
     "metadata": {},
     "output_type": "display_data"
    },
    {
     "name": "stderr",
     "output_type": "stream",
     "text": [
      "Model Evaluating: 100%|██████████| 316/316 [00:00<00:00, 681.92it/s]]\n"
     ]
    },
    {
     "data": {
      "text/html": [
       "<div>\n",
       "<style scoped>\n",
       "    .dataframe tbody tr th:only-of-type {\n",
       "        vertical-align: middle;\n",
       "    }\n",
       "\n",
       "    .dataframe tbody tr th {\n",
       "        vertical-align: top;\n",
       "    }\n",
       "\n",
       "    .dataframe thead th {\n",
       "        text-align: right;\n",
       "    }\n",
       "</style>\n",
       "<table border=\"1\" class=\"dataframe\">\n",
       "  <thead>\n",
       "    <tr style=\"text-align: right;\">\n",
       "      <th></th>\n",
       "      <th>eval_loss</th>\n",
       "      <th>eval_mse</th>\n",
       "      <th>best_eval_loss</th>\n",
       "      <th>train_loss</th>\n",
       "      <th>train_mse</th>\n",
       "      <th>steps</th>\n",
       "      <th>best_checkpoint</th>\n",
       "    </tr>\n",
       "  </thead>\n",
       "  <tbody>\n",
       "    <tr>\n",
       "      <th>0</th>\n",
       "      <td>0.599572</td>\n",
       "      <td>0.038858</td>\n",
       "      <td>0.599572</td>\n",
       "      <td>0.592633</td>\n",
       "      <td>0.036275</td>\n",
       "      <td>7000</td>\n",
       "      <td>7000</td>\n",
       "    </tr>\n",
       "  </tbody>\n",
       "</table>\n",
       "</div>"
      ],
      "text/plain": [
       "   eval_loss  eval_mse  best_eval_loss  train_loss  train_mse  steps  \\\n",
       "0   0.599572  0.038858        0.599572    0.592633   0.036275   7000   \n",
       "\n",
       "   best_checkpoint  \n",
       "0             7000  "
      ]
     },
     "metadata": {},
     "output_type": "display_data"
    },
    {
     "name": "stderr",
     "output_type": "stream",
     "text": [
      "Model Evaluating: 100%|██████████| 316/316 [00:00<00:00, 682.87it/s]]\n"
     ]
    },
    {
     "data": {
      "text/html": [
       "<div>\n",
       "<style scoped>\n",
       "    .dataframe tbody tr th:only-of-type {\n",
       "        vertical-align: middle;\n",
       "    }\n",
       "\n",
       "    .dataframe tbody tr th {\n",
       "        vertical-align: top;\n",
       "    }\n",
       "\n",
       "    .dataframe thead th {\n",
       "        text-align: right;\n",
       "    }\n",
       "</style>\n",
       "<table border=\"1\" class=\"dataframe\">\n",
       "  <thead>\n",
       "    <tr style=\"text-align: right;\">\n",
       "      <th></th>\n",
       "      <th>eval_loss</th>\n",
       "      <th>eval_mse</th>\n",
       "      <th>best_eval_loss</th>\n",
       "      <th>train_loss</th>\n",
       "      <th>train_mse</th>\n",
       "      <th>steps</th>\n",
       "      <th>best_checkpoint</th>\n",
       "    </tr>\n",
       "  </thead>\n",
       "  <tbody>\n",
       "    <tr>\n",
       "      <th>0</th>\n",
       "      <td>0.607555</td>\n",
       "      <td>0.040495</td>\n",
       "      <td>0.599572</td>\n",
       "      <td>0.593068</td>\n",
       "      <td>0.036324</td>\n",
       "      <td>7500</td>\n",
       "      <td>7000</td>\n",
       "    </tr>\n",
       "  </tbody>\n",
       "</table>\n",
       "</div>"
      ],
      "text/plain": [
       "   eval_loss  eval_mse  best_eval_loss  train_loss  train_mse  steps  \\\n",
       "0   0.607555  0.040495        0.599572    0.593068   0.036324   7500   \n",
       "\n",
       "   best_checkpoint  \n",
       "0             7000  "
      ]
     },
     "metadata": {},
     "output_type": "display_data"
    },
    {
     "name": "stderr",
     "output_type": "stream",
     "text": [
      "Model Evaluating: 100%|██████████| 316/316 [00:00<00:00, 679.60it/s]]\n"
     ]
    },
    {
     "data": {
      "text/html": [
       "<div>\n",
       "<style scoped>\n",
       "    .dataframe tbody tr th:only-of-type {\n",
       "        vertical-align: middle;\n",
       "    }\n",
       "\n",
       "    .dataframe tbody tr th {\n",
       "        vertical-align: top;\n",
       "    }\n",
       "\n",
       "    .dataframe thead th {\n",
       "        text-align: right;\n",
       "    }\n",
       "</style>\n",
       "<table border=\"1\" class=\"dataframe\">\n",
       "  <thead>\n",
       "    <tr style=\"text-align: right;\">\n",
       "      <th></th>\n",
       "      <th>eval_loss</th>\n",
       "      <th>eval_mse</th>\n",
       "      <th>best_eval_loss</th>\n",
       "      <th>train_loss</th>\n",
       "      <th>train_mse</th>\n",
       "      <th>steps</th>\n",
       "      <th>best_checkpoint</th>\n",
       "    </tr>\n",
       "  </thead>\n",
       "  <tbody>\n",
       "    <tr>\n",
       "      <th>0</th>\n",
       "      <td>0.599747</td>\n",
       "      <td>0.038803</td>\n",
       "      <td>0.599572</td>\n",
       "      <td>0.593638</td>\n",
       "      <td>0.036337</td>\n",
       "      <td>8000</td>\n",
       "      <td>7000</td>\n",
       "    </tr>\n",
       "  </tbody>\n",
       "</table>\n",
       "</div>"
      ],
      "text/plain": [
       "   eval_loss  eval_mse  best_eval_loss  train_loss  train_mse  steps  \\\n",
       "0   0.599747  0.038803        0.599572    0.593638   0.036337   8000   \n",
       "\n",
       "   best_checkpoint  \n",
       "0             7000  "
      ]
     },
     "metadata": {},
     "output_type": "display_data"
    },
    {
     "name": "stderr",
     "output_type": "stream",
     "text": [
      "Model Evaluating: 100%|██████████| 316/316 [00:00<00:00, 661.37it/s]]\n"
     ]
    },
    {
     "data": {
      "text/html": [
       "<div>\n",
       "<style scoped>\n",
       "    .dataframe tbody tr th:only-of-type {\n",
       "        vertical-align: middle;\n",
       "    }\n",
       "\n",
       "    .dataframe tbody tr th {\n",
       "        vertical-align: top;\n",
       "    }\n",
       "\n",
       "    .dataframe thead th {\n",
       "        text-align: right;\n",
       "    }\n",
       "</style>\n",
       "<table border=\"1\" class=\"dataframe\">\n",
       "  <thead>\n",
       "    <tr style=\"text-align: right;\">\n",
       "      <th></th>\n",
       "      <th>eval_loss</th>\n",
       "      <th>eval_mse</th>\n",
       "      <th>best_eval_loss</th>\n",
       "      <th>train_loss</th>\n",
       "      <th>train_mse</th>\n",
       "      <th>steps</th>\n",
       "      <th>best_checkpoint</th>\n",
       "    </tr>\n",
       "  </thead>\n",
       "  <tbody>\n",
       "    <tr>\n",
       "      <th>0</th>\n",
       "      <td>0.602521</td>\n",
       "      <td>0.039798</td>\n",
       "      <td>0.599572</td>\n",
       "      <td>0.593642</td>\n",
       "      <td>0.03642</td>\n",
       "      <td>8500</td>\n",
       "      <td>7000</td>\n",
       "    </tr>\n",
       "  </tbody>\n",
       "</table>\n",
       "</div>"
      ],
      "text/plain": [
       "   eval_loss  eval_mse  best_eval_loss  train_loss  train_mse  steps  \\\n",
       "0   0.602521  0.039798        0.599572    0.593642    0.03642   8500   \n",
       "\n",
       "   best_checkpoint  \n",
       "0             7000  "
      ]
     },
     "metadata": {},
     "output_type": "display_data"
    },
    {
     "name": "stderr",
     "output_type": "stream",
     "text": [
      "Model Training:  60%|██████    | 8539/14180 [01:14<01:33, 60.24it/s] "
     ]
    },
    {
     "name": "stdout",
     "output_type": "stream",
     "text": [
      "**************************************************epoch: 4**************************************************\n"
     ]
    },
    {
     "name": "stderr",
     "output_type": "stream",
     "text": [
      "Model Evaluating: 100%|██████████| 316/316 [00:00<00:00, 674.67it/s]]\n"
     ]
    },
    {
     "data": {
      "text/html": [
       "<div>\n",
       "<style scoped>\n",
       "    .dataframe tbody tr th:only-of-type {\n",
       "        vertical-align: middle;\n",
       "    }\n",
       "\n",
       "    .dataframe tbody tr th {\n",
       "        vertical-align: top;\n",
       "    }\n",
       "\n",
       "    .dataframe thead th {\n",
       "        text-align: right;\n",
       "    }\n",
       "</style>\n",
       "<table border=\"1\" class=\"dataframe\">\n",
       "  <thead>\n",
       "    <tr style=\"text-align: right;\">\n",
       "      <th></th>\n",
       "      <th>eval_loss</th>\n",
       "      <th>eval_mse</th>\n",
       "      <th>best_eval_loss</th>\n",
       "      <th>train_loss</th>\n",
       "      <th>train_mse</th>\n",
       "      <th>steps</th>\n",
       "      <th>best_checkpoint</th>\n",
       "    </tr>\n",
       "  </thead>\n",
       "  <tbody>\n",
       "    <tr>\n",
       "      <th>0</th>\n",
       "      <td>0.599083</td>\n",
       "      <td>0.038299</td>\n",
       "      <td>0.599083</td>\n",
       "      <td>0.589734</td>\n",
       "      <td>0.033607</td>\n",
       "      <td>9000</td>\n",
       "      <td>9000</td>\n",
       "    </tr>\n",
       "  </tbody>\n",
       "</table>\n",
       "</div>"
      ],
      "text/plain": [
       "   eval_loss  eval_mse  best_eval_loss  train_loss  train_mse  steps  \\\n",
       "0   0.599083  0.038299        0.599083    0.589734   0.033607   9000   \n",
       "\n",
       "   best_checkpoint  \n",
       "0             9000  "
      ]
     },
     "metadata": {},
     "output_type": "display_data"
    },
    {
     "name": "stderr",
     "output_type": "stream",
     "text": [
      "Model Evaluating: 100%|██████████| 316/316 [00:00<00:00, 683.83it/s]]\n"
     ]
    },
    {
     "data": {
      "text/html": [
       "<div>\n",
       "<style scoped>\n",
       "    .dataframe tbody tr th:only-of-type {\n",
       "        vertical-align: middle;\n",
       "    }\n",
       "\n",
       "    .dataframe tbody tr th {\n",
       "        vertical-align: top;\n",
       "    }\n",
       "\n",
       "    .dataframe thead th {\n",
       "        text-align: right;\n",
       "    }\n",
       "</style>\n",
       "<table border=\"1\" class=\"dataframe\">\n",
       "  <thead>\n",
       "    <tr style=\"text-align: right;\">\n",
       "      <th></th>\n",
       "      <th>eval_loss</th>\n",
       "      <th>eval_mse</th>\n",
       "      <th>best_eval_loss</th>\n",
       "      <th>train_loss</th>\n",
       "      <th>train_mse</th>\n",
       "      <th>steps</th>\n",
       "      <th>best_checkpoint</th>\n",
       "    </tr>\n",
       "  </thead>\n",
       "  <tbody>\n",
       "    <tr>\n",
       "      <th>0</th>\n",
       "      <td>0.60085</td>\n",
       "      <td>0.039271</td>\n",
       "      <td>0.599083</td>\n",
       "      <td>0.590003</td>\n",
       "      <td>0.034049</td>\n",
       "      <td>9500</td>\n",
       "      <td>9000</td>\n",
       "    </tr>\n",
       "  </tbody>\n",
       "</table>\n",
       "</div>"
      ],
      "text/plain": [
       "   eval_loss  eval_mse  best_eval_loss  train_loss  train_mse  steps  \\\n",
       "0    0.60085  0.039271        0.599083    0.590003   0.034049   9500   \n",
       "\n",
       "   best_checkpoint  \n",
       "0             9000  "
      ]
     },
     "metadata": {},
     "output_type": "display_data"
    },
    {
     "name": "stderr",
     "output_type": "stream",
     "text": [
      "Model Evaluating: 100%|██████████| 316/316 [00:00<00:00, 664.91it/s]]\n"
     ]
    },
    {
     "data": {
      "text/html": [
       "<div>\n",
       "<style scoped>\n",
       "    .dataframe tbody tr th:only-of-type {\n",
       "        vertical-align: middle;\n",
       "    }\n",
       "\n",
       "    .dataframe tbody tr th {\n",
       "        vertical-align: top;\n",
       "    }\n",
       "\n",
       "    .dataframe thead th {\n",
       "        text-align: right;\n",
       "    }\n",
       "</style>\n",
       "<table border=\"1\" class=\"dataframe\">\n",
       "  <thead>\n",
       "    <tr style=\"text-align: right;\">\n",
       "      <th></th>\n",
       "      <th>eval_loss</th>\n",
       "      <th>eval_mse</th>\n",
       "      <th>best_eval_loss</th>\n",
       "      <th>train_loss</th>\n",
       "      <th>train_mse</th>\n",
       "      <th>steps</th>\n",
       "      <th>best_checkpoint</th>\n",
       "    </tr>\n",
       "  </thead>\n",
       "  <tbody>\n",
       "    <tr>\n",
       "      <th>0</th>\n",
       "      <td>0.60241</td>\n",
       "      <td>0.039148</td>\n",
       "      <td>0.599083</td>\n",
       "      <td>0.589598</td>\n",
       "      <td>0.034418</td>\n",
       "      <td>10000</td>\n",
       "      <td>9000</td>\n",
       "    </tr>\n",
       "  </tbody>\n",
       "</table>\n",
       "</div>"
      ],
      "text/plain": [
       "   eval_loss  eval_mse  best_eval_loss  train_loss  train_mse  steps  \\\n",
       "0    0.60241  0.039148        0.599083    0.589598   0.034418  10000   \n",
       "\n",
       "   best_checkpoint  \n",
       "0             9000  "
      ]
     },
     "metadata": {},
     "output_type": "display_data"
    },
    {
     "name": "stderr",
     "output_type": "stream",
     "text": [
      "Model Evaluating: 100%|██████████| 316/316 [00:00<00:00, 664.72it/s]s]\n"
     ]
    },
    {
     "data": {
      "text/html": [
       "<div>\n",
       "<style scoped>\n",
       "    .dataframe tbody tr th:only-of-type {\n",
       "        vertical-align: middle;\n",
       "    }\n",
       "\n",
       "    .dataframe tbody tr th {\n",
       "        vertical-align: top;\n",
       "    }\n",
       "\n",
       "    .dataframe thead th {\n",
       "        text-align: right;\n",
       "    }\n",
       "</style>\n",
       "<table border=\"1\" class=\"dataframe\">\n",
       "  <thead>\n",
       "    <tr style=\"text-align: right;\">\n",
       "      <th></th>\n",
       "      <th>eval_loss</th>\n",
       "      <th>eval_mse</th>\n",
       "      <th>best_eval_loss</th>\n",
       "      <th>train_loss</th>\n",
       "      <th>train_mse</th>\n",
       "      <th>steps</th>\n",
       "      <th>best_checkpoint</th>\n",
       "    </tr>\n",
       "  </thead>\n",
       "  <tbody>\n",
       "    <tr>\n",
       "      <th>0</th>\n",
       "      <td>0.601046</td>\n",
       "      <td>0.039179</td>\n",
       "      <td>0.599083</td>\n",
       "      <td>0.590214</td>\n",
       "      <td>0.034535</td>\n",
       "      <td>10500</td>\n",
       "      <td>9000</td>\n",
       "    </tr>\n",
       "  </tbody>\n",
       "</table>\n",
       "</div>"
      ],
      "text/plain": [
       "   eval_loss  eval_mse  best_eval_loss  train_loss  train_mse  steps  \\\n",
       "0   0.601046  0.039179        0.599083    0.590214   0.034535  10500   \n",
       "\n",
       "   best_checkpoint  \n",
       "0             9000  "
      ]
     },
     "metadata": {},
     "output_type": "display_data"
    },
    {
     "name": "stderr",
     "output_type": "stream",
     "text": [
      "Model Evaluating: 100%|██████████| 316/316 [00:00<00:00, 668.71it/s]s]\n"
     ]
    },
    {
     "data": {
      "text/html": [
       "<div>\n",
       "<style scoped>\n",
       "    .dataframe tbody tr th:only-of-type {\n",
       "        vertical-align: middle;\n",
       "    }\n",
       "\n",
       "    .dataframe tbody tr th {\n",
       "        vertical-align: top;\n",
       "    }\n",
       "\n",
       "    .dataframe thead th {\n",
       "        text-align: right;\n",
       "    }\n",
       "</style>\n",
       "<table border=\"1\" class=\"dataframe\">\n",
       "  <thead>\n",
       "    <tr style=\"text-align: right;\">\n",
       "      <th></th>\n",
       "      <th>eval_loss</th>\n",
       "      <th>eval_mse</th>\n",
       "      <th>best_eval_loss</th>\n",
       "      <th>train_loss</th>\n",
       "      <th>train_mse</th>\n",
       "      <th>steps</th>\n",
       "      <th>best_checkpoint</th>\n",
       "    </tr>\n",
       "  </thead>\n",
       "  <tbody>\n",
       "    <tr>\n",
       "      <th>0</th>\n",
       "      <td>0.599507</td>\n",
       "      <td>0.038569</td>\n",
       "      <td>0.599083</td>\n",
       "      <td>0.589967</td>\n",
       "      <td>0.034579</td>\n",
       "      <td>11000</td>\n",
       "      <td>9000</td>\n",
       "    </tr>\n",
       "  </tbody>\n",
       "</table>\n",
       "</div>"
      ],
      "text/plain": [
       "   eval_loss  eval_mse  best_eval_loss  train_loss  train_mse  steps  \\\n",
       "0   0.599507  0.038569        0.599083    0.589967   0.034579  11000   \n",
       "\n",
       "   best_checkpoint  \n",
       "0             9000  "
      ]
     },
     "metadata": {},
     "output_type": "display_data"
    },
    {
     "name": "stderr",
     "output_type": "stream",
     "text": [
      "Model Training:  80%|████████  | 11374/14180 [01:37<00:12, 218.84it/s]"
     ]
    },
    {
     "name": "stdout",
     "output_type": "stream",
     "text": [
      "**************************************************epoch: 5**************************************************\n"
     ]
    },
    {
     "name": "stderr",
     "output_type": "stream",
     "text": [
      "Model Evaluating: 100%|██████████| 316/316 [00:00<00:00, 674.06it/s]s]\n"
     ]
    },
    {
     "data": {
      "text/html": [
       "<div>\n",
       "<style scoped>\n",
       "    .dataframe tbody tr th:only-of-type {\n",
       "        vertical-align: middle;\n",
       "    }\n",
       "\n",
       "    .dataframe tbody tr th {\n",
       "        vertical-align: top;\n",
       "    }\n",
       "\n",
       "    .dataframe thead th {\n",
       "        text-align: right;\n",
       "    }\n",
       "</style>\n",
       "<table border=\"1\" class=\"dataframe\">\n",
       "  <thead>\n",
       "    <tr style=\"text-align: right;\">\n",
       "      <th></th>\n",
       "      <th>eval_loss</th>\n",
       "      <th>eval_mse</th>\n",
       "      <th>best_eval_loss</th>\n",
       "      <th>train_loss</th>\n",
       "      <th>train_mse</th>\n",
       "      <th>steps</th>\n",
       "      <th>best_checkpoint</th>\n",
       "    </tr>\n",
       "  </thead>\n",
       "  <tbody>\n",
       "    <tr>\n",
       "      <th>0</th>\n",
       "      <td>0.602754</td>\n",
       "      <td>0.039685</td>\n",
       "      <td>0.599083</td>\n",
       "      <td>0.580515</td>\n",
       "      <td>0.030346</td>\n",
       "      <td>11500</td>\n",
       "      <td>9000</td>\n",
       "    </tr>\n",
       "  </tbody>\n",
       "</table>\n",
       "</div>"
      ],
      "text/plain": [
       "   eval_loss  eval_mse  best_eval_loss  train_loss  train_mse  steps  \\\n",
       "0   0.602754  0.039685        0.599083    0.580515   0.030346  11500   \n",
       "\n",
       "   best_checkpoint  \n",
       "0             9000  "
      ]
     },
     "metadata": {},
     "output_type": "display_data"
    },
    {
     "name": "stderr",
     "output_type": "stream",
     "text": [
      "Model Evaluating: 100%|██████████| 316/316 [00:00<00:00, 679.05it/s]s]\n"
     ]
    },
    {
     "data": {
      "text/html": [
       "<div>\n",
       "<style scoped>\n",
       "    .dataframe tbody tr th:only-of-type {\n",
       "        vertical-align: middle;\n",
       "    }\n",
       "\n",
       "    .dataframe tbody tr th {\n",
       "        vertical-align: top;\n",
       "    }\n",
       "\n",
       "    .dataframe thead th {\n",
       "        text-align: right;\n",
       "    }\n",
       "</style>\n",
       "<table border=\"1\" class=\"dataframe\">\n",
       "  <thead>\n",
       "    <tr style=\"text-align: right;\">\n",
       "      <th></th>\n",
       "      <th>eval_loss</th>\n",
       "      <th>eval_mse</th>\n",
       "      <th>best_eval_loss</th>\n",
       "      <th>train_loss</th>\n",
       "      <th>train_mse</th>\n",
       "      <th>steps</th>\n",
       "      <th>best_checkpoint</th>\n",
       "    </tr>\n",
       "  </thead>\n",
       "  <tbody>\n",
       "    <tr>\n",
       "      <th>0</th>\n",
       "      <td>0.603581</td>\n",
       "      <td>0.03992</td>\n",
       "      <td>0.599083</td>\n",
       "      <td>0.582298</td>\n",
       "      <td>0.032181</td>\n",
       "      <td>12000</td>\n",
       "      <td>9000</td>\n",
       "    </tr>\n",
       "  </tbody>\n",
       "</table>\n",
       "</div>"
      ],
      "text/plain": [
       "   eval_loss  eval_mse  best_eval_loss  train_loss  train_mse  steps  \\\n",
       "0   0.603581   0.03992        0.599083    0.582298   0.032181  12000   \n",
       "\n",
       "   best_checkpoint  \n",
       "0             9000  "
      ]
     },
     "metadata": {},
     "output_type": "display_data"
    },
    {
     "name": "stderr",
     "output_type": "stream",
     "text": [
      "Model Evaluating: 100%|██████████| 316/316 [00:00<00:00, 675.85it/s]s]\n"
     ]
    },
    {
     "data": {
      "text/html": [
       "<div>\n",
       "<style scoped>\n",
       "    .dataframe tbody tr th:only-of-type {\n",
       "        vertical-align: middle;\n",
       "    }\n",
       "\n",
       "    .dataframe tbody tr th {\n",
       "        vertical-align: top;\n",
       "    }\n",
       "\n",
       "    .dataframe thead th {\n",
       "        text-align: right;\n",
       "    }\n",
       "</style>\n",
       "<table border=\"1\" class=\"dataframe\">\n",
       "  <thead>\n",
       "    <tr style=\"text-align: right;\">\n",
       "      <th></th>\n",
       "      <th>eval_loss</th>\n",
       "      <th>eval_mse</th>\n",
       "      <th>best_eval_loss</th>\n",
       "      <th>train_loss</th>\n",
       "      <th>train_mse</th>\n",
       "      <th>steps</th>\n",
       "      <th>best_checkpoint</th>\n",
       "    </tr>\n",
       "  </thead>\n",
       "  <tbody>\n",
       "    <tr>\n",
       "      <th>0</th>\n",
       "      <td>0.601093</td>\n",
       "      <td>0.039127</td>\n",
       "      <td>0.599083</td>\n",
       "      <td>0.583657</td>\n",
       "      <td>0.03235</td>\n",
       "      <td>12500</td>\n",
       "      <td>9000</td>\n",
       "    </tr>\n",
       "  </tbody>\n",
       "</table>\n",
       "</div>"
      ],
      "text/plain": [
       "   eval_loss  eval_mse  best_eval_loss  train_loss  train_mse  steps  \\\n",
       "0   0.601093  0.039127        0.599083    0.583657    0.03235  12500   \n",
       "\n",
       "   best_checkpoint  \n",
       "0             9000  "
      ]
     },
     "metadata": {},
     "output_type": "display_data"
    },
    {
     "name": "stderr",
     "output_type": "stream",
     "text": [
      "Model Evaluating: 100%|██████████| 316/316 [00:00<00:00, 649.29it/s]s]\n"
     ]
    },
    {
     "data": {
      "text/html": [
       "<div>\n",
       "<style scoped>\n",
       "    .dataframe tbody tr th:only-of-type {\n",
       "        vertical-align: middle;\n",
       "    }\n",
       "\n",
       "    .dataframe tbody tr th {\n",
       "        vertical-align: top;\n",
       "    }\n",
       "\n",
       "    .dataframe thead th {\n",
       "        text-align: right;\n",
       "    }\n",
       "</style>\n",
       "<table border=\"1\" class=\"dataframe\">\n",
       "  <thead>\n",
       "    <tr style=\"text-align: right;\">\n",
       "      <th></th>\n",
       "      <th>eval_loss</th>\n",
       "      <th>eval_mse</th>\n",
       "      <th>best_eval_loss</th>\n",
       "      <th>train_loss</th>\n",
       "      <th>train_mse</th>\n",
       "      <th>steps</th>\n",
       "      <th>best_checkpoint</th>\n",
       "    </tr>\n",
       "  </thead>\n",
       "  <tbody>\n",
       "    <tr>\n",
       "      <th>0</th>\n",
       "      <td>0.605855</td>\n",
       "      <td>0.039822</td>\n",
       "      <td>0.599083</td>\n",
       "      <td>0.584549</td>\n",
       "      <td>0.03269</td>\n",
       "      <td>13000</td>\n",
       "      <td>9000</td>\n",
       "    </tr>\n",
       "  </tbody>\n",
       "</table>\n",
       "</div>"
      ],
      "text/plain": [
       "   eval_loss  eval_mse  best_eval_loss  train_loss  train_mse  steps  \\\n",
       "0   0.605855  0.039822        0.599083    0.584549    0.03269  13000   \n",
       "\n",
       "   best_checkpoint  \n",
       "0             9000  "
      ]
     },
     "metadata": {},
     "output_type": "display_data"
    },
    {
     "name": "stderr",
     "output_type": "stream",
     "text": [
      "Model Evaluating: 100%|██████████| 316/316 [00:00<00:00, 659.47it/s]s]\n"
     ]
    },
    {
     "data": {
      "text/html": [
       "<div>\n",
       "<style scoped>\n",
       "    .dataframe tbody tr th:only-of-type {\n",
       "        vertical-align: middle;\n",
       "    }\n",
       "\n",
       "    .dataframe tbody tr th {\n",
       "        vertical-align: top;\n",
       "    }\n",
       "\n",
       "    .dataframe thead th {\n",
       "        text-align: right;\n",
       "    }\n",
       "</style>\n",
       "<table border=\"1\" class=\"dataframe\">\n",
       "  <thead>\n",
       "    <tr style=\"text-align: right;\">\n",
       "      <th></th>\n",
       "      <th>eval_loss</th>\n",
       "      <th>eval_mse</th>\n",
       "      <th>best_eval_loss</th>\n",
       "      <th>train_loss</th>\n",
       "      <th>train_mse</th>\n",
       "      <th>steps</th>\n",
       "      <th>best_checkpoint</th>\n",
       "    </tr>\n",
       "  </thead>\n",
       "  <tbody>\n",
       "    <tr>\n",
       "      <th>0</th>\n",
       "      <td>0.601561</td>\n",
       "      <td>0.039408</td>\n",
       "      <td>0.599083</td>\n",
       "      <td>0.5858</td>\n",
       "      <td>0.033107</td>\n",
       "      <td>13500</td>\n",
       "      <td>9000</td>\n",
       "    </tr>\n",
       "  </tbody>\n",
       "</table>\n",
       "</div>"
      ],
      "text/plain": [
       "   eval_loss  eval_mse  best_eval_loss  train_loss  train_mse  steps  \\\n",
       "0   0.601561  0.039408        0.599083      0.5858   0.033107  13500   \n",
       "\n",
       "   best_checkpoint  \n",
       "0             9000  "
      ]
     },
     "metadata": {},
     "output_type": "display_data"
    },
    {
     "name": "stderr",
     "output_type": "stream",
     "text": [
      "Model Evaluating: 100%|██████████| 316/316 [00:00<00:00, 662.27it/s]s]\n"
     ]
    },
    {
     "data": {
      "text/html": [
       "<div>\n",
       "<style scoped>\n",
       "    .dataframe tbody tr th:only-of-type {\n",
       "        vertical-align: middle;\n",
       "    }\n",
       "\n",
       "    .dataframe tbody tr th {\n",
       "        vertical-align: top;\n",
       "    }\n",
       "\n",
       "    .dataframe thead th {\n",
       "        text-align: right;\n",
       "    }\n",
       "</style>\n",
       "<table border=\"1\" class=\"dataframe\">\n",
       "  <thead>\n",
       "    <tr style=\"text-align: right;\">\n",
       "      <th></th>\n",
       "      <th>eval_loss</th>\n",
       "      <th>eval_mse</th>\n",
       "      <th>best_eval_loss</th>\n",
       "      <th>train_loss</th>\n",
       "      <th>train_mse</th>\n",
       "      <th>steps</th>\n",
       "      <th>best_checkpoint</th>\n",
       "    </tr>\n",
       "  </thead>\n",
       "  <tbody>\n",
       "    <tr>\n",
       "      <th>0</th>\n",
       "      <td>0.599673</td>\n",
       "      <td>0.038404</td>\n",
       "      <td>0.599083</td>\n",
       "      <td>0.586248</td>\n",
       "      <td>0.033374</td>\n",
       "      <td>14000</td>\n",
       "      <td>9000</td>\n",
       "    </tr>\n",
       "  </tbody>\n",
       "</table>\n",
       "</div>"
      ],
      "text/plain": [
       "   eval_loss  eval_mse  best_eval_loss  train_loss  train_mse  steps  \\\n",
       "0   0.599673  0.038404        0.599083    0.586248   0.033374  14000   \n",
       "\n",
       "   best_checkpoint  \n",
       "0             9000  "
      ]
     },
     "metadata": {},
     "output_type": "display_data"
    },
    {
     "name": "stderr",
     "output_type": "stream",
     "text": [
      "Model Training: 100%|██████████| 14180/14180 [01:57<00:00, 120.21it/s]\n"
     ]
    }
   ],
   "source": [
    "# Train\n",
    "total_pbar = tqdm(total=len(train_loader)*config.epoches,\n",
    "                  desc=\"Model Training\", position=0, leave=True)\n",
    "\n",
    "metrics_list = []\n",
    "\n",
    "mlflow.set_tracking_uri(TRACKING_URL)\n",
    "mlflow.set_experiment(EXPERIMENT_NAME)\n",
    "\n",
    "with mlflow.start_run():\n",
    "    mlflow.set_tag(\"algorithm\",'neural-cf')\n",
    "    mlflow.log_params(config_dict)\n",
    "#     mlflow.log_artifact(use_id_map_pkl_file, artifact_path=\"artifacts\")\n",
    "#     mlflow.log_artifact(movie_id_map_pkl_file, artifact_path=\"artifacts\")\n",
    "#     mlflow.log_artifact(genres_map_pkl_file, artifact_path=\"artifacts\")\n",
    "\n",
    "    for epoch in range(config.epoches):\n",
    "        print(\"*\"*50 + f\"epoch: {epoch + 1}\" + \"*\"*50)\n",
    "\n",
    "        train_loss_list = []\n",
    "        prob_list = []\n",
    "        rating_list = []\n",
    "\n",
    "        for inputs in train_loader:\n",
    "            model = model.train()\n",
    "            optimizer.zero_grad()\n",
    "            probs = model(\n",
    "                user_indices=inputs['user_embed_id'],\n",
    "                item_indices=inputs['movie_embed_id']\n",
    "            )\n",
    "            rating = inputs['rating'].view(-1, 1)\n",
    "\n",
    "            loss = loss_func(probs, rating)\n",
    "            loss.backward()\n",
    "            optimizer.step()\n",
    "            train_loss_list.append(loss.item())\n",
    "\n",
    "            probs = probs.detach().cpu().numpy().flatten().tolist()\n",
    "            prob_list.extend(probs)\n",
    "            rating = rating.numpy().flatten().tolist()\n",
    "            rating_list.extend(rating)\n",
    "\n",
    "            if (total_batch+1) % config.eval_steps == 0:\n",
    "\n",
    "                improve = False\n",
    "                model_metrics = evaluate(model, test_loader)\n",
    "                eval_loss = model_metrics['eval_loss']\n",
    "\n",
    "                if eval_loss <= best_eval_loss:\n",
    "                    improve = True\n",
    "                    best_checkpoint = total_batch+1\n",
    "                    best_eval_loss = eval_loss\n",
    "\n",
    "                train_loss = np.mean(train_loss_list)\n",
    "                \n",
    "                model_metrics['best_eval_loss'] = best_eval_loss\n",
    "                model_metrics['train_loss'] = train_loss\n",
    "                model_metrics['train_mse'] = metrics.mean_squared_error(\n",
    "                    rating_list, prob_list)\n",
    "                model_metrics[\"steps\"] = total_batch+1\n",
    "                model_metrics[\"best_checkpoint\"] = best_checkpoint\n",
    "                metrics_list.append(model_metrics)\n",
    "                for metrics_name,metrics_value in model_metrics.items():\n",
    "                    mlflow.log_metric(metrics_name,metrics_value)\n",
    "                    \n",
    "                if improve:\n",
    "                    save_dir = os.path.join(\"model\", model_version)\n",
    "                    os.makedirs(save_dir, exist_ok=True)\n",
    "                    model_path = save_model(model, save_dir, total_batch+1, model_metrics)\n",
    "                    mlflow.log_artifact(model_path, artifact_path=\"model\")\n",
    "\n",
    "                df_metrics_temp = pd.DataFrame([model_metrics])\n",
    "                display(df_metrics_temp)\n",
    "\n",
    "                model = model.train()\n",
    "\n",
    "            total_batch += 1\n",
    "            total_pbar.update(1)\n",
    "\n",
    "        model = model.train()\n",
    "\n",
    "    total_pbar.close()"
   ]
  },
  {
   "cell_type": "code",
   "execution_count": 26,
   "metadata": {},
   "outputs": [
    {
     "data": {
      "text/html": [
       "<div>\n",
       "<style scoped>\n",
       "    .dataframe tbody tr th:only-of-type {\n",
       "        vertical-align: middle;\n",
       "    }\n",
       "\n",
       "    .dataframe tbody tr th {\n",
       "        vertical-align: top;\n",
       "    }\n",
       "\n",
       "    .dataframe thead th {\n",
       "        text-align: right;\n",
       "    }\n",
       "</style>\n",
       "<table border=\"1\" class=\"dataframe\">\n",
       "  <thead>\n",
       "    <tr style=\"text-align: right;\">\n",
       "      <th></th>\n",
       "      <th>eval_loss</th>\n",
       "      <th>eval_mse</th>\n",
       "      <th>best_eval_loss</th>\n",
       "      <th>train_loss</th>\n",
       "      <th>train_mse</th>\n",
       "      <th>steps</th>\n",
       "      <th>best_checkpoint</th>\n",
       "    </tr>\n",
       "  </thead>\n",
       "  <tbody>\n",
       "    <tr>\n",
       "      <th>0</th>\n",
       "      <td>0.603502</td>\n",
       "      <td>0.039984</td>\n",
       "      <td>0.603502</td>\n",
       "      <td>0.606373</td>\n",
       "      <td>0.041682</td>\n",
       "      <td>500</td>\n",
       "      <td>500</td>\n",
       "    </tr>\n",
       "    <tr>\n",
       "      <th>1</th>\n",
       "      <td>0.602852</td>\n",
       "      <td>0.039694</td>\n",
       "      <td>0.602852</td>\n",
       "      <td>0.602890</td>\n",
       "      <td>0.040266</td>\n",
       "      <td>1000</td>\n",
       "      <td>1000</td>\n",
       "    </tr>\n",
       "    <tr>\n",
       "      <th>2</th>\n",
       "      <td>0.603747</td>\n",
       "      <td>0.040127</td>\n",
       "      <td>0.602852</td>\n",
       "      <td>0.601028</td>\n",
       "      <td>0.039543</td>\n",
       "      <td>1500</td>\n",
       "      <td>1000</td>\n",
       "    </tr>\n",
       "    <tr>\n",
       "      <th>3</th>\n",
       "      <td>0.601969</td>\n",
       "      <td>0.039561</td>\n",
       "      <td>0.601969</td>\n",
       "      <td>0.600775</td>\n",
       "      <td>0.039321</td>\n",
       "      <td>2000</td>\n",
       "      <td>2000</td>\n",
       "    </tr>\n",
       "    <tr>\n",
       "      <th>4</th>\n",
       "      <td>0.600286</td>\n",
       "      <td>0.038943</td>\n",
       "      <td>0.600286</td>\n",
       "      <td>0.599917</td>\n",
       "      <td>0.038998</td>\n",
       "      <td>2500</td>\n",
       "      <td>2500</td>\n",
       "    </tr>\n",
       "    <tr>\n",
       "      <th>5</th>\n",
       "      <td>0.603511</td>\n",
       "      <td>0.040065</td>\n",
       "      <td>0.600286</td>\n",
       "      <td>0.591902</td>\n",
       "      <td>0.036456</td>\n",
       "      <td>3000</td>\n",
       "      <td>2500</td>\n",
       "    </tr>\n",
       "    <tr>\n",
       "      <th>6</th>\n",
       "      <td>0.602031</td>\n",
       "      <td>0.039224</td>\n",
       "      <td>0.600286</td>\n",
       "      <td>0.595137</td>\n",
       "      <td>0.036765</td>\n",
       "      <td>3500</td>\n",
       "      <td>2500</td>\n",
       "    </tr>\n",
       "    <tr>\n",
       "      <th>7</th>\n",
       "      <td>0.601437</td>\n",
       "      <td>0.039344</td>\n",
       "      <td>0.600286</td>\n",
       "      <td>0.595233</td>\n",
       "      <td>0.037258</td>\n",
       "      <td>4000</td>\n",
       "      <td>2500</td>\n",
       "    </tr>\n",
       "    <tr>\n",
       "      <th>8</th>\n",
       "      <td>0.601971</td>\n",
       "      <td>0.039464</td>\n",
       "      <td>0.600286</td>\n",
       "      <td>0.595328</td>\n",
       "      <td>0.037211</td>\n",
       "      <td>4500</td>\n",
       "      <td>2500</td>\n",
       "    </tr>\n",
       "    <tr>\n",
       "      <th>9</th>\n",
       "      <td>0.601163</td>\n",
       "      <td>0.039228</td>\n",
       "      <td>0.600286</td>\n",
       "      <td>0.595693</td>\n",
       "      <td>0.037232</td>\n",
       "      <td>5000</td>\n",
       "      <td>2500</td>\n",
       "    </tr>\n",
       "    <tr>\n",
       "      <th>10</th>\n",
       "      <td>0.603002</td>\n",
       "      <td>0.040280</td>\n",
       "      <td>0.600286</td>\n",
       "      <td>0.595263</td>\n",
       "      <td>0.037044</td>\n",
       "      <td>5500</td>\n",
       "      <td>2500</td>\n",
       "    </tr>\n",
       "    <tr>\n",
       "      <th>11</th>\n",
       "      <td>0.604029</td>\n",
       "      <td>0.039895</td>\n",
       "      <td>0.600286</td>\n",
       "      <td>0.591197</td>\n",
       "      <td>0.036208</td>\n",
       "      <td>6000</td>\n",
       "      <td>2500</td>\n",
       "    </tr>\n",
       "    <tr>\n",
       "      <th>12</th>\n",
       "      <td>0.600970</td>\n",
       "      <td>0.038957</td>\n",
       "      <td>0.600286</td>\n",
       "      <td>0.592576</td>\n",
       "      <td>0.036266</td>\n",
       "      <td>6500</td>\n",
       "      <td>2500</td>\n",
       "    </tr>\n",
       "    <tr>\n",
       "      <th>13</th>\n",
       "      <td>0.599572</td>\n",
       "      <td>0.038858</td>\n",
       "      <td>0.599572</td>\n",
       "      <td>0.592633</td>\n",
       "      <td>0.036275</td>\n",
       "      <td>7000</td>\n",
       "      <td>7000</td>\n",
       "    </tr>\n",
       "    <tr>\n",
       "      <th>14</th>\n",
       "      <td>0.607555</td>\n",
       "      <td>0.040495</td>\n",
       "      <td>0.599572</td>\n",
       "      <td>0.593068</td>\n",
       "      <td>0.036324</td>\n",
       "      <td>7500</td>\n",
       "      <td>7000</td>\n",
       "    </tr>\n",
       "    <tr>\n",
       "      <th>15</th>\n",
       "      <td>0.599747</td>\n",
       "      <td>0.038803</td>\n",
       "      <td>0.599572</td>\n",
       "      <td>0.593638</td>\n",
       "      <td>0.036337</td>\n",
       "      <td>8000</td>\n",
       "      <td>7000</td>\n",
       "    </tr>\n",
       "    <tr>\n",
       "      <th>16</th>\n",
       "      <td>0.602521</td>\n",
       "      <td>0.039798</td>\n",
       "      <td>0.599572</td>\n",
       "      <td>0.593642</td>\n",
       "      <td>0.036420</td>\n",
       "      <td>8500</td>\n",
       "      <td>7000</td>\n",
       "    </tr>\n",
       "    <tr>\n",
       "      <th>17</th>\n",
       "      <td>0.599083</td>\n",
       "      <td>0.038299</td>\n",
       "      <td>0.599083</td>\n",
       "      <td>0.589734</td>\n",
       "      <td>0.033607</td>\n",
       "      <td>9000</td>\n",
       "      <td>9000</td>\n",
       "    </tr>\n",
       "    <tr>\n",
       "      <th>18</th>\n",
       "      <td>0.600850</td>\n",
       "      <td>0.039271</td>\n",
       "      <td>0.599083</td>\n",
       "      <td>0.590003</td>\n",
       "      <td>0.034049</td>\n",
       "      <td>9500</td>\n",
       "      <td>9000</td>\n",
       "    </tr>\n",
       "    <tr>\n",
       "      <th>19</th>\n",
       "      <td>0.602410</td>\n",
       "      <td>0.039148</td>\n",
       "      <td>0.599083</td>\n",
       "      <td>0.589598</td>\n",
       "      <td>0.034418</td>\n",
       "      <td>10000</td>\n",
       "      <td>9000</td>\n",
       "    </tr>\n",
       "    <tr>\n",
       "      <th>20</th>\n",
       "      <td>0.601046</td>\n",
       "      <td>0.039179</td>\n",
       "      <td>0.599083</td>\n",
       "      <td>0.590214</td>\n",
       "      <td>0.034535</td>\n",
       "      <td>10500</td>\n",
       "      <td>9000</td>\n",
       "    </tr>\n",
       "    <tr>\n",
       "      <th>21</th>\n",
       "      <td>0.599507</td>\n",
       "      <td>0.038569</td>\n",
       "      <td>0.599083</td>\n",
       "      <td>0.589967</td>\n",
       "      <td>0.034579</td>\n",
       "      <td>11000</td>\n",
       "      <td>9000</td>\n",
       "    </tr>\n",
       "    <tr>\n",
       "      <th>22</th>\n",
       "      <td>0.602754</td>\n",
       "      <td>0.039685</td>\n",
       "      <td>0.599083</td>\n",
       "      <td>0.580515</td>\n",
       "      <td>0.030346</td>\n",
       "      <td>11500</td>\n",
       "      <td>9000</td>\n",
       "    </tr>\n",
       "    <tr>\n",
       "      <th>23</th>\n",
       "      <td>0.603581</td>\n",
       "      <td>0.039920</td>\n",
       "      <td>0.599083</td>\n",
       "      <td>0.582298</td>\n",
       "      <td>0.032181</td>\n",
       "      <td>12000</td>\n",
       "      <td>9000</td>\n",
       "    </tr>\n",
       "    <tr>\n",
       "      <th>24</th>\n",
       "      <td>0.601093</td>\n",
       "      <td>0.039127</td>\n",
       "      <td>0.599083</td>\n",
       "      <td>0.583657</td>\n",
       "      <td>0.032350</td>\n",
       "      <td>12500</td>\n",
       "      <td>9000</td>\n",
       "    </tr>\n",
       "    <tr>\n",
       "      <th>25</th>\n",
       "      <td>0.605855</td>\n",
       "      <td>0.039822</td>\n",
       "      <td>0.599083</td>\n",
       "      <td>0.584549</td>\n",
       "      <td>0.032690</td>\n",
       "      <td>13000</td>\n",
       "      <td>9000</td>\n",
       "    </tr>\n",
       "    <tr>\n",
       "      <th>26</th>\n",
       "      <td>0.601561</td>\n",
       "      <td>0.039408</td>\n",
       "      <td>0.599083</td>\n",
       "      <td>0.585800</td>\n",
       "      <td>0.033107</td>\n",
       "      <td>13500</td>\n",
       "      <td>9000</td>\n",
       "    </tr>\n",
       "    <tr>\n",
       "      <th>27</th>\n",
       "      <td>0.599673</td>\n",
       "      <td>0.038404</td>\n",
       "      <td>0.599083</td>\n",
       "      <td>0.586248</td>\n",
       "      <td>0.033374</td>\n",
       "      <td>14000</td>\n",
       "      <td>9000</td>\n",
       "    </tr>\n",
       "  </tbody>\n",
       "</table>\n",
       "</div>"
      ],
      "text/plain": [
       "    eval_loss  eval_mse  best_eval_loss  train_loss  train_mse  steps  \\\n",
       "0    0.603502  0.039984        0.603502    0.606373   0.041682    500   \n",
       "1    0.602852  0.039694        0.602852    0.602890   0.040266   1000   \n",
       "2    0.603747  0.040127        0.602852    0.601028   0.039543   1500   \n",
       "3    0.601969  0.039561        0.601969    0.600775   0.039321   2000   \n",
       "4    0.600286  0.038943        0.600286    0.599917   0.038998   2500   \n",
       "5    0.603511  0.040065        0.600286    0.591902   0.036456   3000   \n",
       "6    0.602031  0.039224        0.600286    0.595137   0.036765   3500   \n",
       "7    0.601437  0.039344        0.600286    0.595233   0.037258   4000   \n",
       "8    0.601971  0.039464        0.600286    0.595328   0.037211   4500   \n",
       "9    0.601163  0.039228        0.600286    0.595693   0.037232   5000   \n",
       "10   0.603002  0.040280        0.600286    0.595263   0.037044   5500   \n",
       "11   0.604029  0.039895        0.600286    0.591197   0.036208   6000   \n",
       "12   0.600970  0.038957        0.600286    0.592576   0.036266   6500   \n",
       "13   0.599572  0.038858        0.599572    0.592633   0.036275   7000   \n",
       "14   0.607555  0.040495        0.599572    0.593068   0.036324   7500   \n",
       "15   0.599747  0.038803        0.599572    0.593638   0.036337   8000   \n",
       "16   0.602521  0.039798        0.599572    0.593642   0.036420   8500   \n",
       "17   0.599083  0.038299        0.599083    0.589734   0.033607   9000   \n",
       "18   0.600850  0.039271        0.599083    0.590003   0.034049   9500   \n",
       "19   0.602410  0.039148        0.599083    0.589598   0.034418  10000   \n",
       "20   0.601046  0.039179        0.599083    0.590214   0.034535  10500   \n",
       "21   0.599507  0.038569        0.599083    0.589967   0.034579  11000   \n",
       "22   0.602754  0.039685        0.599083    0.580515   0.030346  11500   \n",
       "23   0.603581  0.039920        0.599083    0.582298   0.032181  12000   \n",
       "24   0.601093  0.039127        0.599083    0.583657   0.032350  12500   \n",
       "25   0.605855  0.039822        0.599083    0.584549   0.032690  13000   \n",
       "26   0.601561  0.039408        0.599083    0.585800   0.033107  13500   \n",
       "27   0.599673  0.038404        0.599083    0.586248   0.033374  14000   \n",
       "\n",
       "    best_checkpoint  \n",
       "0               500  \n",
       "1              1000  \n",
       "2              1000  \n",
       "3              2000  \n",
       "4              2500  \n",
       "5              2500  \n",
       "6              2500  \n",
       "7              2500  \n",
       "8              2500  \n",
       "9              2500  \n",
       "10             2500  \n",
       "11             2500  \n",
       "12             2500  \n",
       "13             7000  \n",
       "14             7000  \n",
       "15             7000  \n",
       "16             7000  \n",
       "17             9000  \n",
       "18             9000  \n",
       "19             9000  \n",
       "20             9000  \n",
       "21             9000  \n",
       "22             9000  \n",
       "23             9000  \n",
       "24             9000  \n",
       "25             9000  \n",
       "26             9000  \n",
       "27             9000  "
      ]
     },
     "execution_count": 26,
     "metadata": {},
     "output_type": "execute_result"
    }
   ],
   "source": [
    "df_metrics = pd.DataFrame(metrics_list)\n",
    "df_metrics"
   ]
  },
  {
   "cell_type": "code",
   "execution_count": 27,
   "metadata": {},
   "outputs": [],
   "source": [
    "df_metrics = df_metrics.set_index(\"steps\")"
   ]
  },
  {
   "cell_type": "code",
   "execution_count": 28,
   "metadata": {},
   "outputs": [
    {
     "data": {
      "text/plain": [
       "<Axes: xlabel='steps'>"
      ]
     },
     "execution_count": 28,
     "metadata": {},
     "output_type": "execute_result"
    },
    {
     "data": {
      "image/png": "[encoded data removed]",
      "text/plain": [
       "<Figure size 640x480 with 1 Axes>"
      ]
     },
     "metadata": {},
     "output_type": "display_data"
    },
    {
     "data": {
      "image/png": "[encoded data removed]",
      "text/plain": [
       "<Figure size 640x480 with 1 Axes>"
      ]
     },
     "metadata": {},
     "output_type": "display_data"
    }
   ],
   "source": [
    "# fig, ax = plt.subplots(figsize=(20,10)) \n",
    "df_metrics[['eval_loss','train_loss']].plot() \n",
    "df_metrics[['eval_mse','train_mse']].plot() \n",
    "# df.plot(x = 'day', y = 'humidity', ax = ax, secondary_y = True) "
   ]
  }
 ],
 "metadata": {
  "kernelspec": {
   "display_name": "Python 3 (ipykernel)",
   "language": "python",
   "name": "python3"
  },
  "language_info": {
   "codemirror_mode": {
    "name": "ipython",
    "version": 3
   },
   "file_extension": ".py",
   "mimetype": "text/x-python",
   "name": "python",
   "nbconvert_exporter": "python",
   "pygments_lexer": "ipython3",
   "version": "3.11.3"
  }
 },
 "nbformat": 4,
 "nbformat_minor": 2
}
