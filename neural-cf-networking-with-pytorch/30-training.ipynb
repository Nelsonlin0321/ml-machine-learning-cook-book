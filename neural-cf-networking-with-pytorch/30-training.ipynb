{
 "cells": [
  {
   "cell_type": "code",
   "execution_count": 1,
   "metadata": {},
   "outputs": [],
   "source": [
    "%load_ext autoreload\n",
    "%autoreload 2"
   ]
  },
  {
   "cell_type": "code",
   "execution_count": 2,
   "metadata": {},
   "outputs": [],
   "source": [
    "import os\n",
    "import utils\n",
    "import torch\n",
    "import pandas as pd\n",
    "import numpy as np\n",
    "from tqdm import tqdm\n",
    "from sklearn import metrics\n",
    "from model import NeuMF\n",
    "from dataset import RatingDataset\n",
    "from torch.utils.data import DataLoader"
   ]
  },
  {
   "cell_type": "markdown",
   "metadata": {},
   "source": [
    "### (1) Load Artifacts"
   ]
  },
  {
   "cell_type": "code",
   "execution_count": 3,
   "metadata": {},
   "outputs": [],
   "source": [
    "user_id_map_dict = utils.open_object(\"./artifacts/user_id_map_dict.pkl\")\n",
    "movie_id_map_dict = utils.open_object(\"./artifacts/movie_id_map_dict.pkl\")\n",
    "genres_map_dict = utils.open_object(\"./artifacts/genres_map_dict.pkl\")"
   ]
  },
  {
   "cell_type": "code",
   "execution_count": 4,
   "metadata": {},
   "outputs": [],
   "source": [
    "num_user = len(user_id_map_dict)\n",
    "num_movie = len(movie_id_map_dict)\n",
    "num_genere = len(genres_map_dict)"
   ]
  },
  {
   "cell_type": "markdown",
   "metadata": {},
   "source": [
    "### (2) Parameter"
   ]
  },
  {
   "cell_type": "code",
   "execution_count": 5,
   "metadata": {},
   "outputs": [],
   "source": [
    "config_dict={}\n",
    "config_dict['num_user'] = num_user \n",
    "config_dict['num_item'] = num_movie \n",
    "config_dict['num_genere'] = num_genere\n",
    "config_dict['latent_dim_mlp'] =  64\n",
    "config_dict['latent_dim_mf']=config_dict['latent_dim_mlp']\n",
    "config_dict['layers'] = [config_dict['latent_dim_mf']*2]+[64,32]\n",
    "config_dict['dropout_rate_mf']=0.5\n",
    "config_dict['dropout_rate_mlp']=0.5\n",
    "config_dict['batch_size']=32\n",
    "config_dict['epoches']=5\n",
    "config_dict['eval_steps']=500"
   ]
  },
  {
   "cell_type": "code",
   "execution_count": 6,
   "metadata": {},
   "outputs": [
    {
     "data": {
      "text/plain": [
       "{'num_user': 611,\n",
       " 'num_item': 9725,\n",
       " 'num_genere': 21,\n",
       " 'latent_dim_mlp': 64,\n",
       " 'latent_dim_mf': 64,\n",
       " 'layers': [128, 64, 32],\n",
       " 'dropout_rate_mf': 0.5,\n",
       " 'dropout_rate_mlp': 0.5,\n",
       " 'batch_size': 32,\n",
       " 'epoches': 5,\n",
       " 'eval_steps': 500}"
      ]
     },
     "execution_count": 6,
     "metadata": {},
     "output_type": "execute_result"
    }
   ],
   "source": [
    "config_dict"
   ]
  },
  {
   "cell_type": "code",
   "execution_count": 7,
   "metadata": {},
   "outputs": [],
   "source": [
    "class Config:\n",
    "    def __init__(self, dictionary):\n",
    "        for key, value in dictionary.items():\n",
    "            setattr(self, key, value)"
   ]
  },
  {
   "cell_type": "markdown",
   "metadata": {},
   "source": [
    "### (4) Build Model"
   ]
  },
  {
   "cell_type": "code",
   "execution_count": 8,
   "metadata": {},
   "outputs": [],
   "source": [
    "config = Config(dictionary=config_dict)"
   ]
  },
  {
   "cell_type": "code",
   "execution_count": 9,
   "metadata": {},
   "outputs": [],
   "source": [
    "model = NeuMF(config=config)"
   ]
  },
  {
   "cell_type": "markdown",
   "metadata": {},
   "source": [
    "## (3) Load Data"
   ]
  },
  {
   "cell_type": "code",
   "execution_count": 10,
   "metadata": {},
   "outputs": [],
   "source": [
    "df_train = pd.read_parquet(\"./data/train.parquet\")\n",
    "df_test = pd.read_parquet(\"./data/test.parquet\")"
   ]
  },
  {
   "cell_type": "code",
   "execution_count": 11,
   "metadata": {},
   "outputs": [],
   "source": [
    "train_dataset = RatingDataset(data=df_train)\n",
    "test_dataset = RatingDataset(data=df_test)"
   ]
  },
  {
   "cell_type": "code",
   "execution_count": 12,
   "metadata": {},
   "outputs": [
    {
     "data": {
      "text/plain": [
       "{'user_embed_id': tensor([ 64, 141, 385, 182,  73,  63, 504,   9,  23, 309]),\n",
       " 'movie_embed_id': tensor([1887,  876,   72,   90, 3541,  181,  429,   71, 2070, 2050]),\n",
       " 'rating': tensor([0.6000, 0.9000, 1.0000, 0.7000, 0.4000, 1.0000, 0.8000, 1.0000, 0.6000,\n",
       "         0.8000])}"
      ]
     },
     "execution_count": 12,
     "metadata": {},
     "output_type": "execute_result"
    }
   ],
   "source": [
    "train_dataset[:10]"
   ]
  },
  {
   "cell_type": "code",
   "execution_count": 13,
   "metadata": {},
   "outputs": [],
   "source": [
    "train_loader = DataLoader(\n",
    "    train_dataset, batch_size=config.batch_size, shuffle=True)\n",
    "test_loader = DataLoader(\n",
    "    test_dataset, batch_size=config.batch_size, shuffle=True)"
   ]
  },
  {
   "cell_type": "code",
   "execution_count": 14,
   "metadata": {},
   "outputs": [],
   "source": [
    "for sample in train_loader:\n",
    "    break"
   ]
  },
  {
   "cell_type": "code",
   "execution_count": 15,
   "metadata": {},
   "outputs": [],
   "source": [
    "with torch.no_grad():\n",
    "    outputs = model(\n",
    "        user_indices=sample['user_embed_id'],\n",
    "        item_indices=sample['movie_embed_id'])"
   ]
  },
  {
   "cell_type": "code",
   "execution_count": 16,
   "metadata": {},
   "outputs": [
    {
     "name": "stdout",
     "output_type": "stream",
     "text": [
      "tensor(0.7122)\n"
     ]
    }
   ],
   "source": [
    "loss_func = torch.nn.BCELoss()\n",
    "loss = loss_func(outputs, sample['rating'].view(-1, 1))\n",
    "print(loss)"
   ]
  },
  {
   "cell_type": "code",
   "execution_count": 17,
   "metadata": {},
   "outputs": [
    {
     "data": {
      "text/plain": [
       "0.10572589"
      ]
     },
     "execution_count": 17,
     "metadata": {},
     "output_type": "execute_result"
    }
   ],
   "source": [
    "metrics.mean_squared_error(outputs.numpy().flatten(),\n",
    "                           sample['rating'].numpy())"
   ]
  },
  {
   "cell_type": "markdown",
   "metadata": {},
   "source": [
    "## (45 Trainning"
   ]
  },
  {
   "cell_type": "markdown",
   "metadata": {},
   "source": [
    "#### Before Training"
   ]
  },
  {
   "cell_type": "code",
   "execution_count": 18,
   "metadata": {},
   "outputs": [],
   "source": [
    "from evaluation import evaluate"
   ]
  },
  {
   "cell_type": "code",
   "execution_count": 19,
   "metadata": {},
   "outputs": [
    {
     "name": "stderr",
     "output_type": "stream",
     "text": [
      "Model Evaluating: 100%|████████████████████████████████████████████████████████████████████████████████| 316/316 [00:00<00:00, 712.26it/s]\n"
     ]
    },
    {
     "data": {
      "text/plain": [
       "{'eval_loss': 0.7351473070020917, 'eval_mse': 0.10123178500924684}"
      ]
     },
     "execution_count": 19,
     "metadata": {},
     "output_type": "execute_result"
    }
   ],
   "source": [
    "evaluate(model,test_loader)"
   ]
  },
  {
   "cell_type": "code",
   "execution_count": 20,
   "metadata": {},
   "outputs": [],
   "source": [
    "optimizer = torch.optim.AdamW(model.parameters(),lr=0.01)"
   ]
  },
  {
   "cell_type": "code",
   "execution_count": 21,
   "metadata": {},
   "outputs": [],
   "source": [
    "total_batch = 0\n",
    "best_eval_loss =  float(\"inf\")\n",
    "best_checkpoint = 0"
   ]
  },
  {
   "cell_type": "code",
   "execution_count": 22,
   "metadata": {},
   "outputs": [],
   "source": [
    "from utils import save_model\n",
    "model_version='v1'"
   ]
  },
  {
   "cell_type": "code",
   "execution_count": 23,
   "metadata": {
    "scrolled": false
   },
   "outputs": [
    {
     "name": "stderr",
     "output_type": "stream",
     "text": [
      "Model Training:   0%|                                                                                 | 16/14180 [00:00<01:29, 157.44it/s]"
     ]
    },
    {
     "name": "stdout",
     "output_type": "stream",
     "text": [
      "**************************************************epoch: 1**************************************************\n"
     ]
    },
    {
     "name": "stderr",
     "output_type": "stream",
     "text": [
      "Model Evaluating: 100%|████████████████████████████████████████████████████████████████████████████████| 316/316 [00:00<00:00, 652.43it/s]\n"
     ]
    },
    {
     "data": {
      "text/html": [
       "<div>\n",
       "<style scoped>\n",
       "    .dataframe tbody tr th:only-of-type {\n",
       "        vertical-align: middle;\n",
       "    }\n",
       "\n",
       "    .dataframe tbody tr th {\n",
       "        vertical-align: top;\n",
       "    }\n",
       "\n",
       "    .dataframe thead th {\n",
       "        text-align: right;\n",
       "    }\n",
       "</style>\n",
       "<table border=\"1\" class=\"dataframe\">\n",
       "  <thead>\n",
       "    <tr style=\"text-align: right;\">\n",
       "      <th></th>\n",
       "      <th>eval_loss</th>\n",
       "      <th>eval_mse</th>\n",
       "      <th>train_loss</th>\n",
       "      <th>train_mse</th>\n",
       "      <th>steps</th>\n",
       "      <th>best_checkpoint</th>\n",
       "    </tr>\n",
       "  </thead>\n",
       "  <tbody>\n",
       "    <tr>\n",
       "      <th>0</th>\n",
       "      <td>0.612134</td>\n",
       "      <td>0.043665</td>\n",
       "      <td>0.616264</td>\n",
       "      <td>0.045665</td>\n",
       "      <td>500</td>\n",
       "      <td>500</td>\n",
       "    </tr>\n",
       "  </tbody>\n",
       "</table>\n",
       "</div>"
      ],
      "text/plain": [
       "   eval_loss  eval_mse  train_loss  train_mse  steps  best_checkpoint\n",
       "0   0.612134  0.043665    0.616264   0.045665    500              500"
      ]
     },
     "metadata": {},
     "output_type": "display_data"
    },
    {
     "name": "stderr",
     "output_type": "stream",
     "text": [
      "Model Evaluating: 100%|████████████████████████████████████████████████████████████████████████████████| 316/316 [00:00<00:00, 714.97it/s]\n"
     ]
    },
    {
     "data": {
      "text/html": [
       "<div>\n",
       "<style scoped>\n",
       "    .dataframe tbody tr th:only-of-type {\n",
       "        vertical-align: middle;\n",
       "    }\n",
       "\n",
       "    .dataframe tbody tr th {\n",
       "        vertical-align: top;\n",
       "    }\n",
       "\n",
       "    .dataframe thead th {\n",
       "        text-align: right;\n",
       "    }\n",
       "</style>\n",
       "<table border=\"1\" class=\"dataframe\">\n",
       "  <thead>\n",
       "    <tr style=\"text-align: right;\">\n",
       "      <th></th>\n",
       "      <th>eval_loss</th>\n",
       "      <th>eval_mse</th>\n",
       "      <th>train_loss</th>\n",
       "      <th>train_mse</th>\n",
       "      <th>steps</th>\n",
       "      <th>best_checkpoint</th>\n",
       "    </tr>\n",
       "  </thead>\n",
       "  <tbody>\n",
       "    <tr>\n",
       "      <th>0</th>\n",
       "      <td>0.60686</td>\n",
       "      <td>0.041039</td>\n",
       "      <td>0.610733</td>\n",
       "      <td>0.043404</td>\n",
       "      <td>1000</td>\n",
       "      <td>1000</td>\n",
       "    </tr>\n",
       "  </tbody>\n",
       "</table>\n",
       "</div>"
      ],
      "text/plain": [
       "   eval_loss  eval_mse  train_loss  train_mse  steps  best_checkpoint\n",
       "0    0.60686  0.041039    0.610733   0.043404   1000             1000"
      ]
     },
     "metadata": {},
     "output_type": "display_data"
    },
    {
     "name": "stderr",
     "output_type": "stream",
     "text": [
      "Model Evaluating: 100%|████████████████████████████████████████████████████████████████████████████████| 316/316 [00:00<00:00, 720.20it/s]\n"
     ]
    },
    {
     "data": {
      "text/html": [
       "<div>\n",
       "<style scoped>\n",
       "    .dataframe tbody tr th:only-of-type {\n",
       "        vertical-align: middle;\n",
       "    }\n",
       "\n",
       "    .dataframe tbody tr th {\n",
       "        vertical-align: top;\n",
       "    }\n",
       "\n",
       "    .dataframe thead th {\n",
       "        text-align: right;\n",
       "    }\n",
       "</style>\n",
       "<table border=\"1\" class=\"dataframe\">\n",
       "  <thead>\n",
       "    <tr style=\"text-align: right;\">\n",
       "      <th></th>\n",
       "      <th>eval_loss</th>\n",
       "      <th>eval_mse</th>\n",
       "      <th>train_loss</th>\n",
       "      <th>train_mse</th>\n",
       "      <th>steps</th>\n",
       "      <th>best_checkpoint</th>\n",
       "    </tr>\n",
       "  </thead>\n",
       "  <tbody>\n",
       "    <tr>\n",
       "      <th>0</th>\n",
       "      <td>0.605337</td>\n",
       "      <td>0.041031</td>\n",
       "      <td>0.608284</td>\n",
       "      <td>0.042541</td>\n",
       "      <td>1500</td>\n",
       "      <td>1500</td>\n",
       "    </tr>\n",
       "  </tbody>\n",
       "</table>\n",
       "</div>"
      ],
      "text/plain": [
       "   eval_loss  eval_mse  train_loss  train_mse  steps  best_checkpoint\n",
       "0   0.605337  0.041031    0.608284   0.042541   1500             1500"
      ]
     },
     "metadata": {},
     "output_type": "display_data"
    },
    {
     "name": "stderr",
     "output_type": "stream",
     "text": [
      "Model Evaluating: 100%|████████████████████████████████████████████████████████████████████████████████| 316/316 [00:00<00:00, 711.93it/s]\n"
     ]
    },
    {
     "data": {
      "text/html": [
       "<div>\n",
       "<style scoped>\n",
       "    .dataframe tbody tr th:only-of-type {\n",
       "        vertical-align: middle;\n",
       "    }\n",
       "\n",
       "    .dataframe tbody tr th {\n",
       "        vertical-align: top;\n",
       "    }\n",
       "\n",
       "    .dataframe thead th {\n",
       "        text-align: right;\n",
       "    }\n",
       "</style>\n",
       "<table border=\"1\" class=\"dataframe\">\n",
       "  <thead>\n",
       "    <tr style=\"text-align: right;\">\n",
       "      <th></th>\n",
       "      <th>eval_loss</th>\n",
       "      <th>eval_mse</th>\n",
       "      <th>train_loss</th>\n",
       "      <th>train_mse</th>\n",
       "      <th>steps</th>\n",
       "      <th>best_checkpoint</th>\n",
       "    </tr>\n",
       "  </thead>\n",
       "  <tbody>\n",
       "    <tr>\n",
       "      <th>0</th>\n",
       "      <td>0.604655</td>\n",
       "      <td>0.039113</td>\n",
       "      <td>0.606394</td>\n",
       "      <td>0.041568</td>\n",
       "      <td>2000</td>\n",
       "      <td>2000</td>\n",
       "    </tr>\n",
       "  </tbody>\n",
       "</table>\n",
       "</div>"
      ],
      "text/plain": [
       "   eval_loss  eval_mse  train_loss  train_mse  steps  best_checkpoint\n",
       "0   0.604655  0.039113    0.606394   0.041568   2000             2000"
      ]
     },
     "metadata": {},
     "output_type": "display_data"
    },
    {
     "name": "stderr",
     "output_type": "stream",
     "text": [
      "Model Evaluating: 100%|████████████████████████████████████████████████████████████████████████████████| 316/316 [00:00<00:00, 706.66it/s]\n"
     ]
    },
    {
     "data": {
      "text/html": [
       "<div>\n",
       "<style scoped>\n",
       "    .dataframe tbody tr th:only-of-type {\n",
       "        vertical-align: middle;\n",
       "    }\n",
       "\n",
       "    .dataframe tbody tr th {\n",
       "        vertical-align: top;\n",
       "    }\n",
       "\n",
       "    .dataframe thead th {\n",
       "        text-align: right;\n",
       "    }\n",
       "</style>\n",
       "<table border=\"1\" class=\"dataframe\">\n",
       "  <thead>\n",
       "    <tr style=\"text-align: right;\">\n",
       "      <th></th>\n",
       "      <th>eval_loss</th>\n",
       "      <th>eval_mse</th>\n",
       "      <th>train_loss</th>\n",
       "      <th>train_mse</th>\n",
       "      <th>steps</th>\n",
       "      <th>best_checkpoint</th>\n",
       "    </tr>\n",
       "  </thead>\n",
       "  <tbody>\n",
       "    <tr>\n",
       "      <th>0</th>\n",
       "      <td>0.601892</td>\n",
       "      <td>0.039</td>\n",
       "      <td>0.60421</td>\n",
       "      <td>0.040769</td>\n",
       "      <td>2500</td>\n",
       "      <td>2500</td>\n",
       "    </tr>\n",
       "  </tbody>\n",
       "</table>\n",
       "</div>"
      ],
      "text/plain": [
       "   eval_loss  eval_mse  train_loss  train_mse  steps  best_checkpoint\n",
       "0   0.601892     0.039     0.60421   0.040769   2500             2500"
      ]
     },
     "metadata": {},
     "output_type": "display_data"
    },
    {
     "name": "stderr",
     "output_type": "stream",
     "text": [
      "Model Training:  20%|████████████████                                                               | 2873/14180 [00:15<00:50, 225.74it/s]"
     ]
    },
    {
     "name": "stdout",
     "output_type": "stream",
     "text": [
      "**************************************************epoch: 2**************************************************\n"
     ]
    },
    {
     "name": "stderr",
     "output_type": "stream",
     "text": [
      "Model Evaluating: 100%|████████████████████████████████████████████████████████████████████████████████| 316/316 [00:00<00:00, 709.60it/s]\n"
     ]
    },
    {
     "data": {
      "text/html": [
       "<div>\n",
       "<style scoped>\n",
       "    .dataframe tbody tr th:only-of-type {\n",
       "        vertical-align: middle;\n",
       "    }\n",
       "\n",
       "    .dataframe tbody tr th {\n",
       "        vertical-align: top;\n",
       "    }\n",
       "\n",
       "    .dataframe thead th {\n",
       "        text-align: right;\n",
       "    }\n",
       "</style>\n",
       "<table border=\"1\" class=\"dataframe\">\n",
       "  <thead>\n",
       "    <tr style=\"text-align: right;\">\n",
       "      <th></th>\n",
       "      <th>eval_loss</th>\n",
       "      <th>eval_mse</th>\n",
       "      <th>train_loss</th>\n",
       "      <th>train_mse</th>\n",
       "      <th>steps</th>\n",
       "      <th>best_checkpoint</th>\n",
       "    </tr>\n",
       "  </thead>\n",
       "  <tbody>\n",
       "    <tr>\n",
       "      <th>0</th>\n",
       "      <td>0.598789</td>\n",
       "      <td>0.038257</td>\n",
       "      <td>0.595244</td>\n",
       "      <td>0.034649</td>\n",
       "      <td>3000</td>\n",
       "      <td>3000</td>\n",
       "    </tr>\n",
       "  </tbody>\n",
       "</table>\n",
       "</div>"
      ],
      "text/plain": [
       "   eval_loss  eval_mse  train_loss  train_mse  steps  best_checkpoint\n",
       "0   0.598789  0.038257    0.595244   0.034649   3000             3000"
      ]
     },
     "metadata": {},
     "output_type": "display_data"
    },
    {
     "name": "stderr",
     "output_type": "stream",
     "text": [
      "Model Evaluating: 100%|████████████████████████████████████████████████████████████████████████████████| 316/316 [00:00<00:00, 698.70it/s]\n"
     ]
    },
    {
     "data": {
      "text/html": [
       "<div>\n",
       "<style scoped>\n",
       "    .dataframe tbody tr th:only-of-type {\n",
       "        vertical-align: middle;\n",
       "    }\n",
       "\n",
       "    .dataframe tbody tr th {\n",
       "        vertical-align: top;\n",
       "    }\n",
       "\n",
       "    .dataframe thead th {\n",
       "        text-align: right;\n",
       "    }\n",
       "</style>\n",
       "<table border=\"1\" class=\"dataframe\">\n",
       "  <thead>\n",
       "    <tr style=\"text-align: right;\">\n",
       "      <th></th>\n",
       "      <th>eval_loss</th>\n",
       "      <th>eval_mse</th>\n",
       "      <th>train_loss</th>\n",
       "      <th>train_mse</th>\n",
       "      <th>steps</th>\n",
       "      <th>best_checkpoint</th>\n",
       "    </tr>\n",
       "  </thead>\n",
       "  <tbody>\n",
       "    <tr>\n",
       "      <th>0</th>\n",
       "      <td>0.5958</td>\n",
       "      <td>0.036967</td>\n",
       "      <td>0.592114</td>\n",
       "      <td>0.035306</td>\n",
       "      <td>3500</td>\n",
       "      <td>3500</td>\n",
       "    </tr>\n",
       "  </tbody>\n",
       "</table>\n",
       "</div>"
      ],
      "text/plain": [
       "   eval_loss  eval_mse  train_loss  train_mse  steps  best_checkpoint\n",
       "0     0.5958  0.036967    0.592114   0.035306   3500             3500"
      ]
     },
     "metadata": {},
     "output_type": "display_data"
    },
    {
     "name": "stderr",
     "output_type": "stream",
     "text": [
      "Model Evaluating: 100%|████████████████████████████████████████████████████████████████████████████████| 316/316 [00:00<00:00, 703.79it/s]\n"
     ]
    },
    {
     "data": {
      "text/html": [
       "<div>\n",
       "<style scoped>\n",
       "    .dataframe tbody tr th:only-of-type {\n",
       "        vertical-align: middle;\n",
       "    }\n",
       "\n",
       "    .dataframe tbody tr th {\n",
       "        vertical-align: top;\n",
       "    }\n",
       "\n",
       "    .dataframe thead th {\n",
       "        text-align: right;\n",
       "    }\n",
       "</style>\n",
       "<table border=\"1\" class=\"dataframe\">\n",
       "  <thead>\n",
       "    <tr style=\"text-align: right;\">\n",
       "      <th></th>\n",
       "      <th>eval_loss</th>\n",
       "      <th>eval_mse</th>\n",
       "      <th>train_loss</th>\n",
       "      <th>train_mse</th>\n",
       "      <th>steps</th>\n",
       "      <th>best_checkpoint</th>\n",
       "    </tr>\n",
       "  </thead>\n",
       "  <tbody>\n",
       "    <tr>\n",
       "      <th>0</th>\n",
       "      <td>0.600604</td>\n",
       "      <td>0.037982</td>\n",
       "      <td>0.592989</td>\n",
       "      <td>0.03551</td>\n",
       "      <td>4000</td>\n",
       "      <td>3500</td>\n",
       "    </tr>\n",
       "  </tbody>\n",
       "</table>\n",
       "</div>"
      ],
      "text/plain": [
       "   eval_loss  eval_mse  train_loss  train_mse  steps  best_checkpoint\n",
       "0   0.600604  0.037982    0.592989    0.03551   4000             3500"
      ]
     },
     "metadata": {},
     "output_type": "display_data"
    },
    {
     "name": "stderr",
     "output_type": "stream",
     "text": [
      "Model Evaluating: 100%|████████████████████████████████████████████████████████████████████████████████| 316/316 [00:00<00:00, 718.14it/s]\n"
     ]
    },
    {
     "data": {
      "text/html": [
       "<div>\n",
       "<style scoped>\n",
       "    .dataframe tbody tr th:only-of-type {\n",
       "        vertical-align: middle;\n",
       "    }\n",
       "\n",
       "    .dataframe tbody tr th {\n",
       "        vertical-align: top;\n",
       "    }\n",
       "\n",
       "    .dataframe thead th {\n",
       "        text-align: right;\n",
       "    }\n",
       "</style>\n",
       "<table border=\"1\" class=\"dataframe\">\n",
       "  <thead>\n",
       "    <tr style=\"text-align: right;\">\n",
       "      <th></th>\n",
       "      <th>eval_loss</th>\n",
       "      <th>eval_mse</th>\n",
       "      <th>train_loss</th>\n",
       "      <th>train_mse</th>\n",
       "      <th>steps</th>\n",
       "      <th>best_checkpoint</th>\n",
       "    </tr>\n",
       "  </thead>\n",
       "  <tbody>\n",
       "    <tr>\n",
       "      <th>0</th>\n",
       "      <td>0.598931</td>\n",
       "      <td>0.037795</td>\n",
       "      <td>0.592164</td>\n",
       "      <td>0.035364</td>\n",
       "      <td>4500</td>\n",
       "      <td>3500</td>\n",
       "    </tr>\n",
       "  </tbody>\n",
       "</table>\n",
       "</div>"
      ],
      "text/plain": [
       "   eval_loss  eval_mse  train_loss  train_mse  steps  best_checkpoint\n",
       "0   0.598931  0.037795    0.592164   0.035364   4500             3500"
      ]
     },
     "metadata": {},
     "output_type": "display_data"
    },
    {
     "name": "stderr",
     "output_type": "stream",
     "text": [
      "Model Evaluating: 100%|████████████████████████████████████████████████████████████████████████████████| 316/316 [00:00<00:00, 662.39it/s]\n"
     ]
    },
    {
     "data": {
      "text/html": [
       "<div>\n",
       "<style scoped>\n",
       "    .dataframe tbody tr th:only-of-type {\n",
       "        vertical-align: middle;\n",
       "    }\n",
       "\n",
       "    .dataframe tbody tr th {\n",
       "        vertical-align: top;\n",
       "    }\n",
       "\n",
       "    .dataframe thead th {\n",
       "        text-align: right;\n",
       "    }\n",
       "</style>\n",
       "<table border=\"1\" class=\"dataframe\">\n",
       "  <thead>\n",
       "    <tr style=\"text-align: right;\">\n",
       "      <th></th>\n",
       "      <th>eval_loss</th>\n",
       "      <th>eval_mse</th>\n",
       "      <th>train_loss</th>\n",
       "      <th>train_mse</th>\n",
       "      <th>steps</th>\n",
       "      <th>best_checkpoint</th>\n",
       "    </tr>\n",
       "  </thead>\n",
       "  <tbody>\n",
       "    <tr>\n",
       "      <th>0</th>\n",
       "      <td>0.596484</td>\n",
       "      <td>0.036168</td>\n",
       "      <td>0.591971</td>\n",
       "      <td>0.035228</td>\n",
       "      <td>5000</td>\n",
       "      <td>3500</td>\n",
       "    </tr>\n",
       "  </tbody>\n",
       "</table>\n",
       "</div>"
      ],
      "text/plain": [
       "   eval_loss  eval_mse  train_loss  train_mse  steps  best_checkpoint\n",
       "0   0.596484  0.036168    0.591971   0.035228   5000             3500"
      ]
     },
     "metadata": {},
     "output_type": "display_data"
    },
    {
     "name": "stderr",
     "output_type": "stream",
     "text": [
      "Model Evaluating: 100%|████████████████████████████████████████████████████████████████████████████████| 316/316 [00:00<00:00, 717.65it/s]\n"
     ]
    },
    {
     "data": {
      "text/html": [
       "<div>\n",
       "<style scoped>\n",
       "    .dataframe tbody tr th:only-of-type {\n",
       "        vertical-align: middle;\n",
       "    }\n",
       "\n",
       "    .dataframe tbody tr th {\n",
       "        vertical-align: top;\n",
       "    }\n",
       "\n",
       "    .dataframe thead th {\n",
       "        text-align: right;\n",
       "    }\n",
       "</style>\n",
       "<table border=\"1\" class=\"dataframe\">\n",
       "  <thead>\n",
       "    <tr style=\"text-align: right;\">\n",
       "      <th></th>\n",
       "      <th>eval_loss</th>\n",
       "      <th>eval_mse</th>\n",
       "      <th>train_loss</th>\n",
       "      <th>train_mse</th>\n",
       "      <th>steps</th>\n",
       "      <th>best_checkpoint</th>\n",
       "    </tr>\n",
       "  </thead>\n",
       "  <tbody>\n",
       "    <tr>\n",
       "      <th>0</th>\n",
       "      <td>0.59442</td>\n",
       "      <td>0.036281</td>\n",
       "      <td>0.590879</td>\n",
       "      <td>0.035003</td>\n",
       "      <td>5500</td>\n",
       "      <td>5500</td>\n",
       "    </tr>\n",
       "  </tbody>\n",
       "</table>\n",
       "</div>"
      ],
      "text/plain": [
       "   eval_loss  eval_mse  train_loss  train_mse  steps  best_checkpoint\n",
       "0    0.59442  0.036281    0.590879   0.035003   5500             5500"
      ]
     },
     "metadata": {},
     "output_type": "display_data"
    },
    {
     "name": "stderr",
     "output_type": "stream",
     "text": [
      "Model Training:  40%|███████████████████████████████▊                                               | 5714/14180 [00:30<00:39, 215.82it/s]"
     ]
    },
    {
     "name": "stdout",
     "output_type": "stream",
     "text": [
      "**************************************************epoch: 3**************************************************\n"
     ]
    },
    {
     "name": "stderr",
     "output_type": "stream",
     "text": [
      "Model Evaluating: 100%|████████████████████████████████████████████████████████████████████████████████| 316/316 [00:00<00:00, 715.94it/s]\n"
     ]
    },
    {
     "data": {
      "text/html": [
       "<div>\n",
       "<style scoped>\n",
       "    .dataframe tbody tr th:only-of-type {\n",
       "        vertical-align: middle;\n",
       "    }\n",
       "\n",
       "    .dataframe tbody tr th {\n",
       "        vertical-align: top;\n",
       "    }\n",
       "\n",
       "    .dataframe thead th {\n",
       "        text-align: right;\n",
       "    }\n",
       "</style>\n",
       "<table border=\"1\" class=\"dataframe\">\n",
       "  <thead>\n",
       "    <tr style=\"text-align: right;\">\n",
       "      <th></th>\n",
       "      <th>eval_loss</th>\n",
       "      <th>eval_mse</th>\n",
       "      <th>train_loss</th>\n",
       "      <th>train_mse</th>\n",
       "      <th>steps</th>\n",
       "      <th>best_checkpoint</th>\n",
       "    </tr>\n",
       "  </thead>\n",
       "  <tbody>\n",
       "    <tr>\n",
       "      <th>0</th>\n",
       "      <td>0.598899</td>\n",
       "      <td>0.037188</td>\n",
       "      <td>0.582004</td>\n",
       "      <td>0.031698</td>\n",
       "      <td>6000</td>\n",
       "      <td>5500</td>\n",
       "    </tr>\n",
       "  </tbody>\n",
       "</table>\n",
       "</div>"
      ],
      "text/plain": [
       "   eval_loss  eval_mse  train_loss  train_mse  steps  best_checkpoint\n",
       "0   0.598899  0.037188    0.582004   0.031698   6000             5500"
      ]
     },
     "metadata": {},
     "output_type": "display_data"
    },
    {
     "name": "stderr",
     "output_type": "stream",
     "text": [
      "Model Evaluating: 100%|████████████████████████████████████████████████████████████████████████████████| 316/316 [00:00<00:00, 714.49it/s]\n"
     ]
    },
    {
     "data": {
      "text/html": [
       "<div>\n",
       "<style scoped>\n",
       "    .dataframe tbody tr th:only-of-type {\n",
       "        vertical-align: middle;\n",
       "    }\n",
       "\n",
       "    .dataframe tbody tr th {\n",
       "        vertical-align: top;\n",
       "    }\n",
       "\n",
       "    .dataframe thead th {\n",
       "        text-align: right;\n",
       "    }\n",
       "</style>\n",
       "<table border=\"1\" class=\"dataframe\">\n",
       "  <thead>\n",
       "    <tr style=\"text-align: right;\">\n",
       "      <th></th>\n",
       "      <th>eval_loss</th>\n",
       "      <th>eval_mse</th>\n",
       "      <th>train_loss</th>\n",
       "      <th>train_mse</th>\n",
       "      <th>steps</th>\n",
       "      <th>best_checkpoint</th>\n",
       "    </tr>\n",
       "  </thead>\n",
       "  <tbody>\n",
       "    <tr>\n",
       "      <th>0</th>\n",
       "      <td>0.594491</td>\n",
       "      <td>0.036424</td>\n",
       "      <td>0.584049</td>\n",
       "      <td>0.032055</td>\n",
       "      <td>6500</td>\n",
       "      <td>5500</td>\n",
       "    </tr>\n",
       "  </tbody>\n",
       "</table>\n",
       "</div>"
      ],
      "text/plain": [
       "   eval_loss  eval_mse  train_loss  train_mse  steps  best_checkpoint\n",
       "0   0.594491  0.036424    0.584049   0.032055   6500             5500"
      ]
     },
     "metadata": {},
     "output_type": "display_data"
    },
    {
     "name": "stderr",
     "output_type": "stream",
     "text": [
      "Model Evaluating: 100%|████████████████████████████████████████████████████████████████████████████████| 316/316 [00:00<00:00, 710.55it/s]\n"
     ]
    },
    {
     "data": {
      "text/html": [
       "<div>\n",
       "<style scoped>\n",
       "    .dataframe tbody tr th:only-of-type {\n",
       "        vertical-align: middle;\n",
       "    }\n",
       "\n",
       "    .dataframe tbody tr th {\n",
       "        vertical-align: top;\n",
       "    }\n",
       "\n",
       "    .dataframe thead th {\n",
       "        text-align: right;\n",
       "    }\n",
       "</style>\n",
       "<table border=\"1\" class=\"dataframe\">\n",
       "  <thead>\n",
       "    <tr style=\"text-align: right;\">\n",
       "      <th></th>\n",
       "      <th>eval_loss</th>\n",
       "      <th>eval_mse</th>\n",
       "      <th>train_loss</th>\n",
       "      <th>train_mse</th>\n",
       "      <th>steps</th>\n",
       "      <th>best_checkpoint</th>\n",
       "    </tr>\n",
       "  </thead>\n",
       "  <tbody>\n",
       "    <tr>\n",
       "      <th>0</th>\n",
       "      <td>0.594179</td>\n",
       "      <td>0.036443</td>\n",
       "      <td>0.585356</td>\n",
       "      <td>0.032392</td>\n",
       "      <td>7000</td>\n",
       "      <td>7000</td>\n",
       "    </tr>\n",
       "  </tbody>\n",
       "</table>\n",
       "</div>"
      ],
      "text/plain": [
       "   eval_loss  eval_mse  train_loss  train_mse  steps  best_checkpoint\n",
       "0   0.594179  0.036443    0.585356   0.032392   7000             7000"
      ]
     },
     "metadata": {},
     "output_type": "display_data"
    },
    {
     "name": "stderr",
     "output_type": "stream",
     "text": [
      "Model Evaluating: 100%|████████████████████████████████████████████████████████████████████████████████| 316/316 [00:00<00:00, 712.05it/s]\n"
     ]
    },
    {
     "data": {
      "text/html": [
       "<div>\n",
       "<style scoped>\n",
       "    .dataframe tbody tr th:only-of-type {\n",
       "        vertical-align: middle;\n",
       "    }\n",
       "\n",
       "    .dataframe tbody tr th {\n",
       "        vertical-align: top;\n",
       "    }\n",
       "\n",
       "    .dataframe thead th {\n",
       "        text-align: right;\n",
       "    }\n",
       "</style>\n",
       "<table border=\"1\" class=\"dataframe\">\n",
       "  <thead>\n",
       "    <tr style=\"text-align: right;\">\n",
       "      <th></th>\n",
       "      <th>eval_loss</th>\n",
       "      <th>eval_mse</th>\n",
       "      <th>train_loss</th>\n",
       "      <th>train_mse</th>\n",
       "      <th>steps</th>\n",
       "      <th>best_checkpoint</th>\n",
       "    </tr>\n",
       "  </thead>\n",
       "  <tbody>\n",
       "    <tr>\n",
       "      <th>0</th>\n",
       "      <td>0.594492</td>\n",
       "      <td>0.036493</td>\n",
       "      <td>0.585795</td>\n",
       "      <td>0.032628</td>\n",
       "      <td>7500</td>\n",
       "      <td>7000</td>\n",
       "    </tr>\n",
       "  </tbody>\n",
       "</table>\n",
       "</div>"
      ],
      "text/plain": [
       "   eval_loss  eval_mse  train_loss  train_mse  steps  best_checkpoint\n",
       "0   0.594492  0.036493    0.585795   0.032628   7500             7000"
      ]
     },
     "metadata": {},
     "output_type": "display_data"
    },
    {
     "name": "stderr",
     "output_type": "stream",
     "text": [
      "Model Evaluating: 100%|████████████████████████████████████████████████████████████████████████████████| 316/316 [00:00<00:00, 711.78it/s]\n"
     ]
    },
    {
     "data": {
      "text/html": [
       "<div>\n",
       "<style scoped>\n",
       "    .dataframe tbody tr th:only-of-type {\n",
       "        vertical-align: middle;\n",
       "    }\n",
       "\n",
       "    .dataframe tbody tr th {\n",
       "        vertical-align: top;\n",
       "    }\n",
       "\n",
       "    .dataframe thead th {\n",
       "        text-align: right;\n",
       "    }\n",
       "</style>\n",
       "<table border=\"1\" class=\"dataframe\">\n",
       "  <thead>\n",
       "    <tr style=\"text-align: right;\">\n",
       "      <th></th>\n",
       "      <th>eval_loss</th>\n",
       "      <th>eval_mse</th>\n",
       "      <th>train_loss</th>\n",
       "      <th>train_mse</th>\n",
       "      <th>steps</th>\n",
       "      <th>best_checkpoint</th>\n",
       "    </tr>\n",
       "  </thead>\n",
       "  <tbody>\n",
       "    <tr>\n",
       "      <th>0</th>\n",
       "      <td>0.594919</td>\n",
       "      <td>0.035963</td>\n",
       "      <td>0.585667</td>\n",
       "      <td>0.032877</td>\n",
       "      <td>8000</td>\n",
       "      <td>7000</td>\n",
       "    </tr>\n",
       "  </tbody>\n",
       "</table>\n",
       "</div>"
      ],
      "text/plain": [
       "   eval_loss  eval_mse  train_loss  train_mse  steps  best_checkpoint\n",
       "0   0.594919  0.035963    0.585667   0.032877   8000             7000"
      ]
     },
     "metadata": {},
     "output_type": "display_data"
    },
    {
     "name": "stderr",
     "output_type": "stream",
     "text": [
      "Model Evaluating: 100%|████████████████████████████████████████████████████████████████████████████████| 316/316 [00:00<00:00, 707.78it/s]\n"
     ]
    },
    {
     "data": {
      "text/html": [
       "<div>\n",
       "<style scoped>\n",
       "    .dataframe tbody tr th:only-of-type {\n",
       "        vertical-align: middle;\n",
       "    }\n",
       "\n",
       "    .dataframe tbody tr th {\n",
       "        vertical-align: top;\n",
       "    }\n",
       "\n",
       "    .dataframe thead th {\n",
       "        text-align: right;\n",
       "    }\n",
       "</style>\n",
       "<table border=\"1\" class=\"dataframe\">\n",
       "  <thead>\n",
       "    <tr style=\"text-align: right;\">\n",
       "      <th></th>\n",
       "      <th>eval_loss</th>\n",
       "      <th>eval_mse</th>\n",
       "      <th>train_loss</th>\n",
       "      <th>train_mse</th>\n",
       "      <th>steps</th>\n",
       "      <th>best_checkpoint</th>\n",
       "    </tr>\n",
       "  </thead>\n",
       "  <tbody>\n",
       "    <tr>\n",
       "      <th>0</th>\n",
       "      <td>0.593444</td>\n",
       "      <td>0.035695</td>\n",
       "      <td>0.585784</td>\n",
       "      <td>0.032966</td>\n",
       "      <td>8500</td>\n",
       "      <td>8500</td>\n",
       "    </tr>\n",
       "  </tbody>\n",
       "</table>\n",
       "</div>"
      ],
      "text/plain": [
       "   eval_loss  eval_mse  train_loss  train_mse  steps  best_checkpoint\n",
       "0   0.593444  0.035695    0.585784   0.032966   8500             8500"
      ]
     },
     "metadata": {},
     "output_type": "display_data"
    },
    {
     "name": "stderr",
     "output_type": "stream",
     "text": [
      "Model Training:  60%|███████████████████████████████████████████████▌                               | 8535/14180 [00:45<00:48, 117.16it/s]"
     ]
    },
    {
     "name": "stdout",
     "output_type": "stream",
     "text": [
      "**************************************************epoch: 4**************************************************\n"
     ]
    },
    {
     "name": "stderr",
     "output_type": "stream",
     "text": [
      "Model Evaluating: 100%|████████████████████████████████████████████████████████████████████████████████| 316/316 [00:00<00:00, 704.31it/s]\n"
     ]
    },
    {
     "data": {
      "text/html": [
       "<div>\n",
       "<style scoped>\n",
       "    .dataframe tbody tr th:only-of-type {\n",
       "        vertical-align: middle;\n",
       "    }\n",
       "\n",
       "    .dataframe tbody tr th {\n",
       "        vertical-align: top;\n",
       "    }\n",
       "\n",
       "    .dataframe thead th {\n",
       "        text-align: right;\n",
       "    }\n",
       "</style>\n",
       "<table border=\"1\" class=\"dataframe\">\n",
       "  <thead>\n",
       "    <tr style=\"text-align: right;\">\n",
       "      <th></th>\n",
       "      <th>eval_loss</th>\n",
       "      <th>eval_mse</th>\n",
       "      <th>train_loss</th>\n",
       "      <th>train_mse</th>\n",
       "      <th>steps</th>\n",
       "      <th>best_checkpoint</th>\n",
       "    </tr>\n",
       "  </thead>\n",
       "  <tbody>\n",
       "    <tr>\n",
       "      <th>0</th>\n",
       "      <td>0.59514</td>\n",
       "      <td>0.036492</td>\n",
       "      <td>0.5783</td>\n",
       "      <td>0.030377</td>\n",
       "      <td>9000</td>\n",
       "      <td>8500</td>\n",
       "    </tr>\n",
       "  </tbody>\n",
       "</table>\n",
       "</div>"
      ],
      "text/plain": [
       "   eval_loss  eval_mse  train_loss  train_mse  steps  best_checkpoint\n",
       "0    0.59514  0.036492      0.5783   0.030377   9000             8500"
      ]
     },
     "metadata": {},
     "output_type": "display_data"
    },
    {
     "name": "stderr",
     "output_type": "stream",
     "text": [
      "Model Evaluating: 100%|████████████████████████████████████████████████████████████████████████████████| 316/316 [00:00<00:00, 707.02it/s]\n"
     ]
    },
    {
     "data": {
      "text/html": [
       "<div>\n",
       "<style scoped>\n",
       "    .dataframe tbody tr th:only-of-type {\n",
       "        vertical-align: middle;\n",
       "    }\n",
       "\n",
       "    .dataframe tbody tr th {\n",
       "        vertical-align: top;\n",
       "    }\n",
       "\n",
       "    .dataframe thead th {\n",
       "        text-align: right;\n",
       "    }\n",
       "</style>\n",
       "<table border=\"1\" class=\"dataframe\">\n",
       "  <thead>\n",
       "    <tr style=\"text-align: right;\">\n",
       "      <th></th>\n",
       "      <th>eval_loss</th>\n",
       "      <th>eval_mse</th>\n",
       "      <th>train_loss</th>\n",
       "      <th>train_mse</th>\n",
       "      <th>steps</th>\n",
       "      <th>best_checkpoint</th>\n",
       "    </tr>\n",
       "  </thead>\n",
       "  <tbody>\n",
       "    <tr>\n",
       "      <th>0</th>\n",
       "      <td>0.595739</td>\n",
       "      <td>0.036774</td>\n",
       "      <td>0.579311</td>\n",
       "      <td>0.030869</td>\n",
       "      <td>9500</td>\n",
       "      <td>8500</td>\n",
       "    </tr>\n",
       "  </tbody>\n",
       "</table>\n",
       "</div>"
      ],
      "text/plain": [
       "   eval_loss  eval_mse  train_loss  train_mse  steps  best_checkpoint\n",
       "0   0.595739  0.036774    0.579311   0.030869   9500             8500"
      ]
     },
     "metadata": {},
     "output_type": "display_data"
    },
    {
     "name": "stderr",
     "output_type": "stream",
     "text": [
      "Model Evaluating: 100%|████████████████████████████████████████████████████████████████████████████████| 316/316 [00:00<00:00, 704.39it/s]\n"
     ]
    },
    {
     "data": {
      "text/html": [
       "<div>\n",
       "<style scoped>\n",
       "    .dataframe tbody tr th:only-of-type {\n",
       "        vertical-align: middle;\n",
       "    }\n",
       "\n",
       "    .dataframe tbody tr th {\n",
       "        vertical-align: top;\n",
       "    }\n",
       "\n",
       "    .dataframe thead th {\n",
       "        text-align: right;\n",
       "    }\n",
       "</style>\n",
       "<table border=\"1\" class=\"dataframe\">\n",
       "  <thead>\n",
       "    <tr style=\"text-align: right;\">\n",
       "      <th></th>\n",
       "      <th>eval_loss</th>\n",
       "      <th>eval_mse</th>\n",
       "      <th>train_loss</th>\n",
       "      <th>train_mse</th>\n",
       "      <th>steps</th>\n",
       "      <th>best_checkpoint</th>\n",
       "    </tr>\n",
       "  </thead>\n",
       "  <tbody>\n",
       "    <tr>\n",
       "      <th>0</th>\n",
       "      <td>0.594924</td>\n",
       "      <td>0.036385</td>\n",
       "      <td>0.580259</td>\n",
       "      <td>0.030866</td>\n",
       "      <td>10000</td>\n",
       "      <td>8500</td>\n",
       "    </tr>\n",
       "  </tbody>\n",
       "</table>\n",
       "</div>"
      ],
      "text/plain": [
       "   eval_loss  eval_mse  train_loss  train_mse  steps  best_checkpoint\n",
       "0   0.594924  0.036385    0.580259   0.030866  10000             8500"
      ]
     },
     "metadata": {},
     "output_type": "display_data"
    },
    {
     "name": "stderr",
     "output_type": "stream",
     "text": [
      "Model Evaluating: 100%|████████████████████████████████████████████████████████████████████████████████| 316/316 [00:00<00:00, 710.64it/s]\n"
     ]
    },
    {
     "data": {
      "text/html": [
       "<div>\n",
       "<style scoped>\n",
       "    .dataframe tbody tr th:only-of-type {\n",
       "        vertical-align: middle;\n",
       "    }\n",
       "\n",
       "    .dataframe tbody tr th {\n",
       "        vertical-align: top;\n",
       "    }\n",
       "\n",
       "    .dataframe thead th {\n",
       "        text-align: right;\n",
       "    }\n",
       "</style>\n",
       "<table border=\"1\" class=\"dataframe\">\n",
       "  <thead>\n",
       "    <tr style=\"text-align: right;\">\n",
       "      <th></th>\n",
       "      <th>eval_loss</th>\n",
       "      <th>eval_mse</th>\n",
       "      <th>train_loss</th>\n",
       "      <th>train_mse</th>\n",
       "      <th>steps</th>\n",
       "      <th>best_checkpoint</th>\n",
       "    </tr>\n",
       "  </thead>\n",
       "  <tbody>\n",
       "    <tr>\n",
       "      <th>0</th>\n",
       "      <td>0.598026</td>\n",
       "      <td>0.037079</td>\n",
       "      <td>0.580928</td>\n",
       "      <td>0.031068</td>\n",
       "      <td>10500</td>\n",
       "      <td>8500</td>\n",
       "    </tr>\n",
       "  </tbody>\n",
       "</table>\n",
       "</div>"
      ],
      "text/plain": [
       "   eval_loss  eval_mse  train_loss  train_mse  steps  best_checkpoint\n",
       "0   0.598026  0.037079    0.580928   0.031068  10500             8500"
      ]
     },
     "metadata": {},
     "output_type": "display_data"
    },
    {
     "name": "stderr",
     "output_type": "stream",
     "text": [
      "Model Evaluating: 100%|████████████████████████████████████████████████████████████████████████████████| 316/316 [00:00<00:00, 707.11it/s]\n"
     ]
    },
    {
     "data": {
      "text/html": [
       "<div>\n",
       "<style scoped>\n",
       "    .dataframe tbody tr th:only-of-type {\n",
       "        vertical-align: middle;\n",
       "    }\n",
       "\n",
       "    .dataframe tbody tr th {\n",
       "        vertical-align: top;\n",
       "    }\n",
       "\n",
       "    .dataframe thead th {\n",
       "        text-align: right;\n",
       "    }\n",
       "</style>\n",
       "<table border=\"1\" class=\"dataframe\">\n",
       "  <thead>\n",
       "    <tr style=\"text-align: right;\">\n",
       "      <th></th>\n",
       "      <th>eval_loss</th>\n",
       "      <th>eval_mse</th>\n",
       "      <th>train_loss</th>\n",
       "      <th>train_mse</th>\n",
       "      <th>steps</th>\n",
       "      <th>best_checkpoint</th>\n",
       "    </tr>\n",
       "  </thead>\n",
       "  <tbody>\n",
       "    <tr>\n",
       "      <th>0</th>\n",
       "      <td>0.594387</td>\n",
       "      <td>0.036286</td>\n",
       "      <td>0.581131</td>\n",
       "      <td>0.03121</td>\n",
       "      <td>11000</td>\n",
       "      <td>8500</td>\n",
       "    </tr>\n",
       "  </tbody>\n",
       "</table>\n",
       "</div>"
      ],
      "text/plain": [
       "   eval_loss  eval_mse  train_loss  train_mse  steps  best_checkpoint\n",
       "0   0.594387  0.036286    0.581131    0.03121  11000             8500"
      ]
     },
     "metadata": {},
     "output_type": "display_data"
    },
    {
     "name": "stderr",
     "output_type": "stream",
     "text": [
      "Model Training:  80%|██████████████████████████████████████████████████████████████▌               | 11382/14180 [01:00<00:12, 229.57it/s]"
     ]
    },
    {
     "name": "stdout",
     "output_type": "stream",
     "text": [
      "**************************************************epoch: 5**************************************************\n"
     ]
    },
    {
     "name": "stderr",
     "output_type": "stream",
     "text": [
      "Model Evaluating: 100%|████████████████████████████████████████████████████████████████████████████████| 316/316 [00:00<00:00, 705.44it/s]\n"
     ]
    },
    {
     "data": {
      "text/html": [
       "<div>\n",
       "<style scoped>\n",
       "    .dataframe tbody tr th:only-of-type {\n",
       "        vertical-align: middle;\n",
       "    }\n",
       "\n",
       "    .dataframe tbody tr th {\n",
       "        vertical-align: top;\n",
       "    }\n",
       "\n",
       "    .dataframe thead th {\n",
       "        text-align: right;\n",
       "    }\n",
       "</style>\n",
       "<table border=\"1\" class=\"dataframe\">\n",
       "  <thead>\n",
       "    <tr style=\"text-align: right;\">\n",
       "      <th></th>\n",
       "      <th>eval_loss</th>\n",
       "      <th>eval_mse</th>\n",
       "      <th>train_loss</th>\n",
       "      <th>train_mse</th>\n",
       "      <th>steps</th>\n",
       "      <th>best_checkpoint</th>\n",
       "    </tr>\n",
       "  </thead>\n",
       "  <tbody>\n",
       "    <tr>\n",
       "      <th>0</th>\n",
       "      <td>0.599226</td>\n",
       "      <td>0.038259</td>\n",
       "      <td>0.57013</td>\n",
       "      <td>0.025979</td>\n",
       "      <td>11500</td>\n",
       "      <td>8500</td>\n",
       "    </tr>\n",
       "  </tbody>\n",
       "</table>\n",
       "</div>"
      ],
      "text/plain": [
       "   eval_loss  eval_mse  train_loss  train_mse  steps  best_checkpoint\n",
       "0   0.599226  0.038259     0.57013   0.025979  11500             8500"
      ]
     },
     "metadata": {},
     "output_type": "display_data"
    },
    {
     "name": "stderr",
     "output_type": "stream",
     "text": [
      "Model Evaluating: 100%|████████████████████████████████████████████████████████████████████████████████| 316/316 [00:00<00:00, 685.23it/s]\n"
     ]
    },
    {
     "data": {
      "text/html": [
       "<div>\n",
       "<style scoped>\n",
       "    .dataframe tbody tr th:only-of-type {\n",
       "        vertical-align: middle;\n",
       "    }\n",
       "\n",
       "    .dataframe tbody tr th {\n",
       "        vertical-align: top;\n",
       "    }\n",
       "\n",
       "    .dataframe thead th {\n",
       "        text-align: right;\n",
       "    }\n",
       "</style>\n",
       "<table border=\"1\" class=\"dataframe\">\n",
       "  <thead>\n",
       "    <tr style=\"text-align: right;\">\n",
       "      <th></th>\n",
       "      <th>eval_loss</th>\n",
       "      <th>eval_mse</th>\n",
       "      <th>train_loss</th>\n",
       "      <th>train_mse</th>\n",
       "      <th>steps</th>\n",
       "      <th>best_checkpoint</th>\n",
       "    </tr>\n",
       "  </thead>\n",
       "  <tbody>\n",
       "    <tr>\n",
       "      <th>0</th>\n",
       "      <td>0.599402</td>\n",
       "      <td>0.038197</td>\n",
       "      <td>0.572354</td>\n",
       "      <td>0.026763</td>\n",
       "      <td>12000</td>\n",
       "      <td>8500</td>\n",
       "    </tr>\n",
       "  </tbody>\n",
       "</table>\n",
       "</div>"
      ],
      "text/plain": [
       "   eval_loss  eval_mse  train_loss  train_mse  steps  best_checkpoint\n",
       "0   0.599402  0.038197    0.572354   0.026763  12000             8500"
      ]
     },
     "metadata": {},
     "output_type": "display_data"
    },
    {
     "name": "stderr",
     "output_type": "stream",
     "text": [
      "Model Evaluating: 100%|████████████████████████████████████████████████████████████████████████████████| 316/316 [00:00<00:00, 703.28it/s]\n"
     ]
    },
    {
     "data": {
      "text/html": [
       "<div>\n",
       "<style scoped>\n",
       "    .dataframe tbody tr th:only-of-type {\n",
       "        vertical-align: middle;\n",
       "    }\n",
       "\n",
       "    .dataframe tbody tr th {\n",
       "        vertical-align: top;\n",
       "    }\n",
       "\n",
       "    .dataframe thead th {\n",
       "        text-align: right;\n",
       "    }\n",
       "</style>\n",
       "<table border=\"1\" class=\"dataframe\">\n",
       "  <thead>\n",
       "    <tr style=\"text-align: right;\">\n",
       "      <th></th>\n",
       "      <th>eval_loss</th>\n",
       "      <th>eval_mse</th>\n",
       "      <th>train_loss</th>\n",
       "      <th>train_mse</th>\n",
       "      <th>steps</th>\n",
       "      <th>best_checkpoint</th>\n",
       "    </tr>\n",
       "  </thead>\n",
       "  <tbody>\n",
       "    <tr>\n",
       "      <th>0</th>\n",
       "      <td>0.60078</td>\n",
       "      <td>0.038848</td>\n",
       "      <td>0.572919</td>\n",
       "      <td>0.027466</td>\n",
       "      <td>12500</td>\n",
       "      <td>8500</td>\n",
       "    </tr>\n",
       "  </tbody>\n",
       "</table>\n",
       "</div>"
      ],
      "text/plain": [
       "   eval_loss  eval_mse  train_loss  train_mse  steps  best_checkpoint\n",
       "0    0.60078  0.038848    0.572919   0.027466  12500             8500"
      ]
     },
     "metadata": {},
     "output_type": "display_data"
    },
    {
     "name": "stderr",
     "output_type": "stream",
     "text": [
      "Model Evaluating: 100%|████████████████████████████████████████████████████████████████████████████████| 316/316 [00:00<00:00, 706.33it/s]\n"
     ]
    },
    {
     "data": {
      "text/html": [
       "<div>\n",
       "<style scoped>\n",
       "    .dataframe tbody tr th:only-of-type {\n",
       "        vertical-align: middle;\n",
       "    }\n",
       "\n",
       "    .dataframe tbody tr th {\n",
       "        vertical-align: top;\n",
       "    }\n",
       "\n",
       "    .dataframe thead th {\n",
       "        text-align: right;\n",
       "    }\n",
       "</style>\n",
       "<table border=\"1\" class=\"dataframe\">\n",
       "  <thead>\n",
       "    <tr style=\"text-align: right;\">\n",
       "      <th></th>\n",
       "      <th>eval_loss</th>\n",
       "      <th>eval_mse</th>\n",
       "      <th>train_loss</th>\n",
       "      <th>train_mse</th>\n",
       "      <th>steps</th>\n",
       "      <th>best_checkpoint</th>\n",
       "    </tr>\n",
       "  </thead>\n",
       "  <tbody>\n",
       "    <tr>\n",
       "      <th>0</th>\n",
       "      <td>0.601664</td>\n",
       "      <td>0.039173</td>\n",
       "      <td>0.573541</td>\n",
       "      <td>0.027969</td>\n",
       "      <td>13000</td>\n",
       "      <td>8500</td>\n",
       "    </tr>\n",
       "  </tbody>\n",
       "</table>\n",
       "</div>"
      ],
      "text/plain": [
       "   eval_loss  eval_mse  train_loss  train_mse  steps  best_checkpoint\n",
       "0   0.601664  0.039173    0.573541   0.027969  13000             8500"
      ]
     },
     "metadata": {},
     "output_type": "display_data"
    },
    {
     "name": "stderr",
     "output_type": "stream",
     "text": [
      "Model Evaluating: 100%|████████████████████████████████████████████████████████████████████████████████| 316/316 [00:00<00:00, 661.47it/s]\n"
     ]
    },
    {
     "data": {
      "text/html": [
       "<div>\n",
       "<style scoped>\n",
       "    .dataframe tbody tr th:only-of-type {\n",
       "        vertical-align: middle;\n",
       "    }\n",
       "\n",
       "    .dataframe tbody tr th {\n",
       "        vertical-align: top;\n",
       "    }\n",
       "\n",
       "    .dataframe thead th {\n",
       "        text-align: right;\n",
       "    }\n",
       "</style>\n",
       "<table border=\"1\" class=\"dataframe\">\n",
       "  <thead>\n",
       "    <tr style=\"text-align: right;\">\n",
       "      <th></th>\n",
       "      <th>eval_loss</th>\n",
       "      <th>eval_mse</th>\n",
       "      <th>train_loss</th>\n",
       "      <th>train_mse</th>\n",
       "      <th>steps</th>\n",
       "      <th>best_checkpoint</th>\n",
       "    </tr>\n",
       "  </thead>\n",
       "  <tbody>\n",
       "    <tr>\n",
       "      <th>0</th>\n",
       "      <td>0.600107</td>\n",
       "      <td>0.038103</td>\n",
       "      <td>0.573837</td>\n",
       "      <td>0.028315</td>\n",
       "      <td>13500</td>\n",
       "      <td>8500</td>\n",
       "    </tr>\n",
       "  </tbody>\n",
       "</table>\n",
       "</div>"
      ],
      "text/plain": [
       "   eval_loss  eval_mse  train_loss  train_mse  steps  best_checkpoint\n",
       "0   0.600107  0.038103    0.573837   0.028315  13500             8500"
      ]
     },
     "metadata": {},
     "output_type": "display_data"
    },
    {
     "name": "stderr",
     "output_type": "stream",
     "text": [
      "Model Evaluating: 100%|████████████████████████████████████████████████████████████████████████████████| 316/316 [00:00<00:00, 706.39it/s]\n"
     ]
    },
    {
     "data": {
      "text/html": [
       "<div>\n",
       "<style scoped>\n",
       "    .dataframe tbody tr th:only-of-type {\n",
       "        vertical-align: middle;\n",
       "    }\n",
       "\n",
       "    .dataframe tbody tr th {\n",
       "        vertical-align: top;\n",
       "    }\n",
       "\n",
       "    .dataframe thead th {\n",
       "        text-align: right;\n",
       "    }\n",
       "</style>\n",
       "<table border=\"1\" class=\"dataframe\">\n",
       "  <thead>\n",
       "    <tr style=\"text-align: right;\">\n",
       "      <th></th>\n",
       "      <th>eval_loss</th>\n",
       "      <th>eval_mse</th>\n",
       "      <th>train_loss</th>\n",
       "      <th>train_mse</th>\n",
       "      <th>steps</th>\n",
       "      <th>best_checkpoint</th>\n",
       "    </tr>\n",
       "  </thead>\n",
       "  <tbody>\n",
       "    <tr>\n",
       "      <th>0</th>\n",
       "      <td>0.596727</td>\n",
       "      <td>0.036898</td>\n",
       "      <td>0.575132</td>\n",
       "      <td>0.028654</td>\n",
       "      <td>14000</td>\n",
       "      <td>8500</td>\n",
       "    </tr>\n",
       "  </tbody>\n",
       "</table>\n",
       "</div>"
      ],
      "text/plain": [
       "   eval_loss  eval_mse  train_loss  train_mse  steps  best_checkpoint\n",
       "0   0.596727  0.036898    0.575132   0.028654  14000             8500"
      ]
     },
     "metadata": {},
     "output_type": "display_data"
    },
    {
     "name": "stderr",
     "output_type": "stream",
     "text": [
      "Model Training: 100%|██████████████████████████████████████████████████████████████████████████████| 14180/14180 [01:15<00:00, 188.72it/s]\n"
     ]
    }
   ],
   "source": [
    "# Train\n",
    "total_pbar = tqdm(total=len(train_loader)*config.epoches,\n",
    "                  desc=\"Model Training\", position=0, leave=True)\n",
    "\n",
    "metrics_list = []\n",
    "for epoch in range(config.epoches):\n",
    "    print(\"*\"*50 + f\"epoch: {epoch + 1}\" + \"*\"*50)\n",
    "\n",
    "    train_loss_list = []\n",
    "    prob_list = []\n",
    "    rating_list = []\n",
    "\n",
    "    for inputs in train_loader:\n",
    "        model = model.train()\n",
    "        optimizer.zero_grad()\n",
    "        probs = model(\n",
    "            user_indices=inputs['user_embed_id'],\n",
    "            item_indices=inputs['movie_embed_id']\n",
    "        )\n",
    "        rating = inputs['rating'].view(-1, 1)\n",
    "\n",
    "        loss = loss_func(probs, rating)\n",
    "        loss.backward()\n",
    "        optimizer.step()\n",
    "        train_loss_list.append(loss.item())\n",
    "\n",
    "        probs = probs.detach().cpu().numpy().flatten().tolist()\n",
    "        prob_list.extend(probs)\n",
    "        rating = rating.numpy().flatten().tolist()\n",
    "        rating_list.extend(rating)\n",
    "\n",
    "        if (total_batch+1) % config.eval_steps == 0:\n",
    "\n",
    "            improve = False\n",
    "            model_metrics = evaluate(model, test_loader)\n",
    "            eval_loss = model_metrics['eval_loss']\n",
    "\n",
    "            if eval_loss <= best_eval_loss:\n",
    "                improve = True\n",
    "                best_checkpoint = total_batch+1\n",
    "                best_eval_loss = eval_loss\n",
    "\n",
    "            train_loss = np.mean(train_loss_list)\n",
    "\n",
    "            model_metrics['train_loss'] = train_loss\n",
    "            model_metrics['train_mse'] = metrics.mean_squared_error(\n",
    "                rating_list, prob_list)\n",
    "            model_metrics[\"steps\"] = total_batch+1\n",
    "            model_metrics[\"best_checkpoint\"] = best_checkpoint\n",
    "            metrics_list.append(model_metrics)\n",
    "\n",
    "            if improve:\n",
    "                save_dir = os.path.join(\"model\", model_version)\n",
    "                os.makedirs(save_dir, exist_ok=True)\n",
    "                save_model(model, save_dir, total_batch+1, model_metrics)\n",
    "\n",
    "            df_metrics_temp = pd.DataFrame([model_metrics])\n",
    "            display(df_metrics_temp)\n",
    "\n",
    "            model = model.train()\n",
    "\n",
    "        total_batch += 1\n",
    "        total_pbar.update(1)\n",
    "\n",
    "    model = model.train()\n",
    "\n",
    "total_pbar.close()"
   ]
  },
  {
   "cell_type": "code",
   "execution_count": 24,
   "metadata": {},
   "outputs": [
    {
     "data": {
      "text/html": [
       "<div>\n",
       "<style scoped>\n",
       "    .dataframe tbody tr th:only-of-type {\n",
       "        vertical-align: middle;\n",
       "    }\n",
       "\n",
       "    .dataframe tbody tr th {\n",
       "        vertical-align: top;\n",
       "    }\n",
       "\n",
       "    .dataframe thead th {\n",
       "        text-align: right;\n",
       "    }\n",
       "</style>\n",
       "<table border=\"1\" class=\"dataframe\">\n",
       "  <thead>\n",
       "    <tr style=\"text-align: right;\">\n",
       "      <th></th>\n",
       "      <th>eval_loss</th>\n",
       "      <th>eval_mse</th>\n",
       "      <th>train_loss</th>\n",
       "      <th>train_mse</th>\n",
       "      <th>steps</th>\n",
       "      <th>best_checkpoint</th>\n",
       "    </tr>\n",
       "  </thead>\n",
       "  <tbody>\n",
       "    <tr>\n",
       "      <th>0</th>\n",
       "      <td>0.612134</td>\n",
       "      <td>0.043665</td>\n",
       "      <td>0.616264</td>\n",
       "      <td>0.045665</td>\n",
       "      <td>500</td>\n",
       "      <td>500</td>\n",
       "    </tr>\n",
       "    <tr>\n",
       "      <th>1</th>\n",
       "      <td>0.606860</td>\n",
       "      <td>0.041039</td>\n",
       "      <td>0.610733</td>\n",
       "      <td>0.043404</td>\n",
       "      <td>1000</td>\n",
       "      <td>1000</td>\n",
       "    </tr>\n",
       "    <tr>\n",
       "      <th>2</th>\n",
       "      <td>0.605337</td>\n",
       "      <td>0.041031</td>\n",
       "      <td>0.608284</td>\n",
       "      <td>0.042541</td>\n",
       "      <td>1500</td>\n",
       "      <td>1500</td>\n",
       "    </tr>\n",
       "    <tr>\n",
       "      <th>3</th>\n",
       "      <td>0.604655</td>\n",
       "      <td>0.039113</td>\n",
       "      <td>0.606394</td>\n",
       "      <td>0.041568</td>\n",
       "      <td>2000</td>\n",
       "      <td>2000</td>\n",
       "    </tr>\n",
       "    <tr>\n",
       "      <th>4</th>\n",
       "      <td>0.601892</td>\n",
       "      <td>0.039000</td>\n",
       "      <td>0.604210</td>\n",
       "      <td>0.040769</td>\n",
       "      <td>2500</td>\n",
       "      <td>2500</td>\n",
       "    </tr>\n",
       "    <tr>\n",
       "      <th>5</th>\n",
       "      <td>0.598789</td>\n",
       "      <td>0.038257</td>\n",
       "      <td>0.595244</td>\n",
       "      <td>0.034649</td>\n",
       "      <td>3000</td>\n",
       "      <td>3000</td>\n",
       "    </tr>\n",
       "    <tr>\n",
       "      <th>6</th>\n",
       "      <td>0.595800</td>\n",
       "      <td>0.036967</td>\n",
       "      <td>0.592114</td>\n",
       "      <td>0.035306</td>\n",
       "      <td>3500</td>\n",
       "      <td>3500</td>\n",
       "    </tr>\n",
       "    <tr>\n",
       "      <th>7</th>\n",
       "      <td>0.600604</td>\n",
       "      <td>0.037982</td>\n",
       "      <td>0.592989</td>\n",
       "      <td>0.035510</td>\n",
       "      <td>4000</td>\n",
       "      <td>3500</td>\n",
       "    </tr>\n",
       "    <tr>\n",
       "      <th>8</th>\n",
       "      <td>0.598931</td>\n",
       "      <td>0.037795</td>\n",
       "      <td>0.592164</td>\n",
       "      <td>0.035364</td>\n",
       "      <td>4500</td>\n",
       "      <td>3500</td>\n",
       "    </tr>\n",
       "    <tr>\n",
       "      <th>9</th>\n",
       "      <td>0.596484</td>\n",
       "      <td>0.036168</td>\n",
       "      <td>0.591971</td>\n",
       "      <td>0.035228</td>\n",
       "      <td>5000</td>\n",
       "      <td>3500</td>\n",
       "    </tr>\n",
       "    <tr>\n",
       "      <th>10</th>\n",
       "      <td>0.594420</td>\n",
       "      <td>0.036281</td>\n",
       "      <td>0.590879</td>\n",
       "      <td>0.035003</td>\n",
       "      <td>5500</td>\n",
       "      <td>5500</td>\n",
       "    </tr>\n",
       "    <tr>\n",
       "      <th>11</th>\n",
       "      <td>0.598899</td>\n",
       "      <td>0.037188</td>\n",
       "      <td>0.582004</td>\n",
       "      <td>0.031698</td>\n",
       "      <td>6000</td>\n",
       "      <td>5500</td>\n",
       "    </tr>\n",
       "    <tr>\n",
       "      <th>12</th>\n",
       "      <td>0.594491</td>\n",
       "      <td>0.036424</td>\n",
       "      <td>0.584049</td>\n",
       "      <td>0.032055</td>\n",
       "      <td>6500</td>\n",
       "      <td>5500</td>\n",
       "    </tr>\n",
       "    <tr>\n",
       "      <th>13</th>\n",
       "      <td>0.594179</td>\n",
       "      <td>0.036443</td>\n",
       "      <td>0.585356</td>\n",
       "      <td>0.032392</td>\n",
       "      <td>7000</td>\n",
       "      <td>7000</td>\n",
       "    </tr>\n",
       "    <tr>\n",
       "      <th>14</th>\n",
       "      <td>0.594492</td>\n",
       "      <td>0.036493</td>\n",
       "      <td>0.585795</td>\n",
       "      <td>0.032628</td>\n",
       "      <td>7500</td>\n",
       "      <td>7000</td>\n",
       "    </tr>\n",
       "    <tr>\n",
       "      <th>15</th>\n",
       "      <td>0.594919</td>\n",
       "      <td>0.035963</td>\n",
       "      <td>0.585667</td>\n",
       "      <td>0.032877</td>\n",
       "      <td>8000</td>\n",
       "      <td>7000</td>\n",
       "    </tr>\n",
       "    <tr>\n",
       "      <th>16</th>\n",
       "      <td>0.593444</td>\n",
       "      <td>0.035695</td>\n",
       "      <td>0.585784</td>\n",
       "      <td>0.032966</td>\n",
       "      <td>8500</td>\n",
       "      <td>8500</td>\n",
       "    </tr>\n",
       "    <tr>\n",
       "      <th>17</th>\n",
       "      <td>0.595140</td>\n",
       "      <td>0.036492</td>\n",
       "      <td>0.578300</td>\n",
       "      <td>0.030377</td>\n",
       "      <td>9000</td>\n",
       "      <td>8500</td>\n",
       "    </tr>\n",
       "    <tr>\n",
       "      <th>18</th>\n",
       "      <td>0.595739</td>\n",
       "      <td>0.036774</td>\n",
       "      <td>0.579311</td>\n",
       "      <td>0.030869</td>\n",
       "      <td>9500</td>\n",
       "      <td>8500</td>\n",
       "    </tr>\n",
       "    <tr>\n",
       "      <th>19</th>\n",
       "      <td>0.594924</td>\n",
       "      <td>0.036385</td>\n",
       "      <td>0.580259</td>\n",
       "      <td>0.030866</td>\n",
       "      <td>10000</td>\n",
       "      <td>8500</td>\n",
       "    </tr>\n",
       "    <tr>\n",
       "      <th>20</th>\n",
       "      <td>0.598026</td>\n",
       "      <td>0.037079</td>\n",
       "      <td>0.580928</td>\n",
       "      <td>0.031068</td>\n",
       "      <td>10500</td>\n",
       "      <td>8500</td>\n",
       "    </tr>\n",
       "    <tr>\n",
       "      <th>21</th>\n",
       "      <td>0.594387</td>\n",
       "      <td>0.036286</td>\n",
       "      <td>0.581131</td>\n",
       "      <td>0.031210</td>\n",
       "      <td>11000</td>\n",
       "      <td>8500</td>\n",
       "    </tr>\n",
       "    <tr>\n",
       "      <th>22</th>\n",
       "      <td>0.599226</td>\n",
       "      <td>0.038259</td>\n",
       "      <td>0.570130</td>\n",
       "      <td>0.025979</td>\n",
       "      <td>11500</td>\n",
       "      <td>8500</td>\n",
       "    </tr>\n",
       "    <tr>\n",
       "      <th>23</th>\n",
       "      <td>0.599402</td>\n",
       "      <td>0.038197</td>\n",
       "      <td>0.572354</td>\n",
       "      <td>0.026763</td>\n",
       "      <td>12000</td>\n",
       "      <td>8500</td>\n",
       "    </tr>\n",
       "    <tr>\n",
       "      <th>24</th>\n",
       "      <td>0.600780</td>\n",
       "      <td>0.038848</td>\n",
       "      <td>0.572919</td>\n",
       "      <td>0.027466</td>\n",
       "      <td>12500</td>\n",
       "      <td>8500</td>\n",
       "    </tr>\n",
       "    <tr>\n",
       "      <th>25</th>\n",
       "      <td>0.601664</td>\n",
       "      <td>0.039173</td>\n",
       "      <td>0.573541</td>\n",
       "      <td>0.027969</td>\n",
       "      <td>13000</td>\n",
       "      <td>8500</td>\n",
       "    </tr>\n",
       "    <tr>\n",
       "      <th>26</th>\n",
       "      <td>0.600107</td>\n",
       "      <td>0.038103</td>\n",
       "      <td>0.573837</td>\n",
       "      <td>0.028315</td>\n",
       "      <td>13500</td>\n",
       "      <td>8500</td>\n",
       "    </tr>\n",
       "    <tr>\n",
       "      <th>27</th>\n",
       "      <td>0.596727</td>\n",
       "      <td>0.036898</td>\n",
       "      <td>0.575132</td>\n",
       "      <td>0.028654</td>\n",
       "      <td>14000</td>\n",
       "      <td>8500</td>\n",
       "    </tr>\n",
       "  </tbody>\n",
       "</table>\n",
       "</div>"
      ],
      "text/plain": [
       "    eval_loss  eval_mse  train_loss  train_mse  steps  best_checkpoint\n",
       "0    0.612134  0.043665    0.616264   0.045665    500              500\n",
       "1    0.606860  0.041039    0.610733   0.043404   1000             1000\n",
       "2    0.605337  0.041031    0.608284   0.042541   1500             1500\n",
       "3    0.604655  0.039113    0.606394   0.041568   2000             2000\n",
       "4    0.601892  0.039000    0.604210   0.040769   2500             2500\n",
       "5    0.598789  0.038257    0.595244   0.034649   3000             3000\n",
       "6    0.595800  0.036967    0.592114   0.035306   3500             3500\n",
       "7    0.600604  0.037982    0.592989   0.035510   4000             3500\n",
       "8    0.598931  0.037795    0.592164   0.035364   4500             3500\n",
       "9    0.596484  0.036168    0.591971   0.035228   5000             3500\n",
       "10   0.594420  0.036281    0.590879   0.035003   5500             5500\n",
       "11   0.598899  0.037188    0.582004   0.031698   6000             5500\n",
       "12   0.594491  0.036424    0.584049   0.032055   6500             5500\n",
       "13   0.594179  0.036443    0.585356   0.032392   7000             7000\n",
       "14   0.594492  0.036493    0.585795   0.032628   7500             7000\n",
       "15   0.594919  0.035963    0.585667   0.032877   8000             7000\n",
       "16   0.593444  0.035695    0.585784   0.032966   8500             8500\n",
       "17   0.595140  0.036492    0.578300   0.030377   9000             8500\n",
       "18   0.595739  0.036774    0.579311   0.030869   9500             8500\n",
       "19   0.594924  0.036385    0.580259   0.030866  10000             8500\n",
       "20   0.598026  0.037079    0.580928   0.031068  10500             8500\n",
       "21   0.594387  0.036286    0.581131   0.031210  11000             8500\n",
       "22   0.599226  0.038259    0.570130   0.025979  11500             8500\n",
       "23   0.599402  0.038197    0.572354   0.026763  12000             8500\n",
       "24   0.600780  0.038848    0.572919   0.027466  12500             8500\n",
       "25   0.601664  0.039173    0.573541   0.027969  13000             8500\n",
       "26   0.600107  0.038103    0.573837   0.028315  13500             8500\n",
       "27   0.596727  0.036898    0.575132   0.028654  14000             8500"
      ]
     },
     "execution_count": 24,
     "metadata": {},
     "output_type": "execute_result"
    }
   ],
   "source": [
    "df_metrics = pd.DataFrame(metrics_list)\n",
    "df_metrics"
   ]
  },
  {
   "cell_type": "code",
   "execution_count": 25,
   "metadata": {},
   "outputs": [],
   "source": [
    "df_metrics = df_metrics.set_index(\"steps\")"
   ]
  },
  {
   "cell_type": "code",
   "execution_count": 26,
   "metadata": {},
   "outputs": [
    {
     "data": {
      "text/plain": [
       "<Axes: xlabel='steps'>"
      ]
     },
     "execution_count": 26,
     "metadata": {},
     "output_type": "execute_result"
    },
    {
     "data": {
      "image/png": "[encoded data removed]",
      "text/plain": [
       "<Figure size 640x480 with 1 Axes>"
      ]
     },
     "metadata": {},
     "output_type": "display_data"
    },
    {
     "data": {
      "image/png": "[encoded data removed]",
      "text/plain": [
       "<Figure size 640x480 with 1 Axes>"
      ]
     },
     "metadata": {},
     "output_type": "display_data"
    }
   ],
   "source": [
    "# fig, ax = plt.subplots(figsize=(20,10)) \n",
    "df_metrics[['eval_loss','train_loss']].plot() \n",
    "df_metrics[['eval_mse','train_mse']].plot() \n",
    "# df.plot(x = 'day', y = 'humidity', ax = ax, secondary_y = True) "
   ]
  }
 ],
 "metadata": {
  "kernelspec": {
   "display_name": "Python 3 (ipykernel)",
   "language": "python",
   "name": "python3"
  },
  "language_info": {
   "codemirror_mode": {
    "name": "ipython",
    "version": 3
   },
   "file_extension": ".py",
   "mimetype": "text/x-python",
   "name": "python",
   "nbconvert_exporter": "python",
   "pygments_lexer": "ipython3",
   "version": "3.11.3"
  }
 },
 "nbformat": 4,
 "nbformat_minor": 2
}
