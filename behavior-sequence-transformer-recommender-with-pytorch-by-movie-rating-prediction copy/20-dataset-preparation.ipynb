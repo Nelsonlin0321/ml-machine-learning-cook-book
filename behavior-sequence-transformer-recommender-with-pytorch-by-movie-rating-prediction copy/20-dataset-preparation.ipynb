{
 "cells": [
  {
   "attachments": {},
   "cell_type": "markdown",
   "metadata": {},
   "source": [
    "# A Transformer-based recommendation system\n"
   ]
  },
  {
   "cell_type": "code",
   "execution_count": 1,
   "metadata": {},
   "outputs": [],
   "source": [
    "%load_ext autoreload\n",
    "%autoreload 2\n"
   ]
  },
  {
   "cell_type": "code",
   "execution_count": 2,
   "metadata": {},
   "outputs": [],
   "source": [
    "import pandas as pd\n",
    "from torch.utils.data import DataLoader"
   ]
  },
  {
   "cell_type": "code",
   "execution_count": 3,
   "metadata": {},
   "outputs": [],
   "source": [
    "df_train = pd.read_parquet(\"./artifacts/train_data.parquet\")"
   ]
  },
  {
   "cell_type": "code",
   "execution_count": 4,
   "metadata": {},
   "outputs": [
    {
     "data": {
      "text/html": [
       "<div>\n",
       "<style scoped>\n",
       "    .dataframe tbody tr th:only-of-type {\n",
       "        vertical-align: middle;\n",
       "    }\n",
       "\n",
       "    .dataframe tbody tr th {\n",
       "        vertical-align: top;\n",
       "    }\n",
       "\n",
       "    .dataframe thead th {\n",
       "        text-align: right;\n",
       "    }\n",
       "</style>\n",
       "<table border=\"1\" class=\"dataframe\">\n",
       "  <thead>\n",
       "    <tr style=\"text-align: right;\">\n",
       "      <th></th>\n",
       "      <th>user_id_index</th>\n",
       "      <th>movie_sequence</th>\n",
       "      <th>rating_sequence</th>\n",
       "      <th>sex</th>\n",
       "      <th>occupation_index</th>\n",
       "      <th>age_group_index</th>\n",
       "    </tr>\n",
       "  </thead>\n",
       "  <tbody>\n",
       "    <tr>\n",
       "      <th>0</th>\n",
       "      <td>1</td>\n",
       "      <td>[3118, 1010, 1673, 1251]</td>\n",
       "      <td>[0.75, 1.0, 0.75, 1.0]</td>\n",
       "      <td>1.0</td>\n",
       "      <td>11</td>\n",
       "      <td>1</td>\n",
       "    </tr>\n",
       "    <tr>\n",
       "      <th>1</th>\n",
       "      <td>1</td>\n",
       "      <td>[1673, 1251, 2272, 1769]</td>\n",
       "      <td>[0.75, 1.0, 0.5, 1.0]</td>\n",
       "      <td>1.0</td>\n",
       "      <td>11</td>\n",
       "      <td>1</td>\n",
       "    </tr>\n",
       "    <tr>\n",
       "      <th>2</th>\n",
       "      <td>1</td>\n",
       "      <td>[2272, 1769, 3340, 1190]</td>\n",
       "      <td>[0.5, 1.0, 0.75, 0.75]</td>\n",
       "      <td>1.0</td>\n",
       "      <td>11</td>\n",
       "      <td>1</td>\n",
       "    </tr>\n",
       "    <tr>\n",
       "      <th>3</th>\n",
       "      <td>1</td>\n",
       "      <td>[3340, 1190, 2736, 258]</td>\n",
       "      <td>[0.75, 0.75, 1.0, 0.75]</td>\n",
       "      <td>1.0</td>\n",
       "      <td>11</td>\n",
       "      <td>1</td>\n",
       "    </tr>\n",
       "    <tr>\n",
       "      <th>4</th>\n",
       "      <td>1</td>\n",
       "      <td>[2736, 258, 1177, 712]</td>\n",
       "      <td>[1.0, 0.75, 1.0, 0.5]</td>\n",
       "      <td>1.0</td>\n",
       "      <td>11</td>\n",
       "      <td>1</td>\n",
       "    </tr>\n",
       "  </tbody>\n",
       "</table>\n",
       "</div>"
      ],
      "text/plain": [
       "   user_id_index            movie_sequence          rating_sequence  sex  \\\n",
       "0              1  [3118, 1010, 1673, 1251]   [0.75, 1.0, 0.75, 1.0]  1.0   \n",
       "1              1  [1673, 1251, 2272, 1769]    [0.75, 1.0, 0.5, 1.0]  1.0   \n",
       "2              1  [2272, 1769, 3340, 1190]   [0.5, 1.0, 0.75, 0.75]  1.0   \n",
       "3              1   [3340, 1190, 2736, 258]  [0.75, 0.75, 1.0, 0.75]  1.0   \n",
       "4              1    [2736, 258, 1177, 712]    [1.0, 0.75, 1.0, 0.5]  1.0   \n",
       "\n",
       "   occupation_index  age_group_index  \n",
       "0                11                1  \n",
       "1                11                1  \n",
       "2                11                1  \n",
       "3                11                1  \n",
       "4                11                1  "
      ]
     },
     "execution_count": 4,
     "metadata": {},
     "output_type": "execute_result"
    }
   ],
   "source": [
    "df_train.head()"
   ]
  },
  {
   "cell_type": "code",
   "execution_count": 5,
   "metadata": {},
   "outputs": [],
   "source": [
    "item = df_train.iloc[0]"
   ]
  },
  {
   "cell_type": "code",
   "execution_count": 6,
   "metadata": {},
   "outputs": [
    {
     "data": {
      "text/plain": [
       "{'user_id_index': 1,\n",
       " 'movie_sequence': array([3118, 1010, 1673, 1251]),\n",
       " 'rating_sequence': array([0.75, 1.  , 0.75, 1.  ]),\n",
       " 'sex': 1.0,\n",
       " 'occupation_index': 11,\n",
       " 'age_group_index': 1}"
      ]
     },
     "execution_count": 6,
     "metadata": {},
     "output_type": "execute_result"
    }
   ],
   "source": [
    "item.to_dict()"
   ]
  },
  {
   "cell_type": "code",
   "execution_count": 7,
   "metadata": {},
   "outputs": [
    {
     "name": "stdout",
     "output_type": "stream",
     "text": [
      "Overwriting ./src/dataset.py\n"
     ]
    }
   ],
   "source": [
    "%%writefile ./src/dataset.py\n",
    "import torch\n",
    "from torch.utils.data import Dataset\n",
    "# from torch.nn.utils.rnn import pad_sequence\n",
    "\n",
    "\n",
    "class RatingDataset(Dataset):\n",
    "    def __init__(self, data):\n",
    "        self.data = data\n",
    "\n",
    "    def __len__(self):\n",
    "        return len(self.data)\n",
    "\n",
    "    def __getitem__(self, index):\n",
    "        \n",
    "        item_dict = self.data.iloc[index].to_dict()\n",
    "        item_dict['target_rating'] = item_dict['rating_sequence'][-1]\n",
    "        item_dict['rating_sequence'] = item_dict['rating_sequence'][:-1]\n",
    "        item_dict['target_movie']= item_dict['movie_sequence'][-1]\n",
    "\n",
    "\n",
    "        sample = {k:torch.tensor(v) for k,v in item_dict.items()}\n",
    "\n",
    "        return sample"
   ]
  },
  {
   "cell_type": "code",
   "execution_count": 8,
   "metadata": {},
   "outputs": [],
   "source": [
    "from src.dataset import RatingDataset"
   ]
  },
  {
   "cell_type": "code",
   "execution_count": 9,
   "metadata": {},
   "outputs": [],
   "source": [
    "train_dataset = RatingDataset(data=df_train) "
   ]
  },
  {
   "cell_type": "code",
   "execution_count": 10,
   "metadata": {},
   "outputs": [
    {
     "data": {
      "text/plain": [
       "{'user_id_index': tensor(1),\n",
       " 'movie_sequence': tensor([3118, 1010, 1673, 1251]),\n",
       " 'rating_sequence': tensor([0.7500, 1.0000, 0.7500], dtype=torch.float64),\n",
       " 'sex': tensor(1.),\n",
       " 'occupation_index': tensor(11),\n",
       " 'age_group_index': tensor(1),\n",
       " 'target_rating': tensor(1., dtype=torch.float64),\n",
       " 'target_movie': tensor(1251)}"
      ]
     },
     "execution_count": 10,
     "metadata": {},
     "output_type": "execute_result"
    }
   ],
   "source": [
    "train_dataset[0]"
   ]
  },
  {
   "cell_type": "code",
   "execution_count": 11,
   "metadata": {},
   "outputs": [],
   "source": [
    "loader = DataLoader(train_dataset,batch_size=4,shuffle=True)"
   ]
  },
  {
   "cell_type": "code",
   "execution_count": 12,
   "metadata": {},
   "outputs": [],
   "source": [
    "for sample in loader:\n",
    "    break\n"
   ]
  },
  {
   "cell_type": "code",
   "execution_count": 13,
   "metadata": {},
   "outputs": [
    {
     "data": {
      "text/plain": [
       "{'user_id_index': tensor([3342, 3453,  415, 3260]),\n",
       " 'movie_sequence': tensor([[3525, 2631, 2937, 2908],\n",
       "         [3439, 2919,   47, 2803],\n",
       "         [1266, 1064, 3453, 1246],\n",
       "         [3486,  109, 1208, 3446]]),\n",
       " 'rating_sequence': tensor([[0.5000, 0.5000, 0.5000],\n",
       "         [0.5000, 0.5000, 0.5000],\n",
       "         [0.7500, 0.7500, 0.7500],\n",
       "         [0.5000, 1.0000, 0.7500]], dtype=torch.float64),\n",
       " 'sex': tensor([1., 0., 1., 0.]),\n",
       " 'occupation_index': tensor([6, 8, 1, 5]),\n",
       " 'age_group_index': tensor([3, 4, 4, 3]),\n",
       " 'target_rating': tensor([0.2500, 0.5000, 0.5000, 0.2500], dtype=torch.float64),\n",
       " 'target_movie': tensor([2908, 2803, 1246, 3446])}"
      ]
     },
     "execution_count": 13,
     "metadata": {},
     "output_type": "execute_result"
    }
   ],
   "source": [
    "sample"
   ]
  },
  {
   "cell_type": "code",
   "execution_count": null,
   "metadata": {},
   "outputs": [],
   "source": []
  }
 ],
 "metadata": {
  "kernelspec": {
   "display_name": "torch",
   "language": "python",
   "name": "python3"
  },
  "language_info": {
   "codemirror_mode": {
    "name": "ipython",
    "version": 3
   },
   "file_extension": ".py",
   "mimetype": "text/x-python",
   "name": "python",
   "nbconvert_exporter": "python",
   "pygments_lexer": "ipython3",
   "version": "3.11.3"
  },
  "orig_nbformat": 4
 },
 "nbformat": 4,
 "nbformat_minor": 2
}
