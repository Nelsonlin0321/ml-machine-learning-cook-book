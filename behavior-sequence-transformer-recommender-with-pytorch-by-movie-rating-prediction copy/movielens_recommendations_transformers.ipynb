{
  "cells": [
    {
      "attachments": {},
      "cell_type": "markdown",
      "metadata": {
        "id": "Hgz1zvM6KHmd"
      },
      "source": [
        "# A Transformer-based recommendation system\n"
      ]
    },
    {
      "cell_type": "code",
      "execution_count": 1,
      "metadata": {
        "id": "a_2UkXmSKHmf"
      },
      "outputs": [],
      "source": [
        "import os\n",
        "import math\n",
        "from zipfile import ZipFile\n",
        "from urllib.request import urlretrieve\n",
        "import numpy as np\n",
        "import pandas as pd\n",
        "from src import utils\n",
        "from sklearn.preprocessing import MinMaxScaler"
      ]
    },
    {
      "attachments": {},
      "cell_type": "markdown",
      "metadata": {
        "id": "_X9a-o4uKHmg"
      },
      "source": [
        "## (1)  Load  data"
      ]
    },
    {
      "cell_type": "code",
      "execution_count": 2,
      "metadata": {
        "id": "zO2JMPlIKHmh"
      },
      "outputs": [],
      "source": [
        "# urlretrieve(\"http://files.grouplens.org/datasets/movielens/ml-1m.zip\", \"movielens.zip\")\n",
        "# ZipFile(\"movielens.zip\", \"r\").extractall()"
      ]
    },
    {
      "attachments": {},
      "cell_type": "markdown",
      "metadata": {
        "id": "-MV0bS-YKHmh"
      },
      "source": [
        "Then, we load the data into pandas DataFrames with their proper column names."
      ]
    },
    {
      "cell_type": "code",
      "execution_count": 3,
      "metadata": {
        "id": "90gBi4sBKHmi"
      },
      "outputs": [],
      "source": [
        "users = pd.read_csv(\n",
        "    \"ml-1m/users.dat\",\n",
        "    sep=\"::\",\n",
        "    names=[\"user_id\", \"sex\", \"age_group\", \"occupation\", \"zip_code\"],\n",
        "    engine='python'\n",
        ")\n",
        "\n",
        "ratings = pd.read_csv(\n",
        "    \"ml-1m/ratings.dat\",\n",
        "    sep=\"::\",\n",
        "    names=[\"user_id\", \"movie_id\", \"rating\", \"unix_timestamp\"],\n",
        "    engine='python'\n",
        ")\n",
        "\n",
        "movies = pd.read_csv(\n",
        "    \"ml-1m/movies.dat\", sep=\"::\", names=[\"movie_id\", \"title\", \"genres\"],\n",
        "    engine='python',encoding='ISO-8859-1'\n",
        ")"
      ]
    },
    {
      "attachments": {},
      "cell_type": "markdown",
      "metadata": {},
      "source": [
        "## (2) Remap ID"
      ]
    },
    {
      "attachments": {},
      "cell_type": "markdown",
      "metadata": {},
      "source": [
        "#### User"
      ]
    },
    {
      "cell_type": "code",
      "execution_count": 4,
      "metadata": {},
      "outputs": [
        {
          "data": {
            "text/html": [
              "<div>\n",
              "<style scoped>\n",
              "    .dataframe tbody tr th:only-of-type {\n",
              "        vertical-align: middle;\n",
              "    }\n",
              "\n",
              "    .dataframe tbody tr th {\n",
              "        vertical-align: top;\n",
              "    }\n",
              "\n",
              "    .dataframe thead th {\n",
              "        text-align: right;\n",
              "    }\n",
              "</style>\n",
              "<table border=\"1\" class=\"dataframe\">\n",
              "  <thead>\n",
              "    <tr style=\"text-align: right;\">\n",
              "      <th></th>\n",
              "      <th>user_id</th>\n",
              "      <th>sex</th>\n",
              "      <th>age_group</th>\n",
              "      <th>occupation</th>\n",
              "    </tr>\n",
              "  </thead>\n",
              "  <tbody>\n",
              "    <tr>\n",
              "      <th>0</th>\n",
              "      <td>1</td>\n",
              "      <td>F</td>\n",
              "      <td>1</td>\n",
              "      <td>10</td>\n",
              "    </tr>\n",
              "    <tr>\n",
              "      <th>1</th>\n",
              "      <td>2</td>\n",
              "      <td>M</td>\n",
              "      <td>56</td>\n",
              "      <td>16</td>\n",
              "    </tr>\n",
              "    <tr>\n",
              "      <th>2</th>\n",
              "      <td>3</td>\n",
              "      <td>M</td>\n",
              "      <td>25</td>\n",
              "      <td>15</td>\n",
              "    </tr>\n",
              "    <tr>\n",
              "      <th>3</th>\n",
              "      <td>4</td>\n",
              "      <td>M</td>\n",
              "      <td>45</td>\n",
              "      <td>7</td>\n",
              "    </tr>\n",
              "    <tr>\n",
              "      <th>4</th>\n",
              "      <td>5</td>\n",
              "      <td>M</td>\n",
              "      <td>25</td>\n",
              "      <td>20</td>\n",
              "    </tr>\n",
              "  </tbody>\n",
              "</table>\n",
              "</div>"
            ],
            "text/plain": [
              "   user_id sex  age_group  occupation\n",
              "0        1   F          1          10\n",
              "1        2   M         56          16\n",
              "2        3   M         25          15\n",
              "3        4   M         45           7\n",
              "4        5   M         25          20"
            ]
          },
          "execution_count": 4,
          "metadata": {},
          "output_type": "execute_result"
        }
      ],
      "source": [
        "users = users.drop(\"zip_code\",axis=1)\n",
        "users.head()"
      ]
    },
    {
      "cell_type": "code",
      "execution_count": 5,
      "metadata": {},
      "outputs": [],
      "source": [
        "def generate_remap_id_dict(df,col):\n",
        "    ids = df[df[col].notnull()][col].unique().tolist()\n",
        "    ids = sorted(ids)\n",
        "    id_map_dict = {x: i+1 for i, x in enumerate(ids)}\n",
        "    id_map_dict[\"UNK\"]=0\n",
        "\n",
        "    df[f\"{col}_index\"] = df[col].fillna(\"UNK\").map(id_map_dict)\n",
        "\n",
        "    return id_map_dict"
      ]
    },
    {
      "cell_type": "code",
      "execution_count": 6,
      "metadata": {},
      "outputs": [],
      "source": [
        "user_id_map_dict = generate_remap_id_dict(users,col='user_id')\n",
        "utils.save_object(\"./artifacts/user_id_map_dict.pkl\",user_id_map_dict)"
      ]
    },
    {
      "cell_type": "code",
      "execution_count": 7,
      "metadata": {},
      "outputs": [
        {
          "data": {
            "text/html": [
              "<div>\n",
              "<style scoped>\n",
              "    .dataframe tbody tr th:only-of-type {\n",
              "        vertical-align: middle;\n",
              "    }\n",
              "\n",
              "    .dataframe tbody tr th {\n",
              "        vertical-align: top;\n",
              "    }\n",
              "\n",
              "    .dataframe thead th {\n",
              "        text-align: right;\n",
              "    }\n",
              "</style>\n",
              "<table border=\"1\" class=\"dataframe\">\n",
              "  <thead>\n",
              "    <tr style=\"text-align: right;\">\n",
              "      <th></th>\n",
              "      <th>user_id</th>\n",
              "      <th>sex</th>\n",
              "      <th>age_group</th>\n",
              "      <th>occupation</th>\n",
              "      <th>user_id_index</th>\n",
              "    </tr>\n",
              "  </thead>\n",
              "  <tbody>\n",
              "    <tr>\n",
              "      <th>0</th>\n",
              "      <td>1</td>\n",
              "      <td>F</td>\n",
              "      <td>1</td>\n",
              "      <td>10</td>\n",
              "      <td>1</td>\n",
              "    </tr>\n",
              "    <tr>\n",
              "      <th>1</th>\n",
              "      <td>2</td>\n",
              "      <td>M</td>\n",
              "      <td>56</td>\n",
              "      <td>16</td>\n",
              "      <td>2</td>\n",
              "    </tr>\n",
              "    <tr>\n",
              "      <th>2</th>\n",
              "      <td>3</td>\n",
              "      <td>M</td>\n",
              "      <td>25</td>\n",
              "      <td>15</td>\n",
              "      <td>3</td>\n",
              "    </tr>\n",
              "    <tr>\n",
              "      <th>3</th>\n",
              "      <td>4</td>\n",
              "      <td>M</td>\n",
              "      <td>45</td>\n",
              "      <td>7</td>\n",
              "      <td>4</td>\n",
              "    </tr>\n",
              "    <tr>\n",
              "      <th>4</th>\n",
              "      <td>5</td>\n",
              "      <td>M</td>\n",
              "      <td>25</td>\n",
              "      <td>20</td>\n",
              "      <td>5</td>\n",
              "    </tr>\n",
              "  </tbody>\n",
              "</table>\n",
              "</div>"
            ],
            "text/plain": [
              "   user_id sex  age_group  occupation  user_id_index\n",
              "0        1   F          1          10              1\n",
              "1        2   M         56          16              2\n",
              "2        3   M         25          15              3\n",
              "3        4   M         45           7              4\n",
              "4        5   M         25          20              5"
            ]
          },
          "execution_count": 7,
          "metadata": {},
          "output_type": "execute_result"
        }
      ],
      "source": [
        "users.head()"
      ]
    },
    {
      "cell_type": "code",
      "execution_count": 8,
      "metadata": {},
      "outputs": [
        {
          "data": {
            "text/plain": [
              "{'F': 1, 'M': 2, 'UNK': 0}"
            ]
          },
          "execution_count": 8,
          "metadata": {},
          "output_type": "execute_result"
        }
      ],
      "source": [
        "sex_id_map_dict = generate_remap_id_dict(users,col='sex')\n",
        "utils.save_object(\"./artifacts/sex_id_map_dict.pkl\",sex_id_map_dict)\n",
        "sex_id_map_dict"
      ]
    },
    {
      "cell_type": "code",
      "execution_count": 9,
      "metadata": {},
      "outputs": [],
      "source": [
        "occupation_id_map_dict = generate_remap_id_dict(users,col='occupation')\n",
        "utils.save_object(\"./artifacts/occupation_id_map_dict.pkl\",occupation_id_map_dict)\n",
        "# occupation_id_map_dict"
      ]
    },
    {
      "cell_type": "code",
      "execution_count": 10,
      "metadata": {},
      "outputs": [
        {
          "data": {
            "text/plain": [
              "{1: 1, 18: 2, 25: 3, 35: 4, 45: 5, 50: 6, 56: 7, 'UNK': 0}"
            ]
          },
          "execution_count": 10,
          "metadata": {},
          "output_type": "execute_result"
        }
      ],
      "source": [
        "age_group_id_map_dict = generate_remap_id_dict(users,col='age_group')\n",
        "utils.save_object(\"./artifacts/age_group_id_map_dict.pkl\",age_group_id_map_dict)\n",
        "age_group_id_map_dict"
      ]
    },
    {
      "cell_type": "code",
      "execution_count": 11,
      "metadata": {},
      "outputs": [
        {
          "data": {
            "text/html": [
              "<div>\n",
              "<style scoped>\n",
              "    .dataframe tbody tr th:only-of-type {\n",
              "        vertical-align: middle;\n",
              "    }\n",
              "\n",
              "    .dataframe tbody tr th {\n",
              "        vertical-align: top;\n",
              "    }\n",
              "\n",
              "    .dataframe thead th {\n",
              "        text-align: right;\n",
              "    }\n",
              "</style>\n",
              "<table border=\"1\" class=\"dataframe\">\n",
              "  <thead>\n",
              "    <tr style=\"text-align: right;\">\n",
              "      <th></th>\n",
              "      <th>user_id</th>\n",
              "      <th>sex</th>\n",
              "      <th>age_group</th>\n",
              "      <th>occupation</th>\n",
              "      <th>user_id_index</th>\n",
              "      <th>sex_index</th>\n",
              "      <th>occupation_index</th>\n",
              "      <th>age_group_index</th>\n",
              "    </tr>\n",
              "  </thead>\n",
              "  <tbody>\n",
              "    <tr>\n",
              "      <th>0</th>\n",
              "      <td>1</td>\n",
              "      <td>F</td>\n",
              "      <td>1</td>\n",
              "      <td>10</td>\n",
              "      <td>1</td>\n",
              "      <td>1</td>\n",
              "      <td>11</td>\n",
              "      <td>1</td>\n",
              "    </tr>\n",
              "    <tr>\n",
              "      <th>1</th>\n",
              "      <td>2</td>\n",
              "      <td>M</td>\n",
              "      <td>56</td>\n",
              "      <td>16</td>\n",
              "      <td>2</td>\n",
              "      <td>2</td>\n",
              "      <td>17</td>\n",
              "      <td>7</td>\n",
              "    </tr>\n",
              "    <tr>\n",
              "      <th>2</th>\n",
              "      <td>3</td>\n",
              "      <td>M</td>\n",
              "      <td>25</td>\n",
              "      <td>15</td>\n",
              "      <td>3</td>\n",
              "      <td>2</td>\n",
              "      <td>16</td>\n",
              "      <td>3</td>\n",
              "    </tr>\n",
              "    <tr>\n",
              "      <th>3</th>\n",
              "      <td>4</td>\n",
              "      <td>M</td>\n",
              "      <td>45</td>\n",
              "      <td>7</td>\n",
              "      <td>4</td>\n",
              "      <td>2</td>\n",
              "      <td>8</td>\n",
              "      <td>5</td>\n",
              "    </tr>\n",
              "    <tr>\n",
              "      <th>4</th>\n",
              "      <td>5</td>\n",
              "      <td>M</td>\n",
              "      <td>25</td>\n",
              "      <td>20</td>\n",
              "      <td>5</td>\n",
              "      <td>2</td>\n",
              "      <td>21</td>\n",
              "      <td>3</td>\n",
              "    </tr>\n",
              "  </tbody>\n",
              "</table>\n",
              "</div>"
            ],
            "text/plain": [
              "   user_id sex  age_group  occupation  user_id_index  sex_index  \\\n",
              "0        1   F          1          10              1          1   \n",
              "1        2   M         56          16              2          2   \n",
              "2        3   M         25          15              3          2   \n",
              "3        4   M         45           7              4          2   \n",
              "4        5   M         25          20              5          2   \n",
              "\n",
              "   occupation_index  age_group_index  \n",
              "0                11                1  \n",
              "1                17                7  \n",
              "2                16                3  \n",
              "3                 8                5  \n",
              "4                21                3  "
            ]
          },
          "execution_count": 11,
          "metadata": {},
          "output_type": "execute_result"
        }
      ],
      "source": [
        "users.head()"
      ]
    },
    {
      "attachments": {},
      "cell_type": "markdown",
      "metadata": {},
      "source": [
        "#### Rating"
      ]
    },
    {
      "cell_type": "code",
      "execution_count": 12,
      "metadata": {},
      "outputs": [
        {
          "data": {
            "text/html": [
              "<div>\n",
              "<style scoped>\n",
              "    .dataframe tbody tr th:only-of-type {\n",
              "        vertical-align: middle;\n",
              "    }\n",
              "\n",
              "    .dataframe tbody tr th {\n",
              "        vertical-align: top;\n",
              "    }\n",
              "\n",
              "    .dataframe thead th {\n",
              "        text-align: right;\n",
              "    }\n",
              "</style>\n",
              "<table border=\"1\" class=\"dataframe\">\n",
              "  <thead>\n",
              "    <tr style=\"text-align: right;\">\n",
              "      <th></th>\n",
              "      <th>user_id</th>\n",
              "      <th>movie_id</th>\n",
              "      <th>rating</th>\n",
              "      <th>unix_timestamp</th>\n",
              "    </tr>\n",
              "  </thead>\n",
              "  <tbody>\n",
              "    <tr>\n",
              "      <th>0</th>\n",
              "      <td>1</td>\n",
              "      <td>1193</td>\n",
              "      <td>5</td>\n",
              "      <td>978300760</td>\n",
              "    </tr>\n",
              "    <tr>\n",
              "      <th>1</th>\n",
              "      <td>1</td>\n",
              "      <td>661</td>\n",
              "      <td>3</td>\n",
              "      <td>978302109</td>\n",
              "    </tr>\n",
              "    <tr>\n",
              "      <th>2</th>\n",
              "      <td>1</td>\n",
              "      <td>914</td>\n",
              "      <td>3</td>\n",
              "      <td>978301968</td>\n",
              "    </tr>\n",
              "    <tr>\n",
              "      <th>3</th>\n",
              "      <td>1</td>\n",
              "      <td>3408</td>\n",
              "      <td>4</td>\n",
              "      <td>978300275</td>\n",
              "    </tr>\n",
              "    <tr>\n",
              "      <th>4</th>\n",
              "      <td>1</td>\n",
              "      <td>2355</td>\n",
              "      <td>5</td>\n",
              "      <td>978824291</td>\n",
              "    </tr>\n",
              "  </tbody>\n",
              "</table>\n",
              "</div>"
            ],
            "text/plain": [
              "   user_id  movie_id  rating  unix_timestamp\n",
              "0        1      1193       5       978300760\n",
              "1        1       661       3       978302109\n",
              "2        1       914       3       978301968\n",
              "3        1      3408       4       978300275\n",
              "4        1      2355       5       978824291"
            ]
          },
          "execution_count": 12,
          "metadata": {},
          "output_type": "execute_result"
        }
      ],
      "source": [
        "ratings.head()"
      ]
    },
    {
      "cell_type": "code",
      "execution_count": 13,
      "metadata": {},
      "outputs": [],
      "source": [
        "min_max_scaler = MinMaxScaler()"
      ]
    },
    {
      "cell_type": "code",
      "execution_count": 14,
      "metadata": {},
      "outputs": [],
      "source": [
        "ratings[\"norm_rating\"] = min_max_scaler.fit_transform(\n",
        "    ratings[\"rating\"].values.reshape(-1, 1))[:, 0]"
      ]
    },
    {
      "cell_type": "code",
      "execution_count": 15,
      "metadata": {},
      "outputs": [],
      "source": [
        "utils.save_object(\"./artifacts/rating_min_max_scaler.pkl\",min_max_scaler)"
      ]
    },
    {
      "attachments": {},
      "cell_type": "markdown",
      "metadata": {},
      "source": [
        "#### Movie"
      ]
    },
    {
      "cell_type": "code",
      "execution_count": 16,
      "metadata": {},
      "outputs": [
        {
          "data": {
            "text/html": [
              "<div>\n",
              "<style scoped>\n",
              "    .dataframe tbody tr th:only-of-type {\n",
              "        vertical-align: middle;\n",
              "    }\n",
              "\n",
              "    .dataframe tbody tr th {\n",
              "        vertical-align: top;\n",
              "    }\n",
              "\n",
              "    .dataframe thead th {\n",
              "        text-align: right;\n",
              "    }\n",
              "</style>\n",
              "<table border=\"1\" class=\"dataframe\">\n",
              "  <thead>\n",
              "    <tr style=\"text-align: right;\">\n",
              "      <th></th>\n",
              "      <th>movie_id</th>\n",
              "      <th>title</th>\n",
              "      <th>genres</th>\n",
              "    </tr>\n",
              "  </thead>\n",
              "  <tbody>\n",
              "    <tr>\n",
              "      <th>0</th>\n",
              "      <td>1</td>\n",
              "      <td>Toy Story (1995)</td>\n",
              "      <td>Animation|Children's|Comedy</td>\n",
              "    </tr>\n",
              "    <tr>\n",
              "      <th>1</th>\n",
              "      <td>2</td>\n",
              "      <td>Jumanji (1995)</td>\n",
              "      <td>Adventure|Children's|Fantasy</td>\n",
              "    </tr>\n",
              "    <tr>\n",
              "      <th>2</th>\n",
              "      <td>3</td>\n",
              "      <td>Grumpier Old Men (1995)</td>\n",
              "      <td>Comedy|Romance</td>\n",
              "    </tr>\n",
              "    <tr>\n",
              "      <th>3</th>\n",
              "      <td>4</td>\n",
              "      <td>Waiting to Exhale (1995)</td>\n",
              "      <td>Comedy|Drama</td>\n",
              "    </tr>\n",
              "    <tr>\n",
              "      <th>4</th>\n",
              "      <td>5</td>\n",
              "      <td>Father of the Bride Part II (1995)</td>\n",
              "      <td>Comedy</td>\n",
              "    </tr>\n",
              "  </tbody>\n",
              "</table>\n",
              "</div>"
            ],
            "text/plain": [
              "   movie_id                               title                        genres\n",
              "0         1                    Toy Story (1995)   Animation|Children's|Comedy\n",
              "1         2                      Jumanji (1995)  Adventure|Children's|Fantasy\n",
              "2         3             Grumpier Old Men (1995)                Comedy|Romance\n",
              "3         4            Waiting to Exhale (1995)                  Comedy|Drama\n",
              "4         5  Father of the Bride Part II (1995)                        Comedy"
            ]
          },
          "execution_count": 16,
          "metadata": {},
          "output_type": "execute_result"
        }
      ],
      "source": [
        "movies.head()"
      ]
    },
    {
      "cell_type": "code",
      "execution_count": 17,
      "metadata": {},
      "outputs": [],
      "source": [
        "movie_id_id_map_dict = generate_remap_id_dict(movies,col='movie_id')\n",
        "utils.save_object(\"./artifacts/movie_id_map_dict.pkl\",movie_id_id_map_dict)"
      ]
    },
    {
      "cell_type": "code",
      "execution_count": 18,
      "metadata": {},
      "outputs": [],
      "source": [
        "genres_set = set()\n",
        "def get_genres_set(genres):\n",
        "    global genres_set\n",
        "    genres_split = genres.split(\"|\")\n",
        "    genres_set.update(genres_split)\n",
        "    return genres_split"
      ]
    },
    {
      "cell_type": "code",
      "execution_count": 19,
      "metadata": {},
      "outputs": [],
      "source": [
        "movies['genres'] = movies['genres'].apply(lambda x:get_genres_set(x))"
      ]
    },
    {
      "cell_type": "code",
      "execution_count": 20,
      "metadata": {},
      "outputs": [],
      "source": [
        "genres_map_dict ={x: i+1 for i, x in enumerate(sorted(genres_set))}\n",
        "genres_map_dict['UNK']=0"
      ]
    },
    {
      "cell_type": "code",
      "execution_count": 21,
      "metadata": {},
      "outputs": [],
      "source": [
        "utils.save_object(\"./artifacts/genres_map_dict.pkl\",genres_map_dict)"
      ]
    },
    {
      "cell_type": "code",
      "execution_count": 22,
      "metadata": {},
      "outputs": [],
      "source": [
        "movies['genres_ids']= movies['genres'].apply(lambda x: [genres_map_dict[g] for g in x])"
      ]
    },
    {
      "cell_type": "code",
      "execution_count": 26,
      "metadata": {},
      "outputs": [],
      "source": [
        "ratings['movie_id_index'] = ratings['movie_id'].map(movie_id_id_map_dict) \n",
        "ratings['user_id_index'] = ratings['user_id'].map(user_id_map_dict) "
      ]
    },
    {
      "cell_type": "code",
      "execution_count": 50,
      "metadata": {},
      "outputs": [],
      "source": [
        "df_user_views = ratings[[\"movie_id_index\", \"user_id_index\", \"unix_timestamp\", \"norm_rating\"]] \\\n",
        "    .merge(movies[['movie_id_index', 'genres_ids']],\n",
        "           on=['movie_id_index'])\n",
        "#     .merge(users[['user_id_index', 'sex_index', 'occupation_index', 'age_group_index']],\n",
        "#            on=['user_id_index']) \\"
      ]
    },
    {
      "attachments": {},
      "cell_type": "markdown",
      "metadata": {},
      "source": [
        "## (3) Transorm into sequences"
      ]
    },
    {
      "cell_type": "code",
      "execution_count": null,
      "metadata": {},
      "outputs": [],
      "source": [
        "\n"
      ]
    },
    {
      "cell_type": "code",
      "execution_count": 56,
      "metadata": {},
      "outputs": [],
      "source": [
        "df_agg_ratings = df_user_views.sort_values(by=[\"unix_timestamp\"]).groupby(\"user_id_index\")"
      ]
    },
    {
      "cell_type": "code",
      "execution_count": 57,
      "metadata": {
        "id": "LkzZXXijKHmm"
      },
      "outputs": [
        {
          "ename": "AttributeError",
          "evalue": "'DataFrame' object has no attribute 'groups'",
          "output_type": "error",
          "traceback": [
            "\u001b[0;31m---------------------------------------------------------------------------\u001b[0m",
            "\u001b[0;31mAttributeError\u001b[0m                            Traceback (most recent call last)",
            "\u001b[1;32m/Users/nelsonlin/Desktop/workspaces/ml-machine-learning-cook-book/behavior-sequence-transformer-recommender-with-pytorch-by-movie-rating-prediction copy/movielens_recommendations_transformers.ipynb Cell 34\u001b[0m in \u001b[0;36m3\n\u001b[1;32m      <a href='vscode-notebook-cell:/Users/nelsonlin/Desktop/workspaces/ml-machine-learning-cook-book/behavior-sequence-transformer-recommender-with-pytorch-by-movie-rating-prediction%20copy/movielens_recommendations_transformers.ipynb#X35sZmlsZQ%3D%3D?line=0'>1</a>\u001b[0m ratings_data \u001b[39m=\u001b[39m pd\u001b[39m.\u001b[39mDataFrame(\n\u001b[1;32m      <a href='vscode-notebook-cell:/Users/nelsonlin/Desktop/workspaces/ml-machine-learning-cook-book/behavior-sequence-transformer-recommender-with-pytorch-by-movie-rating-prediction%20copy/movielens_recommendations_transformers.ipynb#X35sZmlsZQ%3D%3D?line=1'>2</a>\u001b[0m     data\u001b[39m=\u001b[39m{\n\u001b[0;32m----> <a href='vscode-notebook-cell:/Users/nelsonlin/Desktop/workspaces/ml-machine-learning-cook-book/behavior-sequence-transformer-recommender-with-pytorch-by-movie-rating-prediction%20copy/movielens_recommendations_transformers.ipynb#X35sZmlsZQ%3D%3D?line=2'>3</a>\u001b[0m         \u001b[39m\"\u001b[39m\u001b[39muser_id\u001b[39m\u001b[39m\"\u001b[39m: \u001b[39mlist\u001b[39m(df_user_views\u001b[39m.\u001b[39;49mgroups\u001b[39m.\u001b[39mkeys()),\n\u001b[1;32m      <a href='vscode-notebook-cell:/Users/nelsonlin/Desktop/workspaces/ml-machine-learning-cook-book/behavior-sequence-transformer-recommender-with-pytorch-by-movie-rating-prediction%20copy/movielens_recommendations_transformers.ipynb#X35sZmlsZQ%3D%3D?line=3'>4</a>\u001b[0m         \u001b[39m\"\u001b[39m\u001b[39mmovie_ids\u001b[39m\u001b[39m\"\u001b[39m: \u001b[39mlist\u001b[39m(df_user_views\u001b[39m.\u001b[39mmovie_id\u001b[39m.\u001b[39mapply(\u001b[39mlist\u001b[39m)),\n\u001b[1;32m      <a href='vscode-notebook-cell:/Users/nelsonlin/Desktop/workspaces/ml-machine-learning-cook-book/behavior-sequence-transformer-recommender-with-pytorch-by-movie-rating-prediction%20copy/movielens_recommendations_transformers.ipynb#X35sZmlsZQ%3D%3D?line=4'>5</a>\u001b[0m         \u001b[39m\"\u001b[39m\u001b[39mratings\u001b[39m\u001b[39m\"\u001b[39m: \u001b[39mlist\u001b[39m(df_user_views\u001b[39m.\u001b[39mrating\u001b[39m.\u001b[39mapply(\u001b[39mlist\u001b[39m)),\n\u001b[1;32m      <a href='vscode-notebook-cell:/Users/nelsonlin/Desktop/workspaces/ml-machine-learning-cook-book/behavior-sequence-transformer-recommender-with-pytorch-by-movie-rating-prediction%20copy/movielens_recommendations_transformers.ipynb#X35sZmlsZQ%3D%3D?line=5'>6</a>\u001b[0m         \u001b[39m\"\u001b[39m\u001b[39mtimestamps\u001b[39m\u001b[39m\"\u001b[39m: \u001b[39mlist\u001b[39m(df_user_views\u001b[39m.\u001b[39munix_timestamp\u001b[39m.\u001b[39mapply(\u001b[39mlist\u001b[39m)),\n\u001b[1;32m      <a href='vscode-notebook-cell:/Users/nelsonlin/Desktop/workspaces/ml-machine-learning-cook-book/behavior-sequence-transformer-recommender-with-pytorch-by-movie-rating-prediction%20copy/movielens_recommendations_transformers.ipynb#X35sZmlsZQ%3D%3D?line=6'>7</a>\u001b[0m     }\n\u001b[1;32m      <a href='vscode-notebook-cell:/Users/nelsonlin/Desktop/workspaces/ml-machine-learning-cook-book/behavior-sequence-transformer-recommender-with-pytorch-by-movie-rating-prediction%20copy/movielens_recommendations_transformers.ipynb#X35sZmlsZQ%3D%3D?line=7'>8</a>\u001b[0m )\n",
            "File \u001b[0;32m~/miniforge3/envs/torch/lib/python3.8/site-packages/pandas/core/generic.py:5487\u001b[0m, in \u001b[0;36mNDFrame.__getattr__\u001b[0;34m(self, name)\u001b[0m\n\u001b[1;32m   5480\u001b[0m \u001b[39mif\u001b[39;00m (\n\u001b[1;32m   5481\u001b[0m     name \u001b[39mnot\u001b[39;00m \u001b[39min\u001b[39;00m \u001b[39mself\u001b[39m\u001b[39m.\u001b[39m_internal_names_set\n\u001b[1;32m   5482\u001b[0m     \u001b[39mand\u001b[39;00m name \u001b[39mnot\u001b[39;00m \u001b[39min\u001b[39;00m \u001b[39mself\u001b[39m\u001b[39m.\u001b[39m_metadata\n\u001b[1;32m   5483\u001b[0m     \u001b[39mand\u001b[39;00m name \u001b[39mnot\u001b[39;00m \u001b[39min\u001b[39;00m \u001b[39mself\u001b[39m\u001b[39m.\u001b[39m_accessors\n\u001b[1;32m   5484\u001b[0m     \u001b[39mand\u001b[39;00m \u001b[39mself\u001b[39m\u001b[39m.\u001b[39m_info_axis\u001b[39m.\u001b[39m_can_hold_identifiers_and_holds_name(name)\n\u001b[1;32m   5485\u001b[0m ):\n\u001b[1;32m   5486\u001b[0m     \u001b[39mreturn\u001b[39;00m \u001b[39mself\u001b[39m[name]\n\u001b[0;32m-> 5487\u001b[0m \u001b[39mreturn\u001b[39;00m \u001b[39mobject\u001b[39;49m\u001b[39m.\u001b[39;49m\u001b[39m__getattribute__\u001b[39;49m(\u001b[39mself\u001b[39;49m, name)\n",
            "\u001b[0;31mAttributeError\u001b[0m: 'DataFrame' object has no attribute 'groups'"
          ]
        }
      ],
      "source": [
        "ratings_data = pd.DataFrame(\n",
        "    data={\n",
        "        \"user_id\": list(df_user_views.groups.keys()),\n",
        "        \"movie_ids\": list(df_user_views.movie_id.apply(list)),\n",
        "        \"ratings\": list(df_user_views.rating.apply(list)),\n",
        "        \"timestamps\": list(df_user_views.unix_timestamp.apply(list)),\n",
        "    }\n",
        ")\n"
      ]
    },
    {
      "cell_type": "code",
      "execution_count": null,
      "metadata": {},
      "outputs": [],
      "source": []
    },
    {
      "attachments": {},
      "cell_type": "markdown",
      "metadata": {
        "id": "QcWM8HzfKHmn"
      },
      "source": [
        "Now, let's split the `movie_ids` list into a set of sequences of a fixed length.\n",
        "We do the same for the `ratings`. Set the `sequence_length` variable to change the length\n",
        "of the input sequence to the model. You can also change the `step_size` to control the\n",
        "number of sequences to generate for each user."
      ]
    },
    {
      "cell_type": "code",
      "execution_count": null,
      "metadata": {
        "id": "rDGsTxNNKHmn"
      },
      "outputs": [],
      "source": [
        "sequence_length = 4\n",
        "step_size = 2\n",
        "\n",
        "\n",
        "def create_sequences(values, window_size, step_size):\n",
        "    sequences = []\n",
        "    start_index = 0\n",
        "    while True:\n",
        "        end_index = start_index + window_size\n",
        "        seq = values[start_index:end_index]\n",
        "        if len(seq) < window_size:\n",
        "            seq = values[-window_size:]\n",
        "            if len(seq) == window_size:\n",
        "                sequences.append(seq)\n",
        "            break\n",
        "        sequences.append(seq)\n",
        "        start_index += step_size\n",
        "    return sequences\n",
        "\n",
        "\n",
        "ratings_data.movie_ids = ratings_data.movie_ids.apply(\n",
        "    lambda ids: create_sequences(ids, sequence_length, step_size)\n",
        ")\n",
        "\n",
        "ratings_data.ratings = ratings_data.ratings.apply(\n",
        "    lambda ids: create_sequences(ids, sequence_length, step_size)\n",
        ")\n",
        "\n",
        "del ratings_data[\"timestamps\"]"
      ]
    },
    {
      "attachments": {},
      "cell_type": "markdown",
      "metadata": {
        "id": "jDXGlzMTKHmn"
      },
      "source": [
        "After that, we process the output to have each sequence in a separate records in\n",
        "the DataFrame. In addition, we join the user features with the ratings data."
      ]
    },
    {
      "cell_type": "code",
      "execution_count": null,
      "metadata": {
        "id": "sdxmO_bQKHmn"
      },
      "outputs": [],
      "source": [
        "ratings_data_movies = ratings_data[[\"user_id\", \"movie_ids\"]].explode(\n",
        "    \"movie_ids\", ignore_index=True\n",
        ")\n",
        "ratings_data_rating = ratings_data[[\"ratings\"]].explode(\"ratings\", ignore_index=True)\n",
        "ratings_data_transformed = pd.concat([ratings_data_movies, ratings_data_rating], axis=1)\n",
        "ratings_data_transformed = ratings_data_transformed.join(\n",
        "    users.set_index(\"user_id\"), on=\"user_id\"\n",
        ")\n",
        "ratings_data_transformed.movie_ids = ratings_data_transformed.movie_ids.apply(\n",
        "    lambda x: \",\".join(x)\n",
        ")\n",
        "ratings_data_transformed.ratings = ratings_data_transformed.ratings.apply(\n",
        "    lambda x: \",\".join([str(v) for v in x])\n",
        ")\n",
        "\n",
        "del ratings_data_transformed[\"zip_code\"]\n",
        "\n",
        "ratings_data_transformed.rename(\n",
        "    columns={\"movie_ids\": \"sequence_movie_ids\", \"ratings\": \"sequence_ratings\"},\n",
        "    inplace=True,\n",
        ")"
      ]
    },
    {
      "attachments": {},
      "cell_type": "markdown",
      "metadata": {
        "id": "_QPOJQ-AKHmo"
      },
      "source": [
        "With `sequence_length` of 4 and `step_size` of 2, we end up with 498,623 sequences.\n",
        "\n",
        "Finally, we split the data into training and testing splits, with 85% and 15% of\n",
        "the instances, respectively, and store them to CSV files."
      ]
    },
    {
      "cell_type": "code",
      "execution_count": null,
      "metadata": {
        "id": "ieo1ZsFmKHmo"
      },
      "outputs": [],
      "source": [
        "random_selection = np.random.rand(len(ratings_data_transformed.index)) <= 0.85\n",
        "train_data = ratings_data_transformed[random_selection]\n",
        "test_data = ratings_data_transformed[~random_selection]\n",
        "\n",
        "train_data.to_csv(\"train_data.csv\", index=False, sep=\"|\", header=False)\n",
        "test_data.to_csv(\"test_data.csv\", index=False, sep=\"|\", header=False)"
      ]
    },
    {
      "attachments": {},
      "cell_type": "markdown",
      "metadata": {
        "id": "H0j37O2rKHmo"
      },
      "source": [
        "## Define metadata"
      ]
    },
    {
      "cell_type": "code",
      "execution_count": null,
      "metadata": {
        "id": "91JfBok6KHmo"
      },
      "outputs": [],
      "source": [
        "CSV_HEADER = list(ratings_data_transformed.columns)\n",
        "\n",
        "CATEGORICAL_FEATURES_WITH_VOCABULARY = {\n",
        "    \"user_id\": list(users.user_id.unique()),\n",
        "    \"movie_id\": list(movies.movie_id.unique()),\n",
        "    \"sex\": list(users.sex.unique()),\n",
        "    \"age_group\": list(users.age_group.unique()),\n",
        "    \"occupation\": list(users.occupation.unique()),\n",
        "}\n",
        "\n",
        "USER_FEATURES = [\"sex\", \"age_group\", \"occupation\"]\n",
        "\n",
        "MOVIE_FEATURES = [\"genres\"]"
      ]
    },
    {
      "attachments": {},
      "cell_type": "markdown",
      "metadata": {
        "id": "NNW6Czj9KHmp"
      },
      "source": [
        "## Create `tf.data.Dataset` for training and evaluation"
      ]
    },
    {
      "cell_type": "code",
      "execution_count": null,
      "metadata": {
        "id": "jmaCMfaLKHmp"
      },
      "outputs": [],
      "source": [
        "\n",
        "def get_dataset_from_csv(csv_file_path, shuffle=False, batch_size=128):\n",
        "    def process(features):\n",
        "        movie_ids_string = features[\"sequence_movie_ids\"]\n",
        "        sequence_movie_ids = tf.strings.split(movie_ids_string, \",\").to_tensor()\n",
        "\n",
        "        # The last movie id in the sequence is the target movie.\n",
        "        features[\"target_movie_id\"] = sequence_movie_ids[:, -1]\n",
        "        features[\"sequence_movie_ids\"] = sequence_movie_ids[:, :-1]\n",
        "\n",
        "        ratings_string = features[\"sequence_ratings\"]\n",
        "        sequence_ratings = tf.strings.to_number(\n",
        "            tf.strings.split(ratings_string, \",\"), tf.dtypes.float32\n",
        "        ).to_tensor()\n",
        "\n",
        "        # The last rating in the sequence is the target for the model to predict.\n",
        "        target = sequence_ratings[:, -1]\n",
        "        features[\"sequence_ratings\"] = sequence_ratings[:, :-1]\n",
        "\n",
        "        return features, target\n",
        "\n",
        "    dataset = tf.data.experimental.make_csv_dataset(\n",
        "        csv_file_path,\n",
        "        batch_size=batch_size,\n",
        "        column_names=CSV_HEADER,\n",
        "        num_epochs=1,\n",
        "        header=False,\n",
        "        field_delim=\"|\",\n",
        "        shuffle=shuffle,\n",
        "    ).map(process)\n",
        "\n",
        "    return dataset\n"
      ]
    },
    {
      "attachments": {},
      "cell_type": "markdown",
      "metadata": {
        "id": "t7eX9AtTKHmp"
      },
      "source": [
        "## Create model inputs"
      ]
    },
    {
      "cell_type": "code",
      "execution_count": null,
      "metadata": {
        "id": "uhO1EsjBKHmp"
      },
      "outputs": [],
      "source": [
        "\n",
        "def create_model_inputs():\n",
        "    return {\n",
        "        \"user_id\": layers.Input(name=\"user_id\", shape=(1,), dtype=tf.string),\n",
        "        \"sequence_movie_ids\": layers.Input(\n",
        "            name=\"sequence_movie_ids\", shape=(sequence_length - 1,), dtype=tf.string\n",
        "        ),\n",
        "        \"target_movie_id\": layers.Input(\n",
        "            name=\"target_movie_id\", shape=(1,), dtype=tf.string\n",
        "        ),\n",
        "        \"sequence_ratings\": layers.Input(\n",
        "            name=\"sequence_ratings\", shape=(sequence_length - 1,), dtype=tf.float32\n",
        "        ),\n",
        "        \"sex\": layers.Input(name=\"sex\", shape=(1,), dtype=tf.string),\n",
        "        \"age_group\": layers.Input(name=\"age_group\", shape=(1,), dtype=tf.string),\n",
        "        \"occupation\": layers.Input(name=\"occupation\", shape=(1,), dtype=tf.string),\n",
        "    }\n"
      ]
    },
    {
      "attachments": {},
      "cell_type": "markdown",
      "metadata": {
        "id": "0ra-s1--KHmp"
      },
      "source": [
        "## Encode input features\n",
        "\n",
        "The `encode_input_features` method works as follows:\n",
        "\n",
        "1. Each categorical user feature is encoded using `layers.Embedding`, with embedding\n",
        "dimension equals to the square root of the vocabulary size of the feature.\n",
        "The embeddings of these features are concatenated to form a single input tensor.\n",
        "\n",
        "2. Each movie in the movie sequence and the target movie is encoded `layers.Embedding`,\n",
        "where the dimension size is the square root of the number of movies.\n",
        "\n",
        "3. A multi-hot genres vector for each movie is concatenated with its embedding vector,\n",
        "and processed using a non-linear `layers.Dense` to output a vector of the same movie\n",
        "embedding dimensions.\n",
        "\n",
        "4. A positional embedding is added to each movie embedding in the sequence, and then\n",
        "multiplied by its rating from the ratings sequence.\n",
        "\n",
        "5. The target movie embedding is concatenated to the sequence movie embeddings, producing\n",
        "a tensor with the shape of `[batch size, sequence length, embedding size]`, as expected\n",
        "by the attention layer for the transformer architecture.\n",
        "\n",
        "6. The method returns a tuple of two elements:  `encoded_transformer_features` and\n",
        "`encoded_other_features`."
      ]
    },
    {
      "cell_type": "code",
      "execution_count": null,
      "metadata": {
        "id": "14ZCOGPuKHmq"
      },
      "outputs": [],
      "source": [
        "\n",
        "def encode_input_features(\n",
        "    inputs,\n",
        "    include_user_id=True,\n",
        "    include_user_features=True,\n",
        "    include_movie_features=True,\n",
        "):\n",
        "\n",
        "    encoded_transformer_features = []\n",
        "    encoded_other_features = []\n",
        "\n",
        "    other_feature_names = []\n",
        "    if include_user_id:\n",
        "        other_feature_names.append(\"user_id\")\n",
        "    if include_user_features:\n",
        "        other_feature_names.extend(USER_FEATURES)\n",
        "\n",
        "    ## Encode user features\n",
        "    for feature_name in other_feature_names:\n",
        "        # Convert the string input values into integer indices.\n",
        "        vocabulary = CATEGORICAL_FEATURES_WITH_VOCABULARY[feature_name]\n",
        "        idx = StringLookup(vocabulary=vocabulary, mask_token=None, num_oov_indices=0)(\n",
        "            inputs[feature_name]\n",
        "        )\n",
        "        # Compute embedding dimensions\n",
        "        embedding_dims = int(math.sqrt(len(vocabulary)))\n",
        "        # Create an embedding layer with the specified dimensions.\n",
        "        embedding_encoder = layers.Embedding(\n",
        "            input_dim=len(vocabulary),\n",
        "            output_dim=embedding_dims,\n",
        "            name=f\"{feature_name}_embedding\",\n",
        "        )\n",
        "        # Convert the index values to embedding representations.\n",
        "        encoded_other_features.append(embedding_encoder(idx))\n",
        "\n",
        "    ## Create a single embedding vector for the user features\n",
        "    if len(encoded_other_features) > 1:\n",
        "        encoded_other_features = layers.concatenate(encoded_other_features)\n",
        "    elif len(encoded_other_features) == 1:\n",
        "        encoded_other_features = encoded_other_features[0]\n",
        "    else:\n",
        "        encoded_other_features = None\n",
        "\n",
        "    ## Create a movie embedding encoder\n",
        "    movie_vocabulary = CATEGORICAL_FEATURES_WITH_VOCABULARY[\"movie_id\"]\n",
        "    movie_embedding_dims = int(math.sqrt(len(movie_vocabulary)))\n",
        "    # Create a lookup to convert string values to integer indices.\n",
        "    movie_index_lookup = StringLookup(\n",
        "        vocabulary=movie_vocabulary,\n",
        "        mask_token=None,\n",
        "        num_oov_indices=0,\n",
        "        name=\"movie_index_lookup\",\n",
        "    )\n",
        "    # Create an embedding layer with the specified dimensions.\n",
        "    movie_embedding_encoder = layers.Embedding(\n",
        "        input_dim=len(movie_vocabulary),\n",
        "        output_dim=movie_embedding_dims,\n",
        "        name=f\"movie_embedding\",\n",
        "    )\n",
        "    # Create a vector lookup for movie genres.\n",
        "    genre_vectors = movies[genres].to_numpy()\n",
        "    movie_genres_lookup = layers.Embedding(\n",
        "        input_dim=genre_vectors.shape[0],\n",
        "        output_dim=genre_vectors.shape[1],\n",
        "        embeddings_initializer=tf.keras.initializers.Constant(genre_vectors),\n",
        "        trainable=False,\n",
        "        name=\"genres_vector\",\n",
        "    )\n",
        "    # Create a processing layer for genres.\n",
        "    movie_embedding_processor = layers.Dense(\n",
        "        units=movie_embedding_dims,\n",
        "        activation=\"relu\",\n",
        "        name=\"process_movie_embedding_with_genres\",\n",
        "    )\n",
        "\n",
        "    ## Define a function to encode a given movie id.\n",
        "    def encode_movie(movie_id):\n",
        "        # Convert the string input values into integer indices.\n",
        "        movie_idx = movie_index_lookup(movie_id)\n",
        "        movie_embedding = movie_embedding_encoder(movie_idx)\n",
        "        encoded_movie = movie_embedding\n",
        "        if include_movie_features:\n",
        "            movie_genres_vector = movie_genres_lookup(movie_idx)\n",
        "            encoded_movie = movie_embedding_processor(\n",
        "                layers.concatenate([movie_embedding, movie_genres_vector])\n",
        "            )\n",
        "        return encoded_movie\n",
        "\n",
        "    ## Encoding target_movie_id\n",
        "    target_movie_id = inputs[\"target_movie_id\"]\n",
        "    encoded_target_movie = encode_movie(target_movie_id)\n",
        "\n",
        "    ## Encoding sequence movie_ids.\n",
        "    sequence_movies_ids = inputs[\"sequence_movie_ids\"]\n",
        "    encoded_sequence_movies = encode_movie(sequence_movies_ids)\n",
        "    # Create positional embedding.\n",
        "    position_embedding_encoder = layers.Embedding(\n",
        "        input_dim=sequence_length,\n",
        "        output_dim=movie_embedding_dims,\n",
        "        name=\"position_embedding\",\n",
        "    )\n",
        "    positions = tf.range(start=0, limit=sequence_length - 1, delta=1)\n",
        "    encodded_positions = position_embedding_encoder(positions)\n",
        "    # Retrieve sequence ratings to incorporate them into the encoding of the movie.\n",
        "    sequence_ratings = tf.expand_dims(inputs[\"sequence_ratings\"], -1)\n",
        "    # Add the positional encoding to the movie encodings and multiply them by rating.\n",
        "    encoded_sequence_movies_with_poistion_and_rating = layers.Multiply()(\n",
        "        [(encoded_sequence_movies + encodded_positions), sequence_ratings]\n",
        "    )\n",
        "\n",
        "    # Construct the transformer inputs.\n",
        "    for encoded_movie in tf.unstack(\n",
        "        encoded_sequence_movies_with_poistion_and_rating, axis=1\n",
        "    ):\n",
        "        encoded_transformer_features.append(tf.expand_dims(encoded_movie, 1))\n",
        "    encoded_transformer_features.append(encoded_target_movie)\n",
        "\n",
        "    encoded_transformer_features = layers.concatenate(\n",
        "        encoded_transformer_features, axis=1\n",
        "    )\n",
        "\n",
        "    return encoded_transformer_features, encoded_other_features\n"
      ]
    },
    {
      "attachments": {},
      "cell_type": "markdown",
      "metadata": {
        "id": "3Pc2qcCZKHmq"
      },
      "source": [
        "## Create a BST model"
      ]
    },
    {
      "cell_type": "code",
      "execution_count": null,
      "metadata": {
        "id": "MRrrPrcpKHmq"
      },
      "outputs": [],
      "source": [
        "include_user_id = False\n",
        "include_user_features = False\n",
        "include_movie_features = False\n",
        "\n",
        "hidden_units = [256, 128]\n",
        "dropout_rate = 0.1\n",
        "num_heads = 3\n",
        "\n",
        "\n",
        "def create_model():\n",
        "    inputs = create_model_inputs()\n",
        "    transformer_features, other_features = encode_input_features(\n",
        "        inputs, include_user_id, include_user_features, include_movie_features\n",
        "    )\n",
        "\n",
        "    # Create a multi-headed attention layer.\n",
        "    attention_output = layers.MultiHeadAttention(\n",
        "        num_heads=num_heads, key_dim=transformer_features.shape[2], dropout=dropout_rate\n",
        "    )(transformer_features, transformer_features)\n",
        "\n",
        "    # Transformer block.\n",
        "    attention_output = layers.Dropout(dropout_rate)(attention_output)\n",
        "    x1 = layers.Add()([transformer_features, attention_output])\n",
        "    x1 = layers.LayerNormalization()(x1)\n",
        "    x2 = layers.LeakyReLU()(x1)\n",
        "    x2 = layers.Dense(units=x2.shape[-1])(x2)\n",
        "    x2 = layers.Dropout(dropout_rate)(x2)\n",
        "    transformer_features = layers.Add()([x1, x2])\n",
        "    transformer_features = layers.LayerNormalization()(transformer_features)\n",
        "    features = layers.Flatten()(transformer_features)\n",
        "\n",
        "    # Included the other features.\n",
        "    if other_features is not None:\n",
        "        features = layers.concatenate(\n",
        "            [features, layers.Reshape([other_features.shape[-1]])(other_features)]\n",
        "        )\n",
        "\n",
        "    # Fully-connected layers.\n",
        "    for num_units in hidden_units:\n",
        "        features = layers.Dense(num_units)(features)\n",
        "        features = layers.BatchNormalization()(features)\n",
        "        features = layers.LeakyReLU()(features)\n",
        "        features = layers.Dropout(dropout_rate)(features)\n",
        "\n",
        "    outputs = layers.Dense(units=1)(features)\n",
        "    model = keras.Model(inputs=inputs, outputs=outputs)\n",
        "    return model\n",
        "\n",
        "\n",
        "model = create_model()"
      ]
    },
    {
      "attachments": {},
      "cell_type": "markdown",
      "metadata": {
        "id": "5mIcgmtBKHmq"
      },
      "source": [
        "## Run training and evaluation experiment"
      ]
    },
    {
      "cell_type": "code",
      "execution_count": null,
      "metadata": {
        "id": "oFjN-RZeKHmq"
      },
      "outputs": [],
      "source": [
        "# Compile the model.\n",
        "model.compile(\n",
        "    optimizer=keras.optimizers.legacy.Adagrad(learning_rate=0.01),\n",
        "    loss=keras.losses.MeanSquaredError(),\n",
        "    metrics=[keras.metrics.MeanAbsoluteError()],\n",
        ")\n",
        "\n",
        "# Read the training data.\n",
        "train_dataset = get_dataset_from_csv(\"train_data.csv\", shuffle=True, batch_size=265)\n",
        "\n",
        "# Fit the model with the training data.\n",
        "model.fit(train_dataset, epochs=5)\n",
        "\n",
        "# Read the test data.\n",
        "test_dataset = get_dataset_from_csv(\"test_data.csv\", batch_size=265)\n",
        "\n",
        "# Evaluate the model on the test data.\n",
        "_, rmse = model.evaluate(test_dataset, verbose=0)\n",
        "print(f\"Test MAE: {round(rmse, 3)}\")"
      ]
    },
    {
      "attachments": {},
      "cell_type": "markdown",
      "metadata": {
        "id": "tDKDCd_bKHmr"
      },
      "source": [
        "You should achieve a Mean Absolute Error (MAE) at or around 0.7 on the test data."
      ]
    },
    {
      "attachments": {},
      "cell_type": "markdown",
      "metadata": {
        "id": "Sq-fCGUtKHmr"
      },
      "source": [
        "## Conclusion\n",
        "\n",
        "The BST model uses the Transformer layer in its architecture to capture the sequential signals underlying\n",
        "users’ behavior sequences for recommendation.\n",
        "\n",
        "You can try training this model with different configurations, for example, by increasing\n",
        "the input sequence length and training the model for a larger number of epochs. In addition,\n",
        "you can try including other features like movie release year and customer\n",
        "zipcode, and including cross features like sex X genre."
      ]
    },
    {
      "attachments": {},
      "cell_type": "markdown",
      "metadata": {},
      "source": []
    }
  ],
  "metadata": {
    "accelerator": "GPU",
    "colab": {
      "name": "movielens_recommendations_transformers",
      "provenance": [],
      "toc_visible": true
    },
    "kernelspec": {
      "display_name": "Python 3",
      "language": "python",
      "name": "python3"
    },
    "language_info": {
      "codemirror_mode": {
        "name": "ipython",
        "version": 3
      },
      "file_extension": ".py",
      "mimetype": "text/x-python",
      "name": "python",
      "nbconvert_exporter": "python",
      "pygments_lexer": "ipython3",
      "version": "3.8.13"
    }
  },
  "nbformat": 4,
  "nbformat_minor": 0
}
