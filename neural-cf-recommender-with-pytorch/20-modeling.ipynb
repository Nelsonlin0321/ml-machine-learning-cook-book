{
 "cells": [
  {
   "cell_type": "code",
   "execution_count": 1,
   "metadata": {},
   "outputs": [],
   "source": [
    "%load_ext autoreload\n",
    "%autoreload 2"
   ]
  },
  {
   "cell_type": "code",
   "execution_count": 2,
   "metadata": {},
   "outputs": [],
   "source": [
    "import pandas as pd\n",
    "import utils\n",
    "import matplotlib.pyplot as plt"
   ]
  },
  {
   "attachments": {},
   "cell_type": "markdown",
   "metadata": {},
   "source": [
    "### (1) Load Artifacts"
   ]
  },
  {
   "cell_type": "code",
   "execution_count": 3,
   "metadata": {},
   "outputs": [],
   "source": [
    "user_id_map_dict = utils.open_object(\"./artifacts/user_id_map_dict.pkl\")\n",
    "movie_id_map_dict = utils.open_object(\"./artifacts/movie_id_map_dict.pkl\")\n",
    "genres_map_dict = utils.open_object(\"./artifacts/genres_map_dict.pkl\")"
   ]
  },
  {
   "cell_type": "code",
   "execution_count": 4,
   "metadata": {},
   "outputs": [],
   "source": [
    "num_user = len(user_id_map_dict)\n",
    "num_movie = len(movie_id_map_dict)\n",
    "num_genre = len(genres_map_dict)"
   ]
  },
  {
   "attachments": {},
   "cell_type": "markdown",
   "metadata": {},
   "source": [
    "### (2) Modeling"
   ]
  },
  {
   "cell_type": "code",
   "execution_count": 5,
   "metadata": {},
   "outputs": [],
   "source": [
    "config_dict={}"
   ]
  },
  {
   "cell_type": "code",
   "execution_count": 6,
   "metadata": {},
   "outputs": [],
   "source": [
    "config_dict={}\n",
    "config_dict['num_user'] = num_user \n",
    "config_dict['num_item'] = num_movie \n",
    "config_dict['num_genre'] = num_genre\n",
    "config_dict['latent_dim_mlp'] =  64\n",
    "config_dict['latent_dim_mf']=config_dict['latent_dim_mlp']\n",
    "config_dict['layers'] = [config_dict['latent_dim_mf']*3]+[64,32]\n",
    "config_dict['num_layers'] = len(config_dict['layers'])\n",
    "config_dict['dropout_rate_mf']=0.6\n",
    "config_dict['dropout_rate_mlp']=0.6\n",
    "config_dict['batch_size']=32\n",
    "config_dict['epoches']=8\n",
    "config_dict['eval_steps']=500\n",
    "config_dict['use_xavier_uniform']=False\n",
    "config_dict['learning_rate']=0.001"
   ]
  },
  {
   "cell_type": "code",
   "execution_count": 7,
   "metadata": {},
   "outputs": [],
   "source": [
    "class Config:\n",
    "    def __init__(self, dictionary):\n",
    "        for key, value in dictionary.items():\n",
    "            setattr(self, key, value)"
   ]
  },
  {
   "cell_type": "code",
   "execution_count": 8,
   "metadata": {},
   "outputs": [],
   "source": [
    "config = Config(dictionary=config_dict)"
   ]
  },
  {
   "cell_type": "code",
   "execution_count": 30,
   "metadata": {},
   "outputs": [
    {
     "name": "stdout",
     "output_type": "stream",
     "text": [
      "Overwriting model.py\n"
     ]
    }
   ],
   "source": [
    "%%writefile model.py\n",
    "\n",
    "import torch\n",
    "\n",
    "class NeuMF(torch.nn.Module):\n",
    "    def __init__(self, config):\n",
    "        super(NeuMF, self).__init__()\n",
    "        self.config = config\n",
    "\n",
    "        # matrix factorization part\n",
    "        self.embedding_user_mf = torch.nn.Embedding(\n",
    "            num_embeddings=self.config.num_user, embedding_dim=self.config.latent_dim_mf)\n",
    "        if self.config.use_xavier_uniform:\n",
    "            torch.nn.init.xavier_uniform_(self.embedding_user_mf.weight)\n",
    "\n",
    "        self.embedding_item_mf = torch.nn.Embedding(\n",
    "            num_embeddings=self.config.num_item, embedding_dim=self.config.latent_dim_mf)\n",
    "        if self.config.use_xavier_uniform:\n",
    "            torch.nn.init.xavier_uniform_(self.embedding_item_mf.weight)\n",
    "\n",
    "        self.embedding_genre_mf = torch.nn.Embedding(\n",
    "            num_embeddings=self.config.num_genre, embedding_dim=self.config.latent_dim_mf)\n",
    "        if self.config.use_xavier_uniform:\n",
    "            torch.nn.init.xavier_uniform_(self.embedding_genre_mf.weight)\n",
    "\n",
    "\n",
    "        # multilayer perceptron part\n",
    "        self.embedding_user_mlp = torch.nn.Embedding(\n",
    "            num_embeddings=self.config.num_user, embedding_dim=self.config.latent_dim_mlp)\n",
    "        if self.config.use_xavier_uniform:\n",
    "            torch.nn.init.xavier_uniform_(self.embedding_user_mlp.weight)\n",
    "\n",
    "        self.embedding_item_mlp = torch.nn.Embedding(\n",
    "            num_embeddings=self.config.num_item, embedding_dim=self.config.latent_dim_mlp)\n",
    "        if self.config.use_xavier_uniform:\n",
    "            torch.nn.init.xavier_uniform_(self.embedding_item_mlp.weight)\n",
    "\n",
    "        self.embedding_genre_mlp = torch.nn.Embedding(\n",
    "            num_embeddings=self.config.num_genre, embedding_dim=self.config.latent_dim_mlp)\n",
    "        if self.config.use_xavier_uniform:\n",
    "            torch.nn.init.xavier_uniform_(self.embedding_genre_mlp.weight)\n",
    "\n",
    "        self.fc_layers = torch.nn.ModuleList()\n",
    "        for idx, (in_size, out_size) in enumerate(zip(self.config.layers[:-1], self.config.layers[1:])):\n",
    "            self.fc_layers.append(torch.nn.Linear(in_size, out_size))\n",
    "\n",
    "        self.logits = torch.nn.Linear(\n",
    "            in_features=self.config.layers[-1] + self.config.latent_dim_mf, out_features=1)\n",
    "        self.sigmoid = torch.nn.Sigmoid()\n",
    "\n",
    "    def forward(self, user_indices, item_indices,genre_indices):\n",
    "        user_embedding_mlp = self.embedding_user_mlp(user_indices)\n",
    "        item_embedding_mlp = self.embedding_item_mlp(item_indices)\n",
    "        genre_embedding_mlp = self.embedding_genre_mlp(genre_indices)\n",
    "        genre_embedding_mlp = torch.mean(genre_embedding_mlp,axis=1)\n",
    "\n",
    "        user_embedding_mf = self.embedding_user_mf(user_indices)\n",
    "        item_embedding_mf = self.embedding_item_mf(item_indices)\n",
    "        genre_embedding_mf = self.embedding_genre_mf(genre_indices)\n",
    "        genre_embedding_mf = torch.max(genre_embedding_mf,axis=1)[0]\n",
    "\n",
    "\n",
    "        # mf part: element-wise product\n",
    "        mf_vector = torch.mul(item_embedding_mf, genre_embedding_mf)\n",
    "        mf_vector = torch.nn.Dropout(self.config.dropout_rate_mf)(mf_vector)\n",
    "\n",
    "        mf_vector = torch.mul(user_embedding_mf, mf_vector)\n",
    "        mf_vector = torch.nn.Dropout(self.config.dropout_rate_mf)(mf_vector)\n",
    "\n",
    "        # mlp part\n",
    "        # the concat latent vector\n",
    "        mlp_vector = torch.cat(\n",
    "            [user_embedding_mlp, item_embedding_mlp,genre_embedding_mlp], dim=-1)\n",
    "\n",
    "        for idx, _ in enumerate(range(len(self.fc_layers))):\n",
    "            mlp_vector = self.fc_layers[idx](mlp_vector)\n",
    "            \"\"\"\n",
    "            1) The sigmoid function restricts each\n",
    "            neuron to be in (0,1), which may limit the model's perfor-\n",
    "            mance; and it is known to suffer from saturation, where\n",
    "            neurons stop learning when their output is near either 0 or\n",
    "            1. 2) Even though tanh is a better choice and has been\n",
    "            widely adopted [6, 44], it only alleviates the issues of sig-\n",
    "            moid to a certain extent, since it can be seen as a rescaled\n",
    "            version of sigmoid. And 3) as\n",
    "            such, we opt for ReLU, which is more biologically plausi-\n",
    "            ble and proven to be non-saturated [9]; moreover, it encour-\n",
    "            ages sparse activations, being well-suited for sparse data and\n",
    "            making the model less likely to be overfitting. Our empirical\n",
    "            results show that ReLU yields slightly better performance\n",
    "            than tanh, which in turn is significantly better than sigmoid.\n",
    "            \"\"\"\n",
    "            mlp_vector = torch.nn.ReLU()(mlp_vector)\n",
    "\n",
    "        mlp_vector = torch.nn.Dropout(self.config.dropout_rate_mlp)(mlp_vector)\n",
    "\n",
    "        vector = torch.cat([mlp_vector, mf_vector], dim=-1)\n",
    "        logits = self.logits(vector)\n",
    "        output = self.sigmoid(logits)\n",
    "        return output"
   ]
  },
  {
   "cell_type": "code",
   "execution_count": 10,
   "metadata": {},
   "outputs": [],
   "source": [
    "from model import NeuMF"
   ]
  },
  {
   "attachments": {},
   "cell_type": "markdown",
   "metadata": {},
   "source": [
    "## (3) Load Processed Data"
   ]
  },
  {
   "cell_type": "code",
   "execution_count": 11,
   "metadata": {},
   "outputs": [],
   "source": [
    "df_processed = pd.read_parquet(\"./data/processed.parquet\")"
   ]
  },
  {
   "cell_type": "code",
   "execution_count": 12,
   "metadata": {},
   "outputs": [
    {
     "data": {
      "text/plain": [
       "(array([1.6414e+04, 2.8562e+04, 3.1889e+04, 1.6701e+04, 5.5190e+03,\n",
       "        1.3880e+03, 3.6000e+02, 1.0000e+00, 0.0000e+00, 2.0000e+00]),\n",
       " array([ 1. ,  1.9,  2.8,  3.7,  4.6,  5.5,  6.4,  7.3,  8.2,  9.1, 10. ]),\n",
       " <BarContainer object of 10 artists>)"
      ]
     },
     "execution_count": 12,
     "metadata": {},
     "output_type": "execute_result"
    },
    {
     "data": {
      "image/png": "[encoded data removed]",
      "text/plain": [
       "<Figure size 640x480 with 1 Axes>"
      ]
     },
     "metadata": {},
     "output_type": "display_data"
    }
   ],
   "source": [
    "plt.hist([ len(x) for x in df_processed['genres_embed_ids']])"
   ]
  },
  {
   "cell_type": "code",
   "execution_count": 13,
   "metadata": {},
   "outputs": [],
   "source": [
    "# max_genres = max([ len(x) for x in df_processed['genres_embed_ids']])\n",
    "max_genres = 5"
   ]
  },
  {
   "cell_type": "code",
   "execution_count": 14,
   "metadata": {},
   "outputs": [
    {
     "name": "stdout",
     "output_type": "stream",
     "text": [
      "Overwriting dataset.py\n"
     ]
    }
   ],
   "source": [
    "%%writefile dataset.py\n",
    "import torch\n",
    "from torch.utils.data import Dataset\n",
    "# from torch.nn.utils.rnn import pad_sequence\n",
    "\n",
    "\n",
    "class RatingDataset(Dataset):\n",
    "    def __init__(self, data, max_genres=5):\n",
    "        self.data = data\n",
    "        self.max_genres = max_genres\n",
    "\n",
    "    def __len__(self):\n",
    "        return len(self.data)\n",
    "\n",
    "    def __getitem__(self, index):\n",
    "        \n",
    "        data_item = self.data.iloc[index]\n",
    "        \n",
    "        user_embed_id = data_item[\"user_embed_id\"]\n",
    "        movie_embed_id = data_item[\"movie_embed_id\"]\n",
    "        genres_embed_ids = data_item[\"genres_embed_ids\"].tolist()\n",
    "        genres_embed_ids = genres_embed_ids+[0]* self.max_genres\n",
    "        genres_embed_ids = genres_embed_ids[:self.max_genres]\n",
    "        # genres_embed_ids = [torch.tensor(ids) for ids in genres_embed_ids]\n",
    "        # padded_genres_embed_ids = pad_sequence(\n",
    "        #     genres_embed_ids, batch_first=True, padding_value=0)\n",
    "        \n",
    "        # padded_genres_embed_ids = padded_genres_embed_ids[:, :self.max_genres]\n",
    "\n",
    "        rating = data_item[\"rating\"]\n",
    "\n",
    "        sample = {\n",
    "            \"user_embed_id\": torch.tensor(user_embed_id, dtype=torch.long),\n",
    "            \"movie_embed_id\": torch.tensor(movie_embed_id, dtype=torch.long),\n",
    "            \"genres_embed_ids\": torch.tensor(genres_embed_ids, dtype=torch.long),\n",
    "            \"rating\": torch.tensor(rating, dtype=torch.float),\n",
    "        }\n",
    "\n",
    "        return sample"
   ]
  },
  {
   "cell_type": "code",
   "execution_count": 15,
   "metadata": {},
   "outputs": [],
   "source": [
    "from dataset import RatingDataset"
   ]
  },
  {
   "cell_type": "code",
   "execution_count": 16,
   "metadata": {},
   "outputs": [],
   "source": [
    "df = pd.read_parquet(\"./data/processed.parquet\")"
   ]
  },
  {
   "cell_type": "code",
   "execution_count": 17,
   "metadata": {},
   "outputs": [],
   "source": [
    "train_dataset = RatingDataset(data=df,max_genres=5)"
   ]
  },
  {
   "cell_type": "code",
   "execution_count": 18,
   "metadata": {},
   "outputs": [],
   "source": [
    "# train_dataset[:4]"
   ]
  },
  {
   "cell_type": "code",
   "execution_count": 19,
   "metadata": {},
   "outputs": [],
   "source": [
    "from torch.utils.data import DataLoader"
   ]
  },
  {
   "cell_type": "code",
   "execution_count": 20,
   "metadata": {},
   "outputs": [],
   "source": [
    "loader = DataLoader(train_dataset,batch_size=12,shuffle=True)"
   ]
  },
  {
   "cell_type": "code",
   "execution_count": 21,
   "metadata": {},
   "outputs": [],
   "source": [
    "for sample in loader:\n",
    "    break"
   ]
  },
  {
   "cell_type": "code",
   "execution_count": 27,
   "metadata": {},
   "outputs": [],
   "source": [
    "import torch"
   ]
  },
  {
   "cell_type": "code",
   "execution_count": 29,
   "metadata": {},
   "outputs": [
    {
     "data": {
      "text/plain": [
       "tensor([14, 17, 17, 18, 16, 15, 18, 19, 16,  9, 18,  7])"
      ]
     },
     "execution_count": 29,
     "metadata": {},
     "output_type": "execute_result"
    }
   ],
   "source": [
    "torch.max(sample['genres_embed_ids'],axis=1)[0]"
   ]
  },
  {
   "cell_type": "code",
   "execution_count": 23,
   "metadata": {},
   "outputs": [],
   "source": [
    "recommender = NeuMF(config=config)"
   ]
  },
  {
   "cell_type": "code",
   "execution_count": 24,
   "metadata": {},
   "outputs": [
    {
     "data": {
      "text/plain": [
       "{'user_embed_id': tensor([ 33,  51, 318, 107, 610,   7, 570,  89,  50, 580, 182, 263]),\n",
       " 'movie_embed_id': tensor([1780,  742,  182,   17, 3154,  402, 1051, 1119, 1916,  604, 1026, 1100]),\n",
       " 'genres_embed_ids': tensor([[ 4,  5, 10, 14,  0],\n",
       "         [ 9, 17,  0,  0,  0],\n",
       "         [ 3,  4,  5,  9, 17],\n",
       "         [ 6,  7,  9, 18,  0],\n",
       "         [ 3,  6, 10, 16,  0],\n",
       "         [ 9, 12, 15,  0,  0],\n",
       "         [ 2,  3,  9, 17, 18],\n",
       "         [ 6, 19,  0,  0,  0],\n",
       "         [ 7,  9, 16,  0,  0],\n",
       "         [ 9,  0,  0,  0,  0],\n",
       "         [ 6, 18,  0,  0,  0],\n",
       "         [ 4,  5,  6,  7,  0]]),\n",
       " 'rating': tensor([0.5556, 1.0000, 0.6667, 0.5556, 0.7778, 0.8889, 0.7778, 0.3333, 0.4444,\n",
       "         0.7778, 0.3333, 1.0000])}"
      ]
     },
     "execution_count": 24,
     "metadata": {},
     "output_type": "execute_result"
    }
   ],
   "source": [
    "sample"
   ]
  },
  {
   "cell_type": "code",
   "execution_count": 25,
   "metadata": {},
   "outputs": [
    {
     "data": {
      "text/plain": [
       "tensor([[0.4349],\n",
       "        [0.4531],\n",
       "        [0.5740],\n",
       "        [0.2962],\n",
       "        [0.4138],\n",
       "        [0.5603],\n",
       "        [0.4612],\n",
       "        [0.4611],\n",
       "        [0.3741],\n",
       "        [0.4891],\n",
       "        [0.5101],\n",
       "        [0.5583]], grad_fn=<SigmoidBackward0>)"
      ]
     },
     "execution_count": 25,
     "metadata": {},
     "output_type": "execute_result"
    }
   ],
   "source": [
    "recommender(user_indices=sample['user_embed_id'],\n",
    "            item_indices=sample['movie_embed_id'],\n",
    "            genre_indices=sample['genres_embed_ids'])"
   ]
  },
  {
   "cell_type": "code",
   "execution_count": null,
   "metadata": {},
   "outputs": [],
   "source": []
  }
 ],
 "metadata": {
  "kernelspec": {
   "display_name": "torch",
   "language": "python",
   "name": "python3"
  },
  "language_info": {
   "codemirror_mode": {
    "name": "ipython",
    "version": 3
   },
   "file_extension": ".py",
   "mimetype": "text/x-python",
   "name": "python",
   "nbconvert_exporter": "python",
   "pygments_lexer": "ipython3",
   "version": "3.11.3"
  },
  "orig_nbformat": 4
 },
 "nbformat": 4,
 "nbformat_minor": 2
}
