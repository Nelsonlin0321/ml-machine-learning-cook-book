{
 "cells": [
  {
   "attachments": {},
   "cell_type": "markdown",
   "metadata": {},
   "source": [
    "# A Transformer-based recommendation system\n"
   ]
  },
  {
   "cell_type": "code",
   "execution_count": 1,
   "metadata": {},
   "outputs": [],
   "source": [
    "%load_ext autoreload\n",
    "%autoreload 2\n"
   ]
  },
  {
   "cell_type": "code",
   "execution_count": 2,
   "metadata": {},
   "outputs": [],
   "source": [
    "import pandas as pd\n",
    "from src.dataset import RatingDataset\n",
    "from src import utils\n",
    "from torch.utils.data import DataLoader\n",
    "from torch import nn\n",
    "import torch\n",
    "from tqdm import tqdm\n",
    "import numpy as np\n",
    "import os"
   ]
  },
  {
   "attachments": {},
   "cell_type": "markdown",
   "metadata": {},
   "source": [
    "## (1) Model Config"
   ]
  },
  {
   "cell_type": "code",
   "execution_count": 3,
   "metadata": {},
   "outputs": [],
   "source": [
    "# inputs"
   ]
  },
  {
   "cell_type": "code",
   "execution_count": 4,
   "metadata": {},
   "outputs": [],
   "source": [
    "age_group_id_map_dict = utils.open_object(\"./artifacts/age_group_id_map_dict.pkl\")\n",
    "\n",
    "movie_id_map_dict = utils.open_object(\"./artifacts/movie_id_map_dict.pkl\")\n",
    "\n",
    "occupation_id_map_dict = utils.open_object(\"./artifacts/occupation_id_map_dict.pkl\")\n",
    "\n",
    "sex_id_map_dict = utils.open_object(\"./artifacts/sex_id_map_dict.pkl\")\n",
    "\n",
    "user_id_map_dict = utils.open_object(\"./artifacts/user_id_map_dict.pkl\")\n",
    "# genres_map_dict = utils.open_object(\"./artifacts/genres_map_dict.pkl\")"
   ]
  },
  {
   "cell_type": "code",
   "execution_count": 5,
   "metadata": {},
   "outputs": [],
   "source": [
    "rating_min_max_scaler = utils.open_object(\"./artifacts/rating_min_max_scaler.pkl\")"
   ]
  },
  {
   "cell_type": "code",
   "execution_count": 6,
   "metadata": {},
   "outputs": [],
   "source": [
    "num_user = len(user_id_map_dict)\n",
    "num_movie = len(movie_id_map_dict)\n",
    "num_occupation = len(occupation_id_map_dict)\n",
    "num_age_group = len(age_group_id_map_dict)\n",
    "# num_genre = len(genres_map_dict)"
   ]
  },
  {
   "cell_type": "code",
   "execution_count": 7,
   "metadata": {},
   "outputs": [],
   "source": [
    "embed_configs = {}\n",
    "EMED_DIM=32\n",
    "sequence_length=4\n",
    "embed_configs['user']={\"embed_dim\":EMED_DIM,\"num_embed\":num_user}\n",
    "embed_configs['movie']={\"embed_dim\":EMED_DIM,\"num_embed\":num_movie}\n",
    "embed_configs['occupation']={\"embed_dim\":EMED_DIM,\"num_embed\":num_occupation}\n",
    "embed_configs['age_group']={\"embed_dim\":EMED_DIM,\"num_embed\":num_age_group}\n",
    "embed_configs['position'] = {\"embed_dim\":EMED_DIM,\"num_embed\":sequence_length}"
   ]
  },
  {
   "cell_type": "code",
   "execution_count": 8,
   "metadata": {},
   "outputs": [],
   "source": [
    "config_dict={}\n",
    "config_dict['embed_configs'] = embed_configs\n",
    "config_dict['transformer_num_layer']=3\n",
    "config_dict['dropout']=0.2\n",
    "config_dict['epoches']=10\n",
    "config_dict['learning_rate']=0.001\n",
    "config_dict['batch_size']=64"
   ]
  },
  {
   "cell_type": "code",
   "execution_count": 9,
   "metadata": {},
   "outputs": [],
   "source": [
    "class Config:\n",
    "    def __init__(self, dictionary):\n",
    "        for key, value in dictionary.items():\n",
    "            setattr(self, key, value)"
   ]
  },
  {
   "cell_type": "code",
   "execution_count": 10,
   "metadata": {},
   "outputs": [],
   "source": [
    "config = Config(dictionary=config_dict)"
   ]
  },
  {
   "cell_type": "code",
   "execution_count": 11,
   "metadata": {},
   "outputs": [
    {
     "data": {
      "text/plain": [
       "{'user': {'embed_dim': 32, 'num_embed': 6041},\n",
       " 'movie': {'embed_dim': 32, 'num_embed': 3884},\n",
       " 'occupation': {'embed_dim': 32, 'num_embed': 22},\n",
       " 'age_group': {'embed_dim': 32, 'num_embed': 8},\n",
       " 'position': {'embed_dim': 32, 'num_embed': 4}}"
      ]
     },
     "execution_count": 11,
     "metadata": {},
     "output_type": "execute_result"
    }
   ],
   "source": [
    "config.embed_configs"
   ]
  },
  {
   "attachments": {},
   "cell_type": "markdown",
   "metadata": {},
   "source": [
    "## (3) Load Model\n",
    "\n",
    "\n"
   ]
  },
  {
   "cell_type": "code",
   "execution_count": 12,
   "metadata": {},
   "outputs": [],
   "source": [
    "from src.model import BSTRecommender"
   ]
  },
  {
   "cell_type": "code",
   "execution_count": 13,
   "metadata": {},
   "outputs": [],
   "source": [
    "model = BSTRecommender(config=config)"
   ]
  },
  {
   "cell_type": "code",
   "execution_count": 14,
   "metadata": {},
   "outputs": [],
   "source": [
    "# loss_func = nn.MSELoss()\n",
    "loss_func = nn.L1Loss()"
   ]
  },
  {
   "attachments": {},
   "cell_type": "markdown",
   "metadata": {},
   "source": [
    "## (4) Training"
   ]
  },
  {
   "cell_type": "code",
   "execution_count": 15,
   "metadata": {},
   "outputs": [],
   "source": [
    "df_train = pd.read_parquet(\"./artifacts/train_data.parquet\")\n",
    "df_test = pd.read_parquet(\"./artifacts/test_data.parquet\")"
   ]
  },
  {
   "cell_type": "code",
   "execution_count": 16,
   "metadata": {},
   "outputs": [],
   "source": [
    "train_dataset = RatingDataset(data=df_train) \n",
    "test_dataset = RatingDataset(data=df_test)"
   ]
  },
  {
   "cell_type": "code",
   "execution_count": 17,
   "metadata": {},
   "outputs": [],
   "source": [
    "train_loader = DataLoader(train_dataset,batch_size=config.batch_size,shuffle=True)\n",
    "test_loader = DataLoader(test_dataset,batch_size=config.batch_size,shuffle=True)"
   ]
  },
  {
   "cell_type": "code",
   "execution_count": 18,
   "metadata": {},
   "outputs": [],
   "source": [
    "from src.evaluation import evaluate"
   ]
  },
  {
   "cell_type": "code",
   "execution_count": 19,
   "metadata": {},
   "outputs": [
    {
     "name": "stderr",
     "output_type": "stream",
     "text": [
      "100%|██████████| 1166/1166 [00:06<00:00, 181.30it/s]"
     ]
    },
    {
     "name": "stdout",
     "output_type": "stream",
     "text": [
      "{'eval_loss': 0.255823514793279}\n"
     ]
    },
    {
     "name": "stderr",
     "output_type": "stream",
     "text": [
      "\n"
     ]
    }
   ],
   "source": [
    "before_training_metrics = evaluate(model,test_loader,loss_func=loss_func)\n",
    "print(before_training_metrics)"
   ]
  },
  {
   "cell_type": "code",
   "execution_count": 20,
   "metadata": {},
   "outputs": [],
   "source": [
    "optimizer = torch.optim.AdamW(model.parameters(),lr=config.learning_rate)"
   ]
  },
  {
   "cell_type": "code",
   "execution_count": 21,
   "metadata": {},
   "outputs": [],
   "source": [
    "total_batch = 0\n",
    "best_eval_loss =  float(\"inf\")\n",
    "best_checkpoint = 0"
   ]
  },
  {
   "cell_type": "code",
   "execution_count": 22,
   "metadata": {},
   "outputs": [],
   "source": [
    "model_version='v1'"
   ]
  },
  {
   "cell_type": "code",
   "execution_count": 23,
   "metadata": {},
   "outputs": [],
   "source": [
    "config.eval_steps = len(train_loader)//3"
   ]
  },
  {
   "cell_type": "code",
   "execution_count": 24,
   "metadata": {},
   "outputs": [
    {
     "name": "stderr",
     "output_type": "stream",
     "text": [
      "100%|██████████| 1166/1166 [00:06<00:00, 188.31it/s]83.31it/s]\n",
      "100%|██████████| 1166/1166 [00:06<00:00, 191.57it/s]84.50it/s, eval_loss=0.184, best_eval_loss=0.184, train_loss=0.194, steps=2208, best_checkpoint=2208]  \n",
      "100%|██████████| 1166/1166 [00:06<00:00, 180.34it/s]82.59it/s, eval_loss=0.182, best_eval_loss=0.182, train_loss=0.188, steps=4416, best_checkpoint=4416]  \n",
      "100%|██████████| 1166/1166 [00:06<00:00, 193.28it/s]74.85it/s, eval_loss=0.175, best_eval_loss=0.175, train_loss=0.185, steps=6624, best_checkpoint=6624]  \n",
      "100%|██████████| 1166/1166 [00:06<00:00, 190.33it/s] 84.21it/s, eval_loss=0.175, best_eval_loss=0.175, train_loss=0.172, steps=8832, best_checkpoint=6624] \n",
      "100%|██████████| 1166/1166 [00:06<00:00, 194.11it/s] 83.62it/s, eval_loss=0.174, best_eval_loss=0.174, train_loss=0.173, steps=11040, best_checkpoint=11040]  \n",
      "100%|██████████| 1166/1166 [00:06<00:00, 192.16it/s] 78.63it/s, eval_loss=0.173, best_eval_loss=0.173, train_loss=0.173, steps=13248, best_checkpoint=13248]  \n",
      "100%|██████████| 1166/1166 [00:06<00:00, 194.06it/s] 78.79it/s, eval_loss=0.172, best_eval_loss=0.172, train_loss=0.168, steps=15456, best_checkpoint=15456]  \n",
      "100%|██████████| 1166/1166 [00:06<00:00, 193.51it/s] 83.09it/s, eval_loss=0.172, best_eval_loss=0.172, train_loss=0.169, steps=17664, best_checkpoint=15456]  \n",
      "100%|██████████| 1166/1166 [00:06<00:00, 187.93it/s] 84.04it/s, eval_loss=0.171, best_eval_loss=0.171, train_loss=0.169, steps=19872, best_checkpoint=19872]  \n",
      "100%|██████████| 1166/1166 [00:06<00:00, 190.71it/s] 81.43it/s, eval_loss=0.172, best_eval_loss=0.171, train_loss=0.166, steps=22080, best_checkpoint=19872]  \n",
      "100%|██████████| 1166/1166 [00:05<00:00, 195.70it/s] 78.33it/s, eval_loss=0.171, best_eval_loss=0.171, train_loss=0.166, steps=24288, best_checkpoint=19872]  \n",
      "100%|██████████| 1166/1166 [00:05<00:00, 197.06it/s] 77.24it/s, eval_loss=0.171, best_eval_loss=0.171, train_loss=0.167, steps=26496, best_checkpoint=26496]  \n",
      "100%|██████████| 1166/1166 [00:06<00:00, 177.65it/s] 79.96it/s, eval_loss=0.17, best_eval_loss=0.17, train_loss=0.163, steps=28704, best_checkpoint=28704]  \n",
      "100%|██████████| 1166/1166 [00:06<00:00, 192.81it/s] 82.95it/s, eval_loss=0.171, best_eval_loss=0.17, train_loss=0.163, steps=30912, best_checkpoint=28704]  \n",
      "100%|██████████| 1166/1166 [00:06<00:00, 189.47it/s] 83.82it/s, eval_loss=0.17, best_eval_loss=0.17, train_loss=0.164, steps=33120, best_checkpoint=28704]  \n",
      "100%|██████████| 1166/1166 [00:05<00:00, 199.66it/s] 82.17it/s, eval_loss=0.17, best_eval_loss=0.17, train_loss=0.161, steps=35328, best_checkpoint=35328]  \n",
      "100%|██████████| 1166/1166 [00:05<00:00, 195.03it/s] 85.63it/s, eval_loss=0.169, best_eval_loss=0.169, train_loss=0.161, steps=37536, best_checkpoint=37536]  \n",
      "100%|██████████| 1166/1166 [00:05<00:00, 194.93it/s] 85.09it/s, eval_loss=0.17, best_eval_loss=0.169, train_loss=0.162, steps=39744, best_checkpoint=37536]  \n",
      "100%|██████████| 1166/1166 [00:05<00:00, 195.52it/s] 83.29it/s, eval_loss=0.169, best_eval_loss=0.169, train_loss=0.158, steps=41952, best_checkpoint=41952]  \n",
      "100%|██████████| 1166/1166 [00:05<00:00, 199.74it/s] 84.36it/s, eval_loss=0.17, best_eval_loss=0.169, train_loss=0.159, steps=44160, best_checkpoint=41952]  \n",
      "100%|██████████| 1166/1166 [00:06<00:00, 189.29it/s] 83.69it/s, eval_loss=0.17, best_eval_loss=0.169, train_loss=0.159, steps=46368, best_checkpoint=41952]  \n",
      "100%|██████████| 1166/1166 [00:06<00:00, 191.53it/s] 82.39it/s, eval_loss=0.17, best_eval_loss=0.169, train_loss=0.156, steps=48576, best_checkpoint=41952]  \n",
      "100%|██████████| 1166/1166 [00:06<00:00, 191.06it/s] 86.07it/s, eval_loss=0.17, best_eval_loss=0.169, train_loss=0.156, steps=50784, best_checkpoint=41952]\n",
      "100%|██████████| 1166/1166 [00:06<00:00, 194.26it/s] 85.45it/s, eval_loss=0.17, best_eval_loss=0.169, train_loss=0.157, steps=52992, best_checkpoint=41952]\n",
      "100%|██████████| 1166/1166 [00:06<00:00, 191.75it/s] 86.78it/s, eval_loss=0.17, best_eval_loss=0.169, train_loss=0.152, steps=55200, best_checkpoint=41952]\n",
      "100%|██████████| 1166/1166 [00:05<00:00, 199.97it/s] 86.15it/s, eval_loss=0.17, best_eval_loss=0.169, train_loss=0.154, steps=57408, best_checkpoint=41952]\n",
      "100%|██████████| 1166/1166 [00:05<00:00, 198.39it/s] 86.24it/s, eval_loss=0.17, best_eval_loss=0.169, train_loss=0.155, steps=59616, best_checkpoint=41952]\n",
      "100%|██████████| 1166/1166 [00:05<00:00, 197.80it/s] 85.17it/s, eval_loss=0.171, best_eval_loss=0.169, train_loss=0.15, steps=61824, best_checkpoint=41952]\n",
      "100%|██████████| 1166/1166 [00:06<00:00, 194.26it/s] 85.77it/s, eval_loss=0.17, best_eval_loss=0.169, train_loss=0.151, steps=64032, best_checkpoint=41952]\n",
      "Training: 100%|██████████| 66260/66260 [16:32<00:00, 66.77it/s, eval_loss=0.169, best_eval_loss=0.169, train_loss=0.152, steps=66240, best_checkpoint=66240]\n"
     ]
    }
   ],
   "source": [
    "# Train\n",
    "total_pbar = tqdm(total=len(train_loader)*config.epoches,\n",
    "                  desc=\"Training\", position=0, leave=True)\n",
    "\n",
    "metrics_list = []\n",
    "\n",
    "for epoch in range(config.epoches):\n",
    "    # print(\"*\"*50 + f\"epoch: {epoch + 1}\" + \"*\"*50)\n",
    "\n",
    "    train_loss_list = []\n",
    "    prob_list = []\n",
    "    rating_list = []\n",
    "\n",
    "    for inputs in train_loader:\n",
    "        model = model.train()\n",
    "        optimizer.zero_grad()\n",
    "        probs = model(inputs)\n",
    "\n",
    "        rating = inputs['target_rating'].view(-1, 1)\n",
    "\n",
    "        loss = loss_func(probs, rating)\n",
    "        loss.backward()\n",
    "        optimizer.step()\n",
    "        train_loss_list.append(loss.item())\n",
    "\n",
    "        probs = probs.detach().cpu().numpy().flatten().tolist()\n",
    "        prob_list.extend(probs)\n",
    "        rating = rating.numpy().flatten().tolist()\n",
    "        rating_list.extend(rating)\n",
    "\n",
    "        if (total_batch+1) % config.eval_steps == 0:\n",
    "\n",
    "            improve = False\n",
    "            model_metrics = evaluate(model, test_loader)\n",
    "            eval_loss = model_metrics['eval_loss']\n",
    "\n",
    "            if eval_loss <= best_eval_loss:\n",
    "                improve = True\n",
    "                best_checkpoint = total_batch+1\n",
    "                best_eval_loss = eval_loss\n",
    "\n",
    "            train_loss = np.mean(train_loss_list)\n",
    "            \n",
    "            model_metrics['best_eval_loss'] = best_eval_loss\n",
    "            model_metrics['train_loss'] = train_loss\n",
    "            model_metrics[\"steps\"] = total_batch+1\n",
    "            model_metrics[\"best_checkpoint\"] = best_checkpoint\n",
    "            metrics_list.append(model_metrics)\n",
    "                \n",
    "            if improve:\n",
    "                save_dir = os.path.join(\"model\", model_version)\n",
    "                os.makedirs(save_dir, exist_ok=True)\n",
    "                model_path = utils.save_model(model, save_dir, total_batch+1, model_metrics)\n",
    "            \n",
    "            post_fix_message = {k:round(v,3) for k,v in model_metrics.items()}\n",
    "            total_pbar.set_postfix(post_fix_message)\n",
    "\n",
    "\n",
    "            model = model.train()\n",
    "\n",
    "        total_batch += 1\n",
    "        total_pbar.update(1)\n",
    "\n",
    "    model = model.train()\n",
    "\n",
    "total_pbar.close()"
   ]
  },
  {
   "cell_type": "code",
   "execution_count": 34,
   "metadata": {},
   "outputs": [
    {
     "data": {
      "text/html": [
       "<div>\n",
       "<style scoped>\n",
       "    .dataframe tbody tr th:only-of-type {\n",
       "        vertical-align: middle;\n",
       "    }\n",
       "\n",
       "    .dataframe tbody tr th {\n",
       "        vertical-align: top;\n",
       "    }\n",
       "\n",
       "    .dataframe thead th {\n",
       "        text-align: right;\n",
       "    }\n",
       "</style>\n",
       "<table border=\"1\" class=\"dataframe\">\n",
       "  <thead>\n",
       "    <tr style=\"text-align: right;\">\n",
       "      <th></th>\n",
       "      <th>eval_loss</th>\n",
       "      <th>best_eval_loss</th>\n",
       "      <th>train_loss</th>\n",
       "      <th>steps</th>\n",
       "      <th>best_checkpoint</th>\n",
       "    </tr>\n",
       "  </thead>\n",
       "  <tbody>\n",
       "    <tr>\n",
       "      <th>0</th>\n",
       "      <td>0.183746</td>\n",
       "      <td>0.183746</td>\n",
       "      <td>0.193818</td>\n",
       "      <td>2208</td>\n",
       "      <td>2208</td>\n",
       "    </tr>\n",
       "    <tr>\n",
       "      <th>1</th>\n",
       "      <td>0.181825</td>\n",
       "      <td>0.181825</td>\n",
       "      <td>0.188021</td>\n",
       "      <td>4416</td>\n",
       "      <td>4416</td>\n",
       "    </tr>\n",
       "    <tr>\n",
       "      <th>2</th>\n",
       "      <td>0.175140</td>\n",
       "      <td>0.175140</td>\n",
       "      <td>0.184953</td>\n",
       "      <td>6624</td>\n",
       "      <td>6624</td>\n",
       "    </tr>\n",
       "    <tr>\n",
       "      <th>3</th>\n",
       "      <td>0.175165</td>\n",
       "      <td>0.175140</td>\n",
       "      <td>0.172426</td>\n",
       "      <td>8832</td>\n",
       "      <td>6624</td>\n",
       "    </tr>\n",
       "    <tr>\n",
       "      <th>4</th>\n",
       "      <td>0.173545</td>\n",
       "      <td>0.173545</td>\n",
       "      <td>0.173233</td>\n",
       "      <td>11040</td>\n",
       "      <td>11040</td>\n",
       "    </tr>\n",
       "    <tr>\n",
       "      <th>5</th>\n",
       "      <td>0.173339</td>\n",
       "      <td>0.173339</td>\n",
       "      <td>0.173385</td>\n",
       "      <td>13248</td>\n",
       "      <td>13248</td>\n",
       "    </tr>\n",
       "    <tr>\n",
       "      <th>6</th>\n",
       "      <td>0.172285</td>\n",
       "      <td>0.172285</td>\n",
       "      <td>0.167968</td>\n",
       "      <td>15456</td>\n",
       "      <td>15456</td>\n",
       "    </tr>\n",
       "    <tr>\n",
       "      <th>7</th>\n",
       "      <td>0.172461</td>\n",
       "      <td>0.172285</td>\n",
       "      <td>0.168829</td>\n",
       "      <td>17664</td>\n",
       "      <td>15456</td>\n",
       "    </tr>\n",
       "    <tr>\n",
       "      <th>8</th>\n",
       "      <td>0.170762</td>\n",
       "      <td>0.170762</td>\n",
       "      <td>0.169496</td>\n",
       "      <td>19872</td>\n",
       "      <td>19872</td>\n",
       "    </tr>\n",
       "    <tr>\n",
       "      <th>9</th>\n",
       "      <td>0.171665</td>\n",
       "      <td>0.170762</td>\n",
       "      <td>0.165595</td>\n",
       "      <td>22080</td>\n",
       "      <td>19872</td>\n",
       "    </tr>\n",
       "    <tr>\n",
       "      <th>10</th>\n",
       "      <td>0.171267</td>\n",
       "      <td>0.170762</td>\n",
       "      <td>0.166139</td>\n",
       "      <td>24288</td>\n",
       "      <td>19872</td>\n",
       "    </tr>\n",
       "    <tr>\n",
       "      <th>11</th>\n",
       "      <td>0.170619</td>\n",
       "      <td>0.170619</td>\n",
       "      <td>0.166547</td>\n",
       "      <td>26496</td>\n",
       "      <td>26496</td>\n",
       "    </tr>\n",
       "    <tr>\n",
       "      <th>12</th>\n",
       "      <td>0.169919</td>\n",
       "      <td>0.169919</td>\n",
       "      <td>0.162769</td>\n",
       "      <td>28704</td>\n",
       "      <td>28704</td>\n",
       "    </tr>\n",
       "    <tr>\n",
       "      <th>13</th>\n",
       "      <td>0.171454</td>\n",
       "      <td>0.169919</td>\n",
       "      <td>0.163339</td>\n",
       "      <td>30912</td>\n",
       "      <td>28704</td>\n",
       "    </tr>\n",
       "    <tr>\n",
       "      <th>14</th>\n",
       "      <td>0.170134</td>\n",
       "      <td>0.169919</td>\n",
       "      <td>0.163892</td>\n",
       "      <td>33120</td>\n",
       "      <td>28704</td>\n",
       "    </tr>\n",
       "    <tr>\n",
       "      <th>15</th>\n",
       "      <td>0.169879</td>\n",
       "      <td>0.169879</td>\n",
       "      <td>0.160530</td>\n",
       "      <td>35328</td>\n",
       "      <td>35328</td>\n",
       "    </tr>\n",
       "    <tr>\n",
       "      <th>16</th>\n",
       "      <td>0.169419</td>\n",
       "      <td>0.169419</td>\n",
       "      <td>0.161283</td>\n",
       "      <td>37536</td>\n",
       "      <td>37536</td>\n",
       "    </tr>\n",
       "    <tr>\n",
       "      <th>17</th>\n",
       "      <td>0.169689</td>\n",
       "      <td>0.169419</td>\n",
       "      <td>0.161809</td>\n",
       "      <td>39744</td>\n",
       "      <td>37536</td>\n",
       "    </tr>\n",
       "    <tr>\n",
       "      <th>18</th>\n",
       "      <td>0.169415</td>\n",
       "      <td>0.169415</td>\n",
       "      <td>0.157872</td>\n",
       "      <td>41952</td>\n",
       "      <td>41952</td>\n",
       "    </tr>\n",
       "    <tr>\n",
       "      <th>19</th>\n",
       "      <td>0.169884</td>\n",
       "      <td>0.169415</td>\n",
       "      <td>0.158671</td>\n",
       "      <td>44160</td>\n",
       "      <td>41952</td>\n",
       "    </tr>\n",
       "    <tr>\n",
       "      <th>20</th>\n",
       "      <td>0.170076</td>\n",
       "      <td>0.169415</td>\n",
       "      <td>0.159466</td>\n",
       "      <td>46368</td>\n",
       "      <td>41952</td>\n",
       "    </tr>\n",
       "    <tr>\n",
       "      <th>21</th>\n",
       "      <td>0.169769</td>\n",
       "      <td>0.169415</td>\n",
       "      <td>0.155642</td>\n",
       "      <td>48576</td>\n",
       "      <td>41952</td>\n",
       "    </tr>\n",
       "    <tr>\n",
       "      <th>22</th>\n",
       "      <td>0.170177</td>\n",
       "      <td>0.169415</td>\n",
       "      <td>0.156355</td>\n",
       "      <td>50784</td>\n",
       "      <td>41952</td>\n",
       "    </tr>\n",
       "    <tr>\n",
       "      <th>23</th>\n",
       "      <td>0.170238</td>\n",
       "      <td>0.169415</td>\n",
       "      <td>0.157159</td>\n",
       "      <td>52992</td>\n",
       "      <td>41952</td>\n",
       "    </tr>\n",
       "    <tr>\n",
       "      <th>24</th>\n",
       "      <td>0.170060</td>\n",
       "      <td>0.169415</td>\n",
       "      <td>0.152261</td>\n",
       "      <td>55200</td>\n",
       "      <td>41952</td>\n",
       "    </tr>\n",
       "    <tr>\n",
       "      <th>25</th>\n",
       "      <td>0.170473</td>\n",
       "      <td>0.169415</td>\n",
       "      <td>0.154000</td>\n",
       "      <td>57408</td>\n",
       "      <td>41952</td>\n",
       "    </tr>\n",
       "    <tr>\n",
       "      <th>26</th>\n",
       "      <td>0.169966</td>\n",
       "      <td>0.169415</td>\n",
       "      <td>0.154723</td>\n",
       "      <td>59616</td>\n",
       "      <td>41952</td>\n",
       "    </tr>\n",
       "    <tr>\n",
       "      <th>27</th>\n",
       "      <td>0.170742</td>\n",
       "      <td>0.169415</td>\n",
       "      <td>0.150297</td>\n",
       "      <td>61824</td>\n",
       "      <td>41952</td>\n",
       "    </tr>\n",
       "    <tr>\n",
       "      <th>28</th>\n",
       "      <td>0.170034</td>\n",
       "      <td>0.169415</td>\n",
       "      <td>0.151240</td>\n",
       "      <td>64032</td>\n",
       "      <td>41952</td>\n",
       "    </tr>\n",
       "    <tr>\n",
       "      <th>29</th>\n",
       "      <td>0.168978</td>\n",
       "      <td>0.168978</td>\n",
       "      <td>0.152258</td>\n",
       "      <td>66240</td>\n",
       "      <td>66240</td>\n",
       "    </tr>\n",
       "  </tbody>\n",
       "</table>\n",
       "</div>"
      ],
      "text/plain": [
       "    eval_loss  best_eval_loss  train_loss  steps  best_checkpoint\n",
       "0    0.183746        0.183746    0.193818   2208             2208\n",
       "1    0.181825        0.181825    0.188021   4416             4416\n",
       "2    0.175140        0.175140    0.184953   6624             6624\n",
       "3    0.175165        0.175140    0.172426   8832             6624\n",
       "4    0.173545        0.173545    0.173233  11040            11040\n",
       "5    0.173339        0.173339    0.173385  13248            13248\n",
       "6    0.172285        0.172285    0.167968  15456            15456\n",
       "7    0.172461        0.172285    0.168829  17664            15456\n",
       "8    0.170762        0.170762    0.169496  19872            19872\n",
       "9    0.171665        0.170762    0.165595  22080            19872\n",
       "10   0.171267        0.170762    0.166139  24288            19872\n",
       "11   0.170619        0.170619    0.166547  26496            26496\n",
       "12   0.169919        0.169919    0.162769  28704            28704\n",
       "13   0.171454        0.169919    0.163339  30912            28704\n",
       "14   0.170134        0.169919    0.163892  33120            28704\n",
       "15   0.169879        0.169879    0.160530  35328            35328\n",
       "16   0.169419        0.169419    0.161283  37536            37536\n",
       "17   0.169689        0.169419    0.161809  39744            37536\n",
       "18   0.169415        0.169415    0.157872  41952            41952\n",
       "19   0.169884        0.169415    0.158671  44160            41952\n",
       "20   0.170076        0.169415    0.159466  46368            41952\n",
       "21   0.169769        0.169415    0.155642  48576            41952\n",
       "22   0.170177        0.169415    0.156355  50784            41952\n",
       "23   0.170238        0.169415    0.157159  52992            41952\n",
       "24   0.170060        0.169415    0.152261  55200            41952\n",
       "25   0.170473        0.169415    0.154000  57408            41952\n",
       "26   0.169966        0.169415    0.154723  59616            41952\n",
       "27   0.170742        0.169415    0.150297  61824            41952\n",
       "28   0.170034        0.169415    0.151240  64032            41952\n",
       "29   0.168978        0.168978    0.152258  66240            66240"
      ]
     },
     "execution_count": 34,
     "metadata": {},
     "output_type": "execute_result"
    }
   ],
   "source": [
    "df_metrics = pd.DataFrame(metrics_list)\n",
    "df_metrics"
   ]
  },
  {
   "cell_type": "code",
   "execution_count": 35,
   "metadata": {},
   "outputs": [
    {
     "data": {
      "text/plain": [
       "<Axes: xlabel='steps'>"
      ]
     },
     "execution_count": 35,
     "metadata": {},
     "output_type": "execute_result"
    },
    {
     "data": {
      "image/png": "[encoded data removed]",
      "text/plain": [
       "<Figure size 640x480 with 1 Axes>"
      ]
     },
     "metadata": {},
     "output_type": "display_data"
    }
   ],
   "source": [
    "df_metrics = df_metrics.set_index(\"steps\")\n",
    "\n",
    "\n",
    "# fig, ax = plt.subplots(figsize=(20,10)) \n",
    "df_metrics[['eval_loss','train_loss']].plot() \n"
   ]
  },
  {
   "attachments": {},
   "cell_type": "markdown",
   "metadata": {},
   "source": [
    "## (5)Load Best Model For Evaluation"
   ]
  },
  {
   "cell_type": "code",
   "execution_count": 69,
   "metadata": {},
   "outputs": [],
   "source": [
    "best_model_path = f\"{save_dir}/checkpoint-66240/pytorch_model.pt\""
   ]
  },
  {
   "cell_type": "code",
   "execution_count": 70,
   "metadata": {},
   "outputs": [],
   "source": [
    "best_model = BSTRecommender(config=config)"
   ]
  },
  {
   "cell_type": "code",
   "execution_count": 71,
   "metadata": {},
   "outputs": [
    {
     "data": {
      "text/plain": [
       "BSTRecommender(\n",
       "  (embedding_layers): ModuleDict(\n",
       "    (user): Embedding(6041, 32)\n",
       "    (movie): Embedding(3884, 32)\n",
       "    (occupation): Embedding(22, 32)\n",
       "    (age_group): Embedding(8, 32)\n",
       "    (position): Embedding(4, 32)\n",
       "  )\n",
       "  (transformer_layer): TransformerLayer(\n",
       "    (transformer_blocks): ModuleList(\n",
       "      (0-2): 3 x TransformerBlock(\n",
       "        (multihead_attention): MultiheadAttention(\n",
       "          (out_proj): NonDynamicallyQuantizableLinear(in_features=64, out_features=64, bias=True)\n",
       "        )\n",
       "        (layer_norm1): LayerNorm((64,), eps=1e-05, elementwise_affine=True)\n",
       "        (feed_forward): Sequential(\n",
       "          (0): Linear(in_features=64, out_features=256, bias=True)\n",
       "          (1): ReLU()\n",
       "          (2): Linear(in_features=256, out_features=64, bias=True)\n",
       "          (3): Dropout(p=0.2, inplace=False)\n",
       "        )\n",
       "        (layer_norm2): LayerNorm((64,), eps=1e-05, elementwise_affine=True)\n",
       "        (dropout): Dropout(p=0.2, inplace=False)\n",
       "      )\n",
       "    )\n",
       "  )\n",
       "  (mlp): MLP(\n",
       "    (dropout): Dropout(p=0.2, inplace=False)\n",
       "    (layers): ModuleList(\n",
       "      (0): Linear(in_features=513, out_features=256, bias=True)\n",
       "      (1): LeakyReLU(negative_slope=0.01)\n",
       "      (2): Dropout(p=0.2, inplace=False)\n",
       "      (3): Linear(in_features=256, out_features=64, bias=True)\n",
       "      (4): LeakyReLU(negative_slope=0.01)\n",
       "      (5): Dropout(p=0.2, inplace=False)\n",
       "    )\n",
       "    (fc): Linear(in_features=64, out_features=1, bias=True)\n",
       "    (sigmoid): Sigmoid()\n",
       "  )\n",
       ")"
      ]
     },
     "execution_count": 71,
     "metadata": {},
     "output_type": "execute_result"
    }
   ],
   "source": [
    "best_model.load_state_dict(torch.load(best_model_path))\n",
    "best_model.eval()"
   ]
  },
  {
   "cell_type": "code",
   "execution_count": 72,
   "metadata": {},
   "outputs": [],
   "source": [
    "from sklearn import metrics"
   ]
  },
  {
   "cell_type": "code",
   "execution_count": 73,
   "metadata": {},
   "outputs": [
    {
     "name": "stderr",
     "output_type": "stream",
     "text": [
      "100%|██████████| 1166/1166 [01:50<00:00, 10.55it/s] \n",
      " 98%|█████████▊| 1147/1166 [00:06<00:00, 190.84it/s]"
     ]
    }
   ],
   "source": [
    "best_model.eval()\n",
    "prob_list= []\n",
    "rating_list = []\n",
    "eval_loss_list = []\n",
    "pbar = tqdm(total = len(test_loader),desc = \"\",position=0, leave=True)\n",
    "for inputs in test_loader:\n",
    "    with torch.no_grad():\n",
    "        probs = best_model(inputs)\n",
    "        ratings = inputs['target_rating'].view(-1,1)\n",
    "        \n",
    "        loss = loss_func(probs, ratings)\n",
    "        eval_loss_list.append(loss.item())\n",
    "\n",
    "        probs = probs.cpu().numpy().flatten().tolist()\n",
    "        prob_list.extend(probs)\n",
    "\n",
    "        ratings = ratings.numpy().flatten().tolist()\n",
    "        rating_list.extend(ratings)\n",
    "\n",
    "        pbar.update(1)"
   ]
  },
  {
   "cell_type": "code",
   "execution_count": 74,
   "metadata": {},
   "outputs": [],
   "source": [
    "prediction = pd.DataFrame()"
   ]
  },
  {
   "cell_type": "code",
   "execution_count": 75,
   "metadata": {},
   "outputs": [],
   "source": [
    "prediction['real']=rating_min_max_scaler.inverse_transform(np.array(rating_list).reshape(-1,1))[:,0]\n",
    "prediction['prediction']=rating_min_max_scaler.inverse_transform(np.array(prob_list).reshape(-1,1))[:,0]"
   ]
  },
  {
   "cell_type": "code",
   "execution_count": 76,
   "metadata": {},
   "outputs": [
    {
     "data": {
      "text/plain": [
       "0.6759676782243109"
      ]
     },
     "execution_count": 76,
     "metadata": {},
     "output_type": "execute_result"
    }
   ],
   "source": [
    "metrics.mean_absolute_error(prediction['real'],prediction['prediction'])"
   ]
  },
  {
   "cell_type": "code",
   "execution_count": 77,
   "metadata": {},
   "outputs": [
    {
     "data": {
      "text/plain": [
       "0.9018125666425599"
      ]
     },
     "execution_count": 77,
     "metadata": {},
     "output_type": "execute_result"
    }
   ],
   "source": [
    "metrics.mean_squared_error(prediction['real'],prediction['prediction'])"
   ]
  },
  {
   "cell_type": "code",
   "execution_count": 78,
   "metadata": {},
   "outputs": [
    {
     "data": {
      "text/html": [
       "<div>\n",
       "<style scoped>\n",
       "    .dataframe tbody tr th:only-of-type {\n",
       "        vertical-align: middle;\n",
       "    }\n",
       "\n",
       "    .dataframe tbody tr th {\n",
       "        vertical-align: top;\n",
       "    }\n",
       "\n",
       "    .dataframe thead th {\n",
       "        text-align: right;\n",
       "    }\n",
       "</style>\n",
       "<table border=\"1\" class=\"dataframe\">\n",
       "  <thead>\n",
       "    <tr style=\"text-align: right;\">\n",
       "      <th></th>\n",
       "      <th>real</th>\n",
       "      <th>prediction</th>\n",
       "    </tr>\n",
       "  </thead>\n",
       "  <tbody>\n",
       "    <tr>\n",
       "      <th>0</th>\n",
       "      <td>5.0</td>\n",
       "      <td>3.971718</td>\n",
       "    </tr>\n",
       "    <tr>\n",
       "      <th>1</th>\n",
       "      <td>5.0</td>\n",
       "      <td>4.167025</td>\n",
       "    </tr>\n",
       "    <tr>\n",
       "      <th>2</th>\n",
       "      <td>3.0</td>\n",
       "      <td>4.129578</td>\n",
       "    </tr>\n",
       "    <tr>\n",
       "      <th>3</th>\n",
       "      <td>3.0</td>\n",
       "      <td>3.158442</td>\n",
       "    </tr>\n",
       "    <tr>\n",
       "      <th>4</th>\n",
       "      <td>4.0</td>\n",
       "      <td>4.002030</td>\n",
       "    </tr>\n",
       "    <tr>\n",
       "      <th>5</th>\n",
       "      <td>4.0</td>\n",
       "      <td>4.073769</td>\n",
       "    </tr>\n",
       "    <tr>\n",
       "      <th>6</th>\n",
       "      <td>4.0</td>\n",
       "      <td>2.992556</td>\n",
       "    </tr>\n",
       "    <tr>\n",
       "      <th>7</th>\n",
       "      <td>5.0</td>\n",
       "      <td>4.038979</td>\n",
       "    </tr>\n",
       "    <tr>\n",
       "      <th>8</th>\n",
       "      <td>4.0</td>\n",
       "      <td>2.709585</td>\n",
       "    </tr>\n",
       "    <tr>\n",
       "      <th>9</th>\n",
       "      <td>3.0</td>\n",
       "      <td>3.930278</td>\n",
       "    </tr>\n",
       "    <tr>\n",
       "      <th>10</th>\n",
       "      <td>5.0</td>\n",
       "      <td>5.000000</td>\n",
       "    </tr>\n",
       "    <tr>\n",
       "      <th>11</th>\n",
       "      <td>4.0</td>\n",
       "      <td>1.334146</td>\n",
       "    </tr>\n",
       "    <tr>\n",
       "      <th>12</th>\n",
       "      <td>3.0</td>\n",
       "      <td>3.012070</td>\n",
       "    </tr>\n",
       "    <tr>\n",
       "      <th>13</th>\n",
       "      <td>3.0</td>\n",
       "      <td>3.000901</td>\n",
       "    </tr>\n",
       "    <tr>\n",
       "      <th>14</th>\n",
       "      <td>4.0</td>\n",
       "      <td>4.042531</td>\n",
       "    </tr>\n",
       "    <tr>\n",
       "      <th>15</th>\n",
       "      <td>1.0</td>\n",
       "      <td>3.890057</td>\n",
       "    </tr>\n",
       "    <tr>\n",
       "      <th>16</th>\n",
       "      <td>4.0</td>\n",
       "      <td>4.125822</td>\n",
       "    </tr>\n",
       "    <tr>\n",
       "      <th>17</th>\n",
       "      <td>3.0</td>\n",
       "      <td>3.954269</td>\n",
       "    </tr>\n",
       "    <tr>\n",
       "      <th>18</th>\n",
       "      <td>3.0</td>\n",
       "      <td>3.973825</td>\n",
       "    </tr>\n",
       "    <tr>\n",
       "      <th>19</th>\n",
       "      <td>1.0</td>\n",
       "      <td>1.648393</td>\n",
       "    </tr>\n",
       "    <tr>\n",
       "      <th>20</th>\n",
       "      <td>3.0</td>\n",
       "      <td>3.996470</td>\n",
       "    </tr>\n",
       "    <tr>\n",
       "      <th>21</th>\n",
       "      <td>1.0</td>\n",
       "      <td>1.122869</td>\n",
       "    </tr>\n",
       "    <tr>\n",
       "      <th>22</th>\n",
       "      <td>3.0</td>\n",
       "      <td>2.845374</td>\n",
       "    </tr>\n",
       "    <tr>\n",
       "      <th>23</th>\n",
       "      <td>4.0</td>\n",
       "      <td>3.998774</td>\n",
       "    </tr>\n",
       "    <tr>\n",
       "      <th>24</th>\n",
       "      <td>5.0</td>\n",
       "      <td>4.999962</td>\n",
       "    </tr>\n",
       "    <tr>\n",
       "      <th>25</th>\n",
       "      <td>5.0</td>\n",
       "      <td>3.966681</td>\n",
       "    </tr>\n",
       "    <tr>\n",
       "      <th>26</th>\n",
       "      <td>5.0</td>\n",
       "      <td>3.001816</td>\n",
       "    </tr>\n",
       "    <tr>\n",
       "      <th>27</th>\n",
       "      <td>3.0</td>\n",
       "      <td>3.005208</td>\n",
       "    </tr>\n",
       "    <tr>\n",
       "      <th>28</th>\n",
       "      <td>3.0</td>\n",
       "      <td>3.975162</td>\n",
       "    </tr>\n",
       "    <tr>\n",
       "      <th>29</th>\n",
       "      <td>4.0</td>\n",
       "      <td>2.999113</td>\n",
       "    </tr>\n",
       "    <tr>\n",
       "      <th>30</th>\n",
       "      <td>1.0</td>\n",
       "      <td>1.163323</td>\n",
       "    </tr>\n",
       "    <tr>\n",
       "      <th>31</th>\n",
       "      <td>1.0</td>\n",
       "      <td>1.007043</td>\n",
       "    </tr>\n",
       "    <tr>\n",
       "      <th>32</th>\n",
       "      <td>4.0</td>\n",
       "      <td>4.945111</td>\n",
       "    </tr>\n",
       "    <tr>\n",
       "      <th>33</th>\n",
       "      <td>3.0</td>\n",
       "      <td>3.003648</td>\n",
       "    </tr>\n",
       "    <tr>\n",
       "      <th>34</th>\n",
       "      <td>3.0</td>\n",
       "      <td>2.204344</td>\n",
       "    </tr>\n",
       "    <tr>\n",
       "      <th>35</th>\n",
       "      <td>4.0</td>\n",
       "      <td>4.022755</td>\n",
       "    </tr>\n",
       "    <tr>\n",
       "      <th>36</th>\n",
       "      <td>4.0</td>\n",
       "      <td>5.000000</td>\n",
       "    </tr>\n",
       "    <tr>\n",
       "      <th>37</th>\n",
       "      <td>4.0</td>\n",
       "      <td>3.524417</td>\n",
       "    </tr>\n",
       "    <tr>\n",
       "      <th>38</th>\n",
       "      <td>2.0</td>\n",
       "      <td>3.982505</td>\n",
       "    </tr>\n",
       "    <tr>\n",
       "      <th>39</th>\n",
       "      <td>2.0</td>\n",
       "      <td>3.006182</td>\n",
       "    </tr>\n",
       "    <tr>\n",
       "      <th>40</th>\n",
       "      <td>4.0</td>\n",
       "      <td>3.970128</td>\n",
       "    </tr>\n",
       "    <tr>\n",
       "      <th>41</th>\n",
       "      <td>3.0</td>\n",
       "      <td>1.266862</td>\n",
       "    </tr>\n",
       "    <tr>\n",
       "      <th>42</th>\n",
       "      <td>5.0</td>\n",
       "      <td>4.015831</td>\n",
       "    </tr>\n",
       "    <tr>\n",
       "      <th>43</th>\n",
       "      <td>3.0</td>\n",
       "      <td>3.844338</td>\n",
       "    </tr>\n",
       "    <tr>\n",
       "      <th>44</th>\n",
       "      <td>3.0</td>\n",
       "      <td>3.008157</td>\n",
       "    </tr>\n",
       "    <tr>\n",
       "      <th>45</th>\n",
       "      <td>4.0</td>\n",
       "      <td>4.094365</td>\n",
       "    </tr>\n",
       "    <tr>\n",
       "      <th>46</th>\n",
       "      <td>4.0</td>\n",
       "      <td>5.000000</td>\n",
       "    </tr>\n",
       "    <tr>\n",
       "      <th>47</th>\n",
       "      <td>2.0</td>\n",
       "      <td>3.628132</td>\n",
       "    </tr>\n",
       "    <tr>\n",
       "      <th>48</th>\n",
       "      <td>2.0</td>\n",
       "      <td>2.999928</td>\n",
       "    </tr>\n",
       "    <tr>\n",
       "      <th>49</th>\n",
       "      <td>4.0</td>\n",
       "      <td>3.996413</td>\n",
       "    </tr>\n",
       "  </tbody>\n",
       "</table>\n",
       "</div>"
      ],
      "text/plain": [
       "    real  prediction\n",
       "0    5.0    3.971718\n",
       "1    5.0    4.167025\n",
       "2    3.0    4.129578\n",
       "3    3.0    3.158442\n",
       "4    4.0    4.002030\n",
       "5    4.0    4.073769\n",
       "6    4.0    2.992556\n",
       "7    5.0    4.038979\n",
       "8    4.0    2.709585\n",
       "9    3.0    3.930278\n",
       "10   5.0    5.000000\n",
       "11   4.0    1.334146\n",
       "12   3.0    3.012070\n",
       "13   3.0    3.000901\n",
       "14   4.0    4.042531\n",
       "15   1.0    3.890057\n",
       "16   4.0    4.125822\n",
       "17   3.0    3.954269\n",
       "18   3.0    3.973825\n",
       "19   1.0    1.648393\n",
       "20   3.0    3.996470\n",
       "21   1.0    1.122869\n",
       "22   3.0    2.845374\n",
       "23   4.0    3.998774\n",
       "24   5.0    4.999962\n",
       "25   5.0    3.966681\n",
       "26   5.0    3.001816\n",
       "27   3.0    3.005208\n",
       "28   3.0    3.975162\n",
       "29   4.0    2.999113\n",
       "30   1.0    1.163323\n",
       "31   1.0    1.007043\n",
       "32   4.0    4.945111\n",
       "33   3.0    3.003648\n",
       "34   3.0    2.204344\n",
       "35   4.0    4.022755\n",
       "36   4.0    5.000000\n",
       "37   4.0    3.524417\n",
       "38   2.0    3.982505\n",
       "39   2.0    3.006182\n",
       "40   4.0    3.970128\n",
       "41   3.0    1.266862\n",
       "42   5.0    4.015831\n",
       "43   3.0    3.844338\n",
       "44   3.0    3.008157\n",
       "45   4.0    4.094365\n",
       "46   4.0    5.000000\n",
       "47   2.0    3.628132\n",
       "48   2.0    2.999928\n",
       "49   4.0    3.996413"
      ]
     },
     "execution_count": 78,
     "metadata": {},
     "output_type": "execute_result"
    },
    {
     "name": "stderr",
     "output_type": "stream",
     "text": [
      "100%|██████████| 1166/1166 [00:19<00:00, 190.84it/s]"
     ]
    }
   ],
   "source": [
    "\"\"\"show result: the model seems very good\"\"\"\n",
    "prediction.iloc[:50]"
   ]
  },
  {
   "cell_type": "code",
   "execution_count": null,
   "metadata": {},
   "outputs": [],
   "source": []
  }
 ],
 "metadata": {
  "kernelspec": {
   "display_name": "torch",
   "language": "python",
   "name": "python3"
  },
  "language_info": {
   "codemirror_mode": {
    "name": "ipython",
    "version": 3
   },
   "file_extension": ".py",
   "mimetype": "text/x-python",
   "name": "python",
   "nbconvert_exporter": "python",
   "pygments_lexer": "ipython3",
   "version": "3.11.3"
  },
  "orig_nbformat": 4
 },
 "nbformat": 4,
 "nbformat_minor": 2
}
