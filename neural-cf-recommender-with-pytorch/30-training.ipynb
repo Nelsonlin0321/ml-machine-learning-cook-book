{
 "cells": [
  {
   "cell_type": "code",
   "execution_count": 1,
   "metadata": {},
   "outputs": [],
   "source": [
    "%load_ext autoreload\n",
    "%autoreload 2"
   ]
  },
  {
   "cell_type": "code",
   "execution_count": 2,
   "metadata": {},
   "outputs": [],
   "source": [
    "import os\n",
    "import utils\n",
    "import torch\n",
    "import random\n",
    "import mlflow\n",
    "import dotenv\n",
    "import pandas as pd\n",
    "import numpy as np\n",
    "from tqdm import tqdm\n",
    "from sklearn import metrics\n",
    "from model import NeuMF\n",
    "from dataset import RatingDataset\n",
    "from torch.utils.data import DataLoader"
   ]
  },
  {
   "cell_type": "code",
   "execution_count": 3,
   "metadata": {},
   "outputs": [],
   "source": [
    "torch.manual_seed(0)\n",
    "random.seed(0)\n",
    "np.random.seed(0)"
   ]
  },
  {
   "cell_type": "code",
   "execution_count": 4,
   "metadata": {},
   "outputs": [],
   "source": [
    "TRACKING_URL = \"http://175.41.182.223:5050/\"\n",
    "EXPERIMENT_NAME =\"movielens-rating-recommender\""
   ]
  },
  {
   "cell_type": "code",
   "execution_count": 5,
   "metadata": {},
   "outputs": [
    {
     "data": {
      "text/plain": [
       "True"
      ]
     },
     "execution_count": 5,
     "metadata": {},
     "output_type": "execute_result"
    }
   ],
   "source": [
    "dotenv.load_dotenv(\"./.env\")"
   ]
  },
  {
   "attachments": {},
   "cell_type": "markdown",
   "metadata": {},
   "source": [
    "## (1) Load Artifacts"
   ]
  },
  {
   "cell_type": "code",
   "execution_count": 6,
   "metadata": {},
   "outputs": [],
   "source": [
    "use_id_map_pkl_file = \"./artifacts/user_id_map_dict.pkl\"\n",
    "user_id_map_dict = utils.open_object(use_id_map_pkl_file)\n",
    "\n",
    "movie_id_map_pkl_file = \"./artifacts/movie_id_map_dict.pkl\"\n",
    "movie_id_map_dict = utils.open_object(movie_id_map_pkl_file)\n",
    "\n",
    "\n",
    "genres_map_pkl_file = \"./artifacts/genres_map_dict.pkl\"\n",
    "genres_map_dict = utils.open_object(genres_map_pkl_file)\n"
   ]
  },
  {
   "cell_type": "code",
   "execution_count": 7,
   "metadata": {},
   "outputs": [],
   "source": [
    "num_user = len(user_id_map_dict)\n",
    "num_movie = len(movie_id_map_dict)\n",
    "num_genre = len(genres_map_dict)"
   ]
  },
  {
   "attachments": {},
   "cell_type": "markdown",
   "metadata": {},
   "source": [
    "## (2) Parameter"
   ]
  },
  {
   "cell_type": "code",
   "execution_count": 8,
   "metadata": {},
   "outputs": [],
   "source": [
    "config_dict={}\n",
    "config_dict['num_user'] = num_user \n",
    "config_dict['num_item'] = num_movie \n",
    "config_dict['num_genre'] = num_genre\n",
    "config_dict['latent_dim_mlp'] =  128\n",
    "config_dict['latent_dim_mf']=config_dict['latent_dim_mlp']\n",
    "config_dict['layers'] = [config_dict['latent_dim_mf']*2]+[32]\n",
    "config_dict['num_layers'] = len(config_dict['layers'])\n",
    "config_dict['dropout_rate_mf']=0.7\n",
    "config_dict['dropout_rate_mlp']=0.7\n",
    "config_dict['batch_size']=64\n",
    "config_dict['epoches']=8\n",
    "config_dict['eval_steps']=500\n",
    "config_dict['use_xavier_uniform']=False\n",
    "config_dict['learning_rate']=0.0002"
   ]
  },
  {
   "cell_type": "code",
   "execution_count": 9,
   "metadata": {},
   "outputs": [
    {
     "data": {
      "text/plain": [
       "{'num_user': 611,\n",
       " 'num_item': 9725,\n",
       " 'num_genre': 21,\n",
       " 'latent_dim_mlp': 128,\n",
       " 'latent_dim_mf': 128,\n",
       " 'layers': [256, 32],\n",
       " 'num_layers': 2,\n",
       " 'dropout_rate_mf': 0.7,\n",
       " 'dropout_rate_mlp': 0.7,\n",
       " 'batch_size': 64,\n",
       " 'epoches': 8,\n",
       " 'eval_steps': 500,\n",
       " 'use_xavier_uniform': False,\n",
       " 'learning_rate': 0.0002}"
      ]
     },
     "execution_count": 9,
     "metadata": {},
     "output_type": "execute_result"
    }
   ],
   "source": [
    "config_dict"
   ]
  },
  {
   "cell_type": "code",
   "execution_count": 10,
   "metadata": {},
   "outputs": [],
   "source": [
    "class Config:\n",
    "    def __init__(self, dictionary):\n",
    "        for key, value in dictionary.items():\n",
    "            setattr(self, key, value)"
   ]
  },
  {
   "attachments": {},
   "cell_type": "markdown",
   "metadata": {},
   "source": [
    "## (3) Build Model"
   ]
  },
  {
   "cell_type": "code",
   "execution_count": 11,
   "metadata": {},
   "outputs": [],
   "source": [
    "config = Config(dictionary=config_dict)"
   ]
  },
  {
   "cell_type": "code",
   "execution_count": 12,
   "metadata": {},
   "outputs": [],
   "source": [
    "model = NeuMF(config=config)"
   ]
  },
  {
   "attachments": {},
   "cell_type": "markdown",
   "metadata": {},
   "source": [
    "## (4) Load Data"
   ]
  },
  {
   "cell_type": "code",
   "execution_count": 13,
   "metadata": {},
   "outputs": [],
   "source": [
    "df_train = pd.read_parquet(\"./data/train.parquet\")\n",
    "df_test = pd.read_parquet(\"./data/test.parquet\")"
   ]
  },
  {
   "cell_type": "code",
   "execution_count": 14,
   "metadata": {},
   "outputs": [],
   "source": [
    "train_dataset = RatingDataset(data=df_train)\n",
    "test_dataset = RatingDataset(data=df_test)"
   ]
  },
  {
   "cell_type": "code",
   "execution_count": 15,
   "metadata": {},
   "outputs": [
    {
     "data": {
      "text/plain": [
       "{'user_embed_id': tensor([ 64, 141, 385, 182,  73,  63, 504,   9,  23, 309]),\n",
       " 'movie_embed_id': tensor([1887,  876,   72,   90, 3541,  181,  429,   71, 2070, 2050]),\n",
       " 'rating': tensor([0.5556, 0.8889, 1.0000, 0.6667, 0.3333, 1.0000, 0.7778, 1.0000, 0.5556,\n",
       "         0.7778])}"
      ]
     },
     "execution_count": 15,
     "metadata": {},
     "output_type": "execute_result"
    }
   ],
   "source": [
    "train_dataset[:10]"
   ]
  },
  {
   "cell_type": "code",
   "execution_count": 16,
   "metadata": {},
   "outputs": [],
   "source": [
    "train_loader = DataLoader(\n",
    "    train_dataset, batch_size=config.batch_size, shuffle=True)\n",
    "test_loader = DataLoader(\n",
    "    test_dataset, batch_size=config.batch_size, shuffle=True)"
   ]
  },
  {
   "cell_type": "code",
   "execution_count": 17,
   "metadata": {},
   "outputs": [],
   "source": [
    "for sample in train_loader:\n",
    "    break"
   ]
  },
  {
   "cell_type": "code",
   "execution_count": 18,
   "metadata": {},
   "outputs": [],
   "source": [
    "with torch.no_grad():\n",
    "    outputs = model(\n",
    "        user_indices=sample['user_embed_id'],\n",
    "        item_indices=sample['movie_embed_id'])"
   ]
  },
  {
   "cell_type": "code",
   "execution_count": 19,
   "metadata": {},
   "outputs": [
    {
     "name": "stdout",
     "output_type": "stream",
     "text": [
      "tensor(0.6803)\n"
     ]
    }
   ],
   "source": [
    "loss_func = torch.nn.BCELoss()\n",
    "loss = loss_func(outputs, sample['rating'].view(-1, 1))\n",
    "print(loss)"
   ]
  },
  {
   "cell_type": "code",
   "execution_count": 20,
   "metadata": {},
   "outputs": [
    {
     "data": {
      "text/plain": [
       "0.08229361"
      ]
     },
     "execution_count": 20,
     "metadata": {},
     "output_type": "execute_result"
    }
   ],
   "source": [
    "metrics.mean_squared_error(outputs.numpy().flatten(),\n",
    "                           sample['rating'].numpy())"
   ]
  },
  {
   "attachments": {},
   "cell_type": "markdown",
   "metadata": {},
   "source": [
    "## (5) Trainning"
   ]
  },
  {
   "attachments": {},
   "cell_type": "markdown",
   "metadata": {},
   "source": [
    "#### Before Training"
   ]
  },
  {
   "cell_type": "code",
   "execution_count": 21,
   "metadata": {},
   "outputs": [],
   "source": [
    "from evaluation import evaluate"
   ]
  },
  {
   "cell_type": "code",
   "execution_count": 22,
   "metadata": {},
   "outputs": [
    {
     "name": "stderr",
     "output_type": "stream",
     "text": [
      "100%|██████████| 158/158 [00:00<00:00, 350.24it/s]\n"
     ]
    },
    {
     "data": {
      "text/plain": [
       "{'eval_loss': 0.6819753748706624, 'eval_mse': 0.07592893251809532}"
      ]
     },
     "execution_count": 22,
     "metadata": {},
     "output_type": "execute_result"
    }
   ],
   "source": [
    "evaluate(model,test_loader)"
   ]
  },
  {
   "cell_type": "code",
   "execution_count": 23,
   "metadata": {},
   "outputs": [],
   "source": [
    "optimizer = torch.optim.AdamW(model.parameters(),lr=config.learning_rate)"
   ]
  },
  {
   "cell_type": "code",
   "execution_count": 24,
   "metadata": {},
   "outputs": [],
   "source": [
    "total_batch = 0\n",
    "best_eval_loss =  float(\"inf\")\n",
    "best_checkpoint = 0"
   ]
  },
  {
   "cell_type": "code",
   "execution_count": 25,
   "metadata": {},
   "outputs": [],
   "source": [
    "from utils import save_model\n",
    "model_version='v1'"
   ]
  },
  {
   "cell_type": "code",
   "execution_count": 26,
   "metadata": {
    "scrolled": false
   },
   "outputs": [
    {
     "name": "stderr",
     "output_type": "stream",
     "text": [
      "100%|██████████| 158/158 [00:00<00:00, 353.86it/s] 123.54it/s]\n",
      "100%|██████████| 158/158 [00:00<00:00, 359.93it/s] 119.39it/s, eval_loss=0.624, eval_mse=0.048, best_eval_loss=0.624, train_loss=0.653, train_mse=0.062, steps=500, best_checkpoint=500]\n",
      "100%|██████████| 158/158 [00:00<00:00, 351.64it/s], 117.67it/s, eval_loss=0.614, eval_mse=0.044, best_eval_loss=0.614, train_loss=0.634, train_mse=0.053, steps=1000, best_checkpoint=1000]\n",
      "100%|██████████| 158/158 [00:00<00:00, 357.01it/s], 119.77it/s, eval_loss=0.61, eval_mse=0.042, best_eval_loss=0.61, train_loss=0.601, train_mse=0.038, steps=1500, best_checkpoint=1500]  \n",
      "100%|██████████| 158/158 [00:00<00:00, 325.76it/s], 126.49it/s, eval_loss=0.609, eval_mse=0.042, best_eval_loss=0.609, train_loss=0.601, train_mse=0.038, steps=2000, best_checkpoint=2000]\n",
      "100%|██████████| 158/158 [00:00<00:00, 358.81it/s], 118.99it/s, eval_loss=0.608, eval_mse=0.041, best_eval_loss=0.608, train_loss=0.602, train_mse=0.038, steps=2500, best_checkpoint=2500]\n",
      "100%|██████████| 158/158 [00:00<00:00, 356.53it/s], 117.26it/s, eval_loss=0.608, eval_mse=0.041, best_eval_loss=0.608, train_loss=0.597, train_mse=0.036, steps=3000, best_checkpoint=2500]\n",
      "100%|██████████| 158/158 [00:00<00:00, 356.47it/s], 124.48it/s, eval_loss=0.608, eval_mse=0.041, best_eval_loss=0.608, train_loss=0.596, train_mse=0.036, steps=3500, best_checkpoint=3500]\n",
      "100%|██████████| 158/158 [00:00<00:00, 357.85it/s], 116.79it/s, eval_loss=0.607, eval_mse=0.04, best_eval_loss=0.607, train_loss=0.597, train_mse=0.036, steps=4000, best_checkpoint=4000] \n",
      "100%|██████████| 158/158 [00:00<00:00, 357.42it/s], 120.30it/s, eval_loss=0.608, eval_mse=0.041, best_eval_loss=0.607, train_loss=0.593, train_mse=0.034, steps=4500, best_checkpoint=4000]\n",
      "100%|██████████| 158/158 [00:00<00:00, 358.16it/s], 122.89it/s, eval_loss=0.607, eval_mse=0.04, best_eval_loss=0.607, train_loss=0.592, train_mse=0.034, steps=5000, best_checkpoint=4000] \n",
      "100%|██████████| 158/158 [00:00<00:00, 356.95it/s], 123.71it/s, eval_loss=0.607, eval_mse=0.04, best_eval_loss=0.607, train_loss=0.594, train_mse=0.035, steps=5500, best_checkpoint=5500]\n",
      "100%|██████████| 158/158 [00:00<00:00, 346.53it/s], 124.78it/s, eval_loss=0.607, eval_mse=0.04, best_eval_loss=0.607, train_loss=0.59, train_mse=0.033, steps=6000, best_checkpoint=6000] \n",
      "100%|██████████| 158/158 [00:00<00:00, 354.82it/s], 125.07it/s, eval_loss=0.605, eval_mse=0.04, best_eval_loss=0.605, train_loss=0.589, train_mse=0.033, steps=6500, best_checkpoint=6500]\n",
      "100%|██████████| 158/158 [00:00<00:00, 341.87it/s], 115.57it/s, eval_loss=0.606, eval_mse=0.04, best_eval_loss=0.605, train_loss=0.591, train_mse=0.033, steps=7000, best_checkpoint=6500]\n",
      "100%|██████████| 158/158 [00:00<00:00, 355.98it/s], 122.69it/s, eval_loss=0.606, eval_mse=0.04, best_eval_loss=0.605, train_loss=0.587, train_mse=0.032, steps=7500, best_checkpoint=6500]\n",
      "100%|██████████| 158/158 [00:00<00:00, 339.08it/s], 126.24it/s, eval_loss=0.606, eval_mse=0.04, best_eval_loss=0.605, train_loss=0.587, train_mse=0.032, steps=8000, best_checkpoint=6500]\n",
      "100%|██████████| 158/158 [00:00<00:00, 355.19it/s], 110.81it/s, eval_loss=0.606, eval_mse=0.04, best_eval_loss=0.605, train_loss=0.588, train_mse=0.032, steps=8500, best_checkpoint=6500]\n",
      "100%|██████████| 158/158 [00:00<00:00, 347.72it/s], 114.91it/s, eval_loss=0.606, eval_mse=0.04, best_eval_loss=0.605, train_loss=0.582, train_mse=0.03, steps=9000, best_checkpoint=6500] \n",
      "100%|██████████| 158/158 [00:00<00:00, 346.94it/s], 118.62it/s, eval_loss=0.605, eval_mse=0.04, best_eval_loss=0.605, train_loss=0.583, train_mse=0.03, steps=9500, best_checkpoint=6500]\n",
      "100%|██████████| 158/158 [00:00<00:00, 355.38it/s]6, 123.74it/s, eval_loss=0.606, eval_mse=0.04, best_eval_loss=0.605, train_loss=0.577, train_mse=0.028, steps=1e+4, best_checkpoint=6500]\n",
      "100%|██████████| 158/158 [00:00<00:00, 356.30it/s]2, 120.81it/s, eval_loss=0.606, eval_mse=0.04, best_eval_loss=0.605, train_loss=0.581, train_mse=0.029, steps=10500, best_checkpoint=6500]\n",
      "Training: 100%|██████████| 11344/11344 [02:36<00:00, 72.63it/s, eval_loss=0.605, eval_mse=0.04, best_eval_loss=0.605, train_loss=0.579, train_mse=0.029, steps=11000, best_checkpoint=6500] \n"
     ]
    }
   ],
   "source": [
    "# Train\n",
    "total_pbar = tqdm(total=len(train_loader)*config.epoches,\n",
    "                  desc=\"Training\", position=0, leave=True)\n",
    "\n",
    "metrics_list = []\n",
    "\n",
    "mlflow.set_tracking_uri(TRACKING_URL)\n",
    "mlflow.set_experiment(EXPERIMENT_NAME)\n",
    "\n",
    "with mlflow.start_run():\n",
    "    mlflow.set_tag(\"algorithm\",'neural-cf')\n",
    "    mlflow.log_params(config_dict)\n",
    "    mlflow.log_artifact(\"./model.py\", artifact_path=\"model\")\n",
    "#     mlflow.log_artifact(movie_id_map_pkl_file, artifact_path=\"artifacts\")\n",
    "#     mlflow.log_artifact(genres_map_pkl_file, artifact_path=\"artifacts\")\n",
    "\n",
    "    for epoch in range(config.epoches):\n",
    "        # print(\"*\"*50 + f\"epoch: {epoch + 1}\" + \"*\"*50)\n",
    "\n",
    "        train_loss_list = []\n",
    "        prob_list = []\n",
    "        rating_list = []\n",
    "\n",
    "        for inputs in train_loader:\n",
    "            model = model.train()\n",
    "            optimizer.zero_grad()\n",
    "            probs = model(\n",
    "                user_indices=inputs['user_embed_id'],\n",
    "                item_indices=inputs['movie_embed_id']\n",
    "            )\n",
    "            rating = inputs['rating'].view(-1, 1)\n",
    "\n",
    "            loss = loss_func(probs, rating)\n",
    "            loss.backward()\n",
    "            optimizer.step()\n",
    "            train_loss_list.append(loss.item())\n",
    "\n",
    "            probs = probs.detach().cpu().numpy().flatten().tolist()\n",
    "            prob_list.extend(probs)\n",
    "            rating = rating.numpy().flatten().tolist()\n",
    "            rating_list.extend(rating)\n",
    "\n",
    "            if (total_batch+1) % config.eval_steps == 0:\n",
    "\n",
    "                improve = False\n",
    "                model_metrics = evaluate(model, test_loader)\n",
    "                eval_loss = model_metrics['eval_loss']\n",
    "\n",
    "                if eval_loss <= best_eval_loss:\n",
    "                    improve = True\n",
    "                    best_checkpoint = total_batch+1\n",
    "                    best_eval_loss = eval_loss\n",
    "\n",
    "                train_loss = np.mean(train_loss_list)\n",
    "                \n",
    "                model_metrics['best_eval_loss'] = best_eval_loss\n",
    "                model_metrics['train_loss'] = train_loss\n",
    "                model_metrics['train_mse'] = metrics.mean_squared_error(\n",
    "                    rating_list, prob_list)\n",
    "                model_metrics[\"steps\"] = total_batch+1\n",
    "                model_metrics[\"best_checkpoint\"] = best_checkpoint\n",
    "                metrics_list.append(model_metrics)\n",
    "                for metrics_name,metrics_value in model_metrics.items():\n",
    "                    mlflow.log_metric(metrics_name,metrics_value)\n",
    "                    \n",
    "                if improve:\n",
    "                    save_dir = os.path.join(\"model\", model_version)\n",
    "                    os.makedirs(save_dir, exist_ok=True)\n",
    "                    model_path = save_model(model, save_dir, total_batch+1, model_metrics)\n",
    "                    mlflow.log_artifact(model_path, artifact_path=\"model\")\n",
    "                \n",
    "                post_fix_message = {k:round(v,3) for k,v in model_metrics.items()}\n",
    "                total_pbar.set_postfix(post_fix_message)\n",
    "\n",
    "                # df_metrics_temp = pd.DataFrame([model_metrics])\n",
    "                # display(df_metrics_temp)\n",
    "\n",
    "                model = model.train()\n",
    "\n",
    "            total_batch += 1\n",
    "            total_pbar.update(1)\n",
    "\n",
    "        model = model.train()\n",
    "\n",
    "    total_pbar.close()"
   ]
  },
  {
   "cell_type": "code",
   "execution_count": 27,
   "metadata": {},
   "outputs": [
    {
     "data": {
      "text/html": [
       "<div>\n",
       "<style scoped>\n",
       "    .dataframe tbody tr th:only-of-type {\n",
       "        vertical-align: middle;\n",
       "    }\n",
       "\n",
       "    .dataframe tbody tr th {\n",
       "        vertical-align: top;\n",
       "    }\n",
       "\n",
       "    .dataframe thead th {\n",
       "        text-align: right;\n",
       "    }\n",
       "</style>\n",
       "<table border=\"1\" class=\"dataframe\">\n",
       "  <thead>\n",
       "    <tr style=\"text-align: right;\">\n",
       "      <th></th>\n",
       "      <th>eval_loss</th>\n",
       "      <th>eval_mse</th>\n",
       "      <th>best_eval_loss</th>\n",
       "      <th>train_loss</th>\n",
       "      <th>train_mse</th>\n",
       "      <th>steps</th>\n",
       "      <th>best_checkpoint</th>\n",
       "    </tr>\n",
       "  </thead>\n",
       "  <tbody>\n",
       "    <tr>\n",
       "      <th>0</th>\n",
       "      <td>0.623967</td>\n",
       "      <td>0.048185</td>\n",
       "      <td>0.623967</td>\n",
       "      <td>0.653208</td>\n",
       "      <td>0.061594</td>\n",
       "      <td>500</td>\n",
       "      <td>500</td>\n",
       "    </tr>\n",
       "    <tr>\n",
       "      <th>1</th>\n",
       "      <td>0.614309</td>\n",
       "      <td>0.043752</td>\n",
       "      <td>0.614309</td>\n",
       "      <td>0.633709</td>\n",
       "      <td>0.052939</td>\n",
       "      <td>1000</td>\n",
       "      <td>1000</td>\n",
       "    </tr>\n",
       "    <tr>\n",
       "      <th>2</th>\n",
       "      <td>0.610280</td>\n",
       "      <td>0.041951</td>\n",
       "      <td>0.610280</td>\n",
       "      <td>0.601109</td>\n",
       "      <td>0.038011</td>\n",
       "      <td>1500</td>\n",
       "      <td>1500</td>\n",
       "    </tr>\n",
       "    <tr>\n",
       "      <th>3</th>\n",
       "      <td>0.609429</td>\n",
       "      <td>0.041610</td>\n",
       "      <td>0.609429</td>\n",
       "      <td>0.601280</td>\n",
       "      <td>0.037776</td>\n",
       "      <td>2000</td>\n",
       "      <td>2000</td>\n",
       "    </tr>\n",
       "    <tr>\n",
       "      <th>4</th>\n",
       "      <td>0.608044</td>\n",
       "      <td>0.040979</td>\n",
       "      <td>0.608044</td>\n",
       "      <td>0.601682</td>\n",
       "      <td>0.038067</td>\n",
       "      <td>2500</td>\n",
       "      <td>2500</td>\n",
       "    </tr>\n",
       "    <tr>\n",
       "      <th>5</th>\n",
       "      <td>0.608207</td>\n",
       "      <td>0.040911</td>\n",
       "      <td>0.608044</td>\n",
       "      <td>0.597449</td>\n",
       "      <td>0.035571</td>\n",
       "      <td>3000</td>\n",
       "      <td>2500</td>\n",
       "    </tr>\n",
       "    <tr>\n",
       "      <th>6</th>\n",
       "      <td>0.607952</td>\n",
       "      <td>0.040782</td>\n",
       "      <td>0.607952</td>\n",
       "      <td>0.596439</td>\n",
       "      <td>0.035649</td>\n",
       "      <td>3500</td>\n",
       "      <td>3500</td>\n",
       "    </tr>\n",
       "    <tr>\n",
       "      <th>7</th>\n",
       "      <td>0.606884</td>\n",
       "      <td>0.040486</td>\n",
       "      <td>0.606884</td>\n",
       "      <td>0.596816</td>\n",
       "      <td>0.035954</td>\n",
       "      <td>4000</td>\n",
       "      <td>4000</td>\n",
       "    </tr>\n",
       "    <tr>\n",
       "      <th>8</th>\n",
       "      <td>0.607749</td>\n",
       "      <td>0.040833</td>\n",
       "      <td>0.606884</td>\n",
       "      <td>0.593372</td>\n",
       "      <td>0.034063</td>\n",
       "      <td>4500</td>\n",
       "      <td>4000</td>\n",
       "    </tr>\n",
       "    <tr>\n",
       "      <th>9</th>\n",
       "      <td>0.607009</td>\n",
       "      <td>0.040390</td>\n",
       "      <td>0.606884</td>\n",
       "      <td>0.592464</td>\n",
       "      <td>0.034119</td>\n",
       "      <td>5000</td>\n",
       "      <td>4000</td>\n",
       "    </tr>\n",
       "    <tr>\n",
       "      <th>10</th>\n",
       "      <td>0.606615</td>\n",
       "      <td>0.040249</td>\n",
       "      <td>0.606615</td>\n",
       "      <td>0.593606</td>\n",
       "      <td>0.034609</td>\n",
       "      <td>5500</td>\n",
       "      <td>5500</td>\n",
       "    </tr>\n",
       "    <tr>\n",
       "      <th>11</th>\n",
       "      <td>0.606579</td>\n",
       "      <td>0.040142</td>\n",
       "      <td>0.606579</td>\n",
       "      <td>0.590091</td>\n",
       "      <td>0.032784</td>\n",
       "      <td>6000</td>\n",
       "      <td>6000</td>\n",
       "    </tr>\n",
       "    <tr>\n",
       "      <th>12</th>\n",
       "      <td>0.605102</td>\n",
       "      <td>0.039744</td>\n",
       "      <td>0.605102</td>\n",
       "      <td>0.589379</td>\n",
       "      <td>0.032953</td>\n",
       "      <td>6500</td>\n",
       "      <td>6500</td>\n",
       "    </tr>\n",
       "    <tr>\n",
       "      <th>13</th>\n",
       "      <td>0.605853</td>\n",
       "      <td>0.040040</td>\n",
       "      <td>0.605102</td>\n",
       "      <td>0.590584</td>\n",
       "      <td>0.033452</td>\n",
       "      <td>7000</td>\n",
       "      <td>6500</td>\n",
       "    </tr>\n",
       "    <tr>\n",
       "      <th>14</th>\n",
       "      <td>0.606341</td>\n",
       "      <td>0.040150</td>\n",
       "      <td>0.605102</td>\n",
       "      <td>0.587187</td>\n",
       "      <td>0.031757</td>\n",
       "      <td>7500</td>\n",
       "      <td>6500</td>\n",
       "    </tr>\n",
       "    <tr>\n",
       "      <th>15</th>\n",
       "      <td>0.605674</td>\n",
       "      <td>0.039908</td>\n",
       "      <td>0.605102</td>\n",
       "      <td>0.586878</td>\n",
       "      <td>0.031967</td>\n",
       "      <td>8000</td>\n",
       "      <td>6500</td>\n",
       "    </tr>\n",
       "    <tr>\n",
       "      <th>16</th>\n",
       "      <td>0.605998</td>\n",
       "      <td>0.039986</td>\n",
       "      <td>0.605102</td>\n",
       "      <td>0.587513</td>\n",
       "      <td>0.032049</td>\n",
       "      <td>8500</td>\n",
       "      <td>6500</td>\n",
       "    </tr>\n",
       "    <tr>\n",
       "      <th>17</th>\n",
       "      <td>0.605516</td>\n",
       "      <td>0.039704</td>\n",
       "      <td>0.605102</td>\n",
       "      <td>0.582469</td>\n",
       "      <td>0.030061</td>\n",
       "      <td>9000</td>\n",
       "      <td>6500</td>\n",
       "    </tr>\n",
       "    <tr>\n",
       "      <th>18</th>\n",
       "      <td>0.605182</td>\n",
       "      <td>0.039763</td>\n",
       "      <td>0.605102</td>\n",
       "      <td>0.583137</td>\n",
       "      <td>0.030329</td>\n",
       "      <td>9500</td>\n",
       "      <td>6500</td>\n",
       "    </tr>\n",
       "    <tr>\n",
       "      <th>19</th>\n",
       "      <td>0.606090</td>\n",
       "      <td>0.040111</td>\n",
       "      <td>0.605102</td>\n",
       "      <td>0.576813</td>\n",
       "      <td>0.028367</td>\n",
       "      <td>10000</td>\n",
       "      <td>6500</td>\n",
       "    </tr>\n",
       "    <tr>\n",
       "      <th>20</th>\n",
       "      <td>0.605837</td>\n",
       "      <td>0.040019</td>\n",
       "      <td>0.605102</td>\n",
       "      <td>0.580638</td>\n",
       "      <td>0.028664</td>\n",
       "      <td>10500</td>\n",
       "      <td>6500</td>\n",
       "    </tr>\n",
       "    <tr>\n",
       "      <th>21</th>\n",
       "      <td>0.605292</td>\n",
       "      <td>0.039806</td>\n",
       "      <td>0.605102</td>\n",
       "      <td>0.578935</td>\n",
       "      <td>0.028890</td>\n",
       "      <td>11000</td>\n",
       "      <td>6500</td>\n",
       "    </tr>\n",
       "  </tbody>\n",
       "</table>\n",
       "</div>"
      ],
      "text/plain": [
       "    eval_loss  eval_mse  best_eval_loss  train_loss  train_mse  steps  \\\n",
       "0    0.623967  0.048185        0.623967    0.653208   0.061594    500   \n",
       "1    0.614309  0.043752        0.614309    0.633709   0.052939   1000   \n",
       "2    0.610280  0.041951        0.610280    0.601109   0.038011   1500   \n",
       "3    0.609429  0.041610        0.609429    0.601280   0.037776   2000   \n",
       "4    0.608044  0.040979        0.608044    0.601682   0.038067   2500   \n",
       "5    0.608207  0.040911        0.608044    0.597449   0.035571   3000   \n",
       "6    0.607952  0.040782        0.607952    0.596439   0.035649   3500   \n",
       "7    0.606884  0.040486        0.606884    0.596816   0.035954   4000   \n",
       "8    0.607749  0.040833        0.606884    0.593372   0.034063   4500   \n",
       "9    0.607009  0.040390        0.606884    0.592464   0.034119   5000   \n",
       "10   0.606615  0.040249        0.606615    0.593606   0.034609   5500   \n",
       "11   0.606579  0.040142        0.606579    0.590091   0.032784   6000   \n",
       "12   0.605102  0.039744        0.605102    0.589379   0.032953   6500   \n",
       "13   0.605853  0.040040        0.605102    0.590584   0.033452   7000   \n",
       "14   0.606341  0.040150        0.605102    0.587187   0.031757   7500   \n",
       "15   0.605674  0.039908        0.605102    0.586878   0.031967   8000   \n",
       "16   0.605998  0.039986        0.605102    0.587513   0.032049   8500   \n",
       "17   0.605516  0.039704        0.605102    0.582469   0.030061   9000   \n",
       "18   0.605182  0.039763        0.605102    0.583137   0.030329   9500   \n",
       "19   0.606090  0.040111        0.605102    0.576813   0.028367  10000   \n",
       "20   0.605837  0.040019        0.605102    0.580638   0.028664  10500   \n",
       "21   0.605292  0.039806        0.605102    0.578935   0.028890  11000   \n",
       "\n",
       "    best_checkpoint  \n",
       "0               500  \n",
       "1              1000  \n",
       "2              1500  \n",
       "3              2000  \n",
       "4              2500  \n",
       "5              2500  \n",
       "6              3500  \n",
       "7              4000  \n",
       "8              4000  \n",
       "9              4000  \n",
       "10             5500  \n",
       "11             6000  \n",
       "12             6500  \n",
       "13             6500  \n",
       "14             6500  \n",
       "15             6500  \n",
       "16             6500  \n",
       "17             6500  \n",
       "18             6500  \n",
       "19             6500  \n",
       "20             6500  \n",
       "21             6500  "
      ]
     },
     "execution_count": 27,
     "metadata": {},
     "output_type": "execute_result"
    }
   ],
   "source": [
    "df_metrics = pd.DataFrame(metrics_list)\n",
    "df_metrics"
   ]
  },
  {
   "cell_type": "code",
   "execution_count": 28,
   "metadata": {},
   "outputs": [],
   "source": [
    "df_metrics = df_metrics.set_index(\"steps\")"
   ]
  },
  {
   "cell_type": "code",
   "execution_count": 29,
   "metadata": {},
   "outputs": [
    {
     "data": {
      "text/plain": [
       "<Axes: xlabel='steps'>"
      ]
     },
     "execution_count": 29,
     "metadata": {},
     "output_type": "execute_result"
    },
    {
     "data": {
      "image/png": "[encoded data removed]",
      "text/plain": [
       "<Figure size 640x480 with 1 Axes>"
      ]
     },
     "metadata": {},
     "output_type": "display_data"
    },
    {
     "data": {
      "image/png": "[encoded data removed]",
      "text/plain": [
       "<Figure size 640x480 with 1 Axes>"
      ]
     },
     "metadata": {},
     "output_type": "display_data"
    }
   ],
   "source": [
    "# fig, ax = plt.subplots(figsize=(20,10)) \n",
    "df_metrics[['eval_loss','train_loss']].plot() \n",
    "df_metrics[['eval_mse','train_mse']].plot() \n",
    "# df.plot(x = 'day', y = 'humidity', ax = ax, secondary_y = True) "
   ]
  },
  {
   "cell_type": "code",
   "execution_count": 31,
   "metadata": {},
   "outputs": [],
   "source": [
    "for inputs in test_loader:\n",
    "    with torch.no_grad():\n",
    "        probs = model(\n",
    "            user_indices=inputs['user_embed_id'],\n",
    "            item_indices=inputs['movie_embed_id']\n",
    "            )\n",
    "        \n",
    "        rating = inputs['rating'].view(-1,1)\n",
    "    break"
   ]
  },
  {
   "cell_type": "code",
   "execution_count": 32,
   "metadata": {},
   "outputs": [],
   "source": [
    "min_max_scaler = utils.open_object(\"./artifacts/rating_min_max_scaler.pkl\")"
   ]
  },
  {
   "cell_type": "code",
   "execution_count": 36,
   "metadata": {},
   "outputs": [],
   "source": [
    "df_pred = pd.DataFrame(min_max_scaler.inverse_transform(probs),columns=['predicted_rating'])\n",
    "df_real = pd.DataFrame(min_max_scaler.inverse_transform(rating),columns=['real_rating'])"
   ]
  },
  {
   "cell_type": "code",
   "execution_count": 40,
   "metadata": {},
   "outputs": [
    {
     "data": {
      "text/html": [
       "<div>\n",
       "<style scoped>\n",
       "    .dataframe tbody tr th:only-of-type {\n",
       "        vertical-align: middle;\n",
       "    }\n",
       "\n",
       "    .dataframe tbody tr th {\n",
       "        vertical-align: top;\n",
       "    }\n",
       "\n",
       "    .dataframe thead th {\n",
       "        text-align: right;\n",
       "    }\n",
       "</style>\n",
       "<table border=\"1\" class=\"dataframe\">\n",
       "  <thead>\n",
       "    <tr style=\"text-align: right;\">\n",
       "      <th></th>\n",
       "      <th>real_rating</th>\n",
       "      <th>predicted_rating</th>\n",
       "    </tr>\n",
       "  </thead>\n",
       "  <tbody>\n",
       "    <tr>\n",
       "      <th>0</th>\n",
       "      <td>3.0</td>\n",
       "      <td>3.738782</td>\n",
       "    </tr>\n",
       "    <tr>\n",
       "      <th>1</th>\n",
       "      <td>4.0</td>\n",
       "      <td>4.011869</td>\n",
       "    </tr>\n",
       "    <tr>\n",
       "      <th>2</th>\n",
       "      <td>3.0</td>\n",
       "      <td>3.273822</td>\n",
       "    </tr>\n",
       "    <tr>\n",
       "      <th>3</th>\n",
       "      <td>4.0</td>\n",
       "      <td>4.123505</td>\n",
       "    </tr>\n",
       "    <tr>\n",
       "      <th>4</th>\n",
       "      <td>3.0</td>\n",
       "      <td>2.920729</td>\n",
       "    </tr>\n",
       "    <tr>\n",
       "      <th>5</th>\n",
       "      <td>4.0</td>\n",
       "      <td>3.337671</td>\n",
       "    </tr>\n",
       "    <tr>\n",
       "      <th>6</th>\n",
       "      <td>3.5</td>\n",
       "      <td>3.168511</td>\n",
       "    </tr>\n",
       "    <tr>\n",
       "      <th>7</th>\n",
       "      <td>5.0</td>\n",
       "      <td>4.240352</td>\n",
       "    </tr>\n",
       "    <tr>\n",
       "      <th>8</th>\n",
       "      <td>1.0</td>\n",
       "      <td>2.990540</td>\n",
       "    </tr>\n",
       "    <tr>\n",
       "      <th>9</th>\n",
       "      <td>2.5</td>\n",
       "      <td>2.966626</td>\n",
       "    </tr>\n",
       "    <tr>\n",
       "      <th>10</th>\n",
       "      <td>4.0</td>\n",
       "      <td>3.531586</td>\n",
       "    </tr>\n",
       "    <tr>\n",
       "      <th>11</th>\n",
       "      <td>4.0</td>\n",
       "      <td>3.660073</td>\n",
       "    </tr>\n",
       "    <tr>\n",
       "      <th>12</th>\n",
       "      <td>3.5</td>\n",
       "      <td>3.214863</td>\n",
       "    </tr>\n",
       "    <tr>\n",
       "      <th>13</th>\n",
       "      <td>3.0</td>\n",
       "      <td>1.973546</td>\n",
       "    </tr>\n",
       "    <tr>\n",
       "      <th>14</th>\n",
       "      <td>1.0</td>\n",
       "      <td>3.728151</td>\n",
       "    </tr>\n",
       "    <tr>\n",
       "      <th>15</th>\n",
       "      <td>3.0</td>\n",
       "      <td>2.492469</td>\n",
       "    </tr>\n",
       "    <tr>\n",
       "      <th>16</th>\n",
       "      <td>1.0</td>\n",
       "      <td>2.189479</td>\n",
       "    </tr>\n",
       "    <tr>\n",
       "      <th>17</th>\n",
       "      <td>3.0</td>\n",
       "      <td>2.699042</td>\n",
       "    </tr>\n",
       "    <tr>\n",
       "      <th>18</th>\n",
       "      <td>4.0</td>\n",
       "      <td>3.647256</td>\n",
       "    </tr>\n",
       "    <tr>\n",
       "      <th>19</th>\n",
       "      <td>4.0</td>\n",
       "      <td>3.859349</td>\n",
       "    </tr>\n",
       "    <tr>\n",
       "      <th>20</th>\n",
       "      <td>5.0</td>\n",
       "      <td>4.638881</td>\n",
       "    </tr>\n",
       "    <tr>\n",
       "      <th>21</th>\n",
       "      <td>3.0</td>\n",
       "      <td>3.143427</td>\n",
       "    </tr>\n",
       "    <tr>\n",
       "      <th>22</th>\n",
       "      <td>4.0</td>\n",
       "      <td>4.331073</td>\n",
       "    </tr>\n",
       "    <tr>\n",
       "      <th>23</th>\n",
       "      <td>1.0</td>\n",
       "      <td>2.620585</td>\n",
       "    </tr>\n",
       "    <tr>\n",
       "      <th>24</th>\n",
       "      <td>4.0</td>\n",
       "      <td>4.043177</td>\n",
       "    </tr>\n",
       "    <tr>\n",
       "      <th>25</th>\n",
       "      <td>3.0</td>\n",
       "      <td>3.704838</td>\n",
       "    </tr>\n",
       "    <tr>\n",
       "      <th>26</th>\n",
       "      <td>2.0</td>\n",
       "      <td>3.041337</td>\n",
       "    </tr>\n",
       "    <tr>\n",
       "      <th>27</th>\n",
       "      <td>2.0</td>\n",
       "      <td>3.277594</td>\n",
       "    </tr>\n",
       "    <tr>\n",
       "      <th>28</th>\n",
       "      <td>3.5</td>\n",
       "      <td>2.633464</td>\n",
       "    </tr>\n",
       "    <tr>\n",
       "      <th>29</th>\n",
       "      <td>1.5</td>\n",
       "      <td>2.597605</td>\n",
       "    </tr>\n",
       "    <tr>\n",
       "      <th>30</th>\n",
       "      <td>4.0</td>\n",
       "      <td>3.511676</td>\n",
       "    </tr>\n",
       "    <tr>\n",
       "      <th>31</th>\n",
       "      <td>3.5</td>\n",
       "      <td>3.424038</td>\n",
       "    </tr>\n",
       "  </tbody>\n",
       "</table>\n",
       "</div>"
      ],
      "text/plain": [
       "    real_rating  predicted_rating\n",
       "0           3.0          3.738782\n",
       "1           4.0          4.011869\n",
       "2           3.0          3.273822\n",
       "3           4.0          4.123505\n",
       "4           3.0          2.920729\n",
       "5           4.0          3.337671\n",
       "6           3.5          3.168511\n",
       "7           5.0          4.240352\n",
       "8           1.0          2.990540\n",
       "9           2.5          2.966626\n",
       "10          4.0          3.531586\n",
       "11          4.0          3.660073\n",
       "12          3.5          3.214863\n",
       "13          3.0          1.973546\n",
       "14          1.0          3.728151\n",
       "15          3.0          2.492469\n",
       "16          1.0          2.189479\n",
       "17          3.0          2.699042\n",
       "18          4.0          3.647256\n",
       "19          4.0          3.859349\n",
       "20          5.0          4.638881\n",
       "21          3.0          3.143427\n",
       "22          4.0          4.331073\n",
       "23          1.0          2.620585\n",
       "24          4.0          4.043177\n",
       "25          3.0          3.704838\n",
       "26          2.0          3.041337\n",
       "27          2.0          3.277594\n",
       "28          3.5          2.633464\n",
       "29          1.5          2.597605\n",
       "30          4.0          3.511676\n",
       "31          3.5          3.424038"
      ]
     },
     "execution_count": 40,
     "metadata": {},
     "output_type": "execute_result"
    }
   ],
   "source": [
    "pd.concat([df_real,df_pred],axis=1).iloc[:32]"
   ]
  },
  {
   "cell_type": "code",
   "execution_count": null,
   "metadata": {},
   "outputs": [],
   "source": []
  }
 ],
 "metadata": {
  "kernelspec": {
   "display_name": "Python 3 (ipykernel)",
   "language": "python",
   "name": "python3"
  },
  "language_info": {
   "codemirror_mode": {
    "name": "ipython",
    "version": 3
   },
   "file_extension": ".py",
   "mimetype": "text/x-python",
   "name": "python",
   "nbconvert_exporter": "python",
   "pygments_lexer": "ipython3",
   "version": "3.11.3"
  }
 },
 "nbformat": 4,
 "nbformat_minor": 2
}
